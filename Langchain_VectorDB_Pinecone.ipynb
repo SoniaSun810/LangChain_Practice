{
 "cells": [
  {
   "cell_type": "code",
   "execution_count": 3,
   "metadata": {},
   "outputs": [],
   "source": [
    "# or to use other formats, use the following after installing the required packages:\n",
    "from langchain.document_loaders import UnstructuredFileLoader"
   ]
  },
  {
   "cell_type": "markdown",
   "metadata": {},
   "source": [
    "## Use LangChain + Pinecone to Match Best TA Candidates for Each Course\n",
    "\n",
    "### Step 1 : Import LangChain CSVLoader and load the Students Information"
   ]
  },
  {
   "cell_type": "code",
   "execution_count": 57,
   "metadata": {},
   "outputs": [],
   "source": [
    "# 1. Importing langChain document loaders and loading the data\n",
    "from langchain.document_loaders.csv_loader import CSVLoader\n",
    "def load_data_csv_file(file_path):\n",
    "    loader = CSVLoader(file_path)\n",
    "    data = loader.load()\n",
    "    return data"
   ]
  },
  {
   "cell_type": "code",
   "execution_count": 58,
   "metadata": {},
   "outputs": [],
   "source": [
    "# 2. Split the text into chunks\n",
    "from langchain.text_splitter import CharacterTextSplitter\n",
    "def split_documents(documents, chunk_size=1000, chunk_overlap =0):\n",
    "    text_splitter = CharacterTextSplitter(chunk_size=chunk_size,chunk_overlap=chunk_overlap)\n",
    "    texts = text_splitter.split_documents(documents)\n",
    "    return texts\n"
   ]
  },
  {
   "cell_type": "code",
   "execution_count": 80,
   "metadata": {},
   "outputs": [
    {
     "name": "stdout",
     "output_type": "stream",
     "text": [
      "137\n",
      "137\n",
      "Last Name: Smith89\n",
      "First Name: Joe89\n",
      "Uci Net: Smith89\n",
      "Concentration: Embedded and Cyber-Physical\n",
      "Area of Expertise: My area of expertise is in Embedded Systems and IoT (Internet of Things). My relevant coursework, projects, and experience have all been focused on these areas. Additionally, I have experience working with various programming languages, frameworks, and hardware devices.  In terms of my special qualifications in Computer Science, I have experience in Embedded System Software, IoT Systems and Software, and Cyber-Physical System Design. I also have skills in various programming languages, frameworks, and hardware devices used in the field of Computer Science.\n",
      "Programming: I have experience with the following programming languages: C, C++, Python, EmbeddedC, SystemC, MATLAB, HTML/CSS.  I also have experience in some frameworks and platforms, such as Simulink, LabView, ROS, Arduino IDE, NI Multisim, Keil �vision 5, Xilinx, OpenCV, Proteus, Git, Node-Red.  For operating systems, I have experience in RTOS/ VxWorks/ RTLinux and other Real-time operating systems\n",
      "Past Experience: CourseTitleInstructorPositionWhenICS�31Introduction to ProgrammingProf. Mohammad MoshirpourTA2023-springEECS�31LINTRO DIG LOGIC LABProf. Salma ElmalakiReader2023-winter\n",
      "Courses Taken:\n"
     ]
    }
   ],
   "source": [
    "# 3. Test load_data_csv_file and split_documents\n",
    "students_data = load_data_csv_file('dummy_students_candidacy_data1.csv')\n",
    "students_text = split_documents(students_data)\n",
    "print(len(students_data))\n",
    "print(len(students_text))\n",
    "print(students_text[88].page_content)"
   ]
  },
  {
   "cell_type": "code",
   "execution_count": 83,
   "metadata": {},
   "outputs": [
    {
     "name": "stdout",
     "output_type": "stream",
     "text": [
      "Last Name: Smith101\n",
      "First Name: Joe101\n",
      "Uci Net: Smith101\n",
      "Concentration: \n",
      "Area of Expertise: I have previously TA'd and have experience proctoring classes remotely.  I have TA'd CS 121, ICS 6D, and ICS 32 previously.  My area of expertise is Machine Learning and Scientific Computing.\n",
      "Programming: I am proficient with Python and I have experience using C/C++.  I have working with Linux, Windows, and Mac operating systems.  I have experience using Canvas' API suite, and can upload grades and comments automatically.\n",
      "Past Experience: CourseTitleInstructorPositionWhenCS�121Information RetrievalMustafa IbrahimTA2021-winterICS�6DDiscrete Mathematics for CSPaniz EbrahimiTA2021-fallICS�6DDiscrete Mathematics for CSStanislaw JareckiTA2020-springICS�032Programming with Software LibrariesMustafa IbrahimTA2022-spring\n",
      "Courses Taken: CourseTitleGrWhenICS�399UNIVERSITY TEACHINGS202303ICS�399UNIVERSITY TEACHINGS202292ICS�399UNIVERSITY TEACHINGS202214CS�261DATA STRUCTURESA-202214ICS�399UNIVERSITY TEACHINGS202203CS�277CONTRL REINFC LEARNA+202203CS�274APROB LEARNINGB+202203ICS�399UNIVERSITY TEACHINGS202192CS�276RSN PROB GRAPH MODSA-202192CS�274EDEEP GENRTV MODELSA202192ICS�399UNIVERSITY TEACHINGS202114CS�216IMAGE UNDERSTANDINGA202114CS�206SCI COMPUTINGA202114ICS�399UNIVERSITY TEACHINGS202103CS�273AMACHINE LEARNINGA-202103CS�230DIST COMPUTER SYSA202103ICS�399UNIVERSITY TEACHINGS202092ICS�398ATA TRAINING SEMINARS202092CS�295AI/ML FOR CMPTL SCIA202092CS�271INTRO ARTIFCL INTELA202092\n"
     ]
    }
   ],
   "source": [
    "print(students_text[100].page_content)"
   ]
  },
  {
   "cell_type": "markdown",
   "metadata": {},
   "source": [
    "### Step 2. Set Up the Vector Store (Embedding Index) of the Students Information"
   ]
  },
  {
   "cell_type": "code",
   "execution_count": 60,
   "metadata": {},
   "outputs": [],
   "source": [
    "# 4. #importing pinecone packages and OpenAIEmbeddings\n",
    "# pip install pinecone-client tiktoken\n",
    "from langchain.vectorstores import Pinecone\n",
    "from langchain.embeddings.openai import OpenAIEmbeddings\n",
    "import pinecone\n",
    "from langchain.embeddings import OpenAIEmbeddings\n",
    "from langchain.chat_models import ChatOpenAI\n",
    "from langchain.chains.question_answering import load_qa_chain\n"
   ]
  },
  {
   "cell_type": "code",
   "execution_count": 84,
   "metadata": {},
   "outputs": [],
   "source": [
    "# 5. Creating a pinecone vector store\n",
    "from dotenv import load_dotenv\n",
    "import os\n",
    "load_dotenv()\n",
    "pinecone.init(\n",
    "    api_key=os.getenv(\"PINECONE_API_KEY\"),\n",
    "    environment=os.getenv(\"PINECONE_ENVIRONMENT\")\n",
    ")\n",
    "# print(os.getenv(\"PINECONE_API_KEY\"))\n",
    "# print(os.getenv(\"PINECONE_ENVIRONMENT\"))"
   ]
  },
  {
   "cell_type": "code",
   "execution_count": 85,
   "metadata": {},
   "outputs": [],
   "source": [
    "# 6. Recursive document search function\n",
    "def recursive_doc_search(doc, embeddings, index_name):\n",
    "    if doc == None:\n",
    "        return None\n",
    "    else:\n",
    "        docsearch = Pinecone.from_texts([t.page_content for t in doc], embeddings, index_name=index_name)\n",
    "        return docsearch"
   ]
  },
  {
   "cell_type": "code",
   "execution_count": 86,
   "metadata": {},
   "outputs": [
    {
     "name": "stdout",
     "output_type": "stream",
     "text": [
      "1536\n"
     ]
    }
   ],
   "source": [
    "# 7. Use recursive_doc_search to set up the vector store for student candidates\n",
    "embeddings = OpenAIEmbeddings(openai_api_key=os.getenv(\"OPENAI_API_KEY\"))\n",
    "query_result = embeddings.embed_query(\"hello world\")\n",
    "print(len(query_result))"
   ]
  },
  {
   "cell_type": "code",
   "execution_count": 87,
   "metadata": {},
   "outputs": [],
   "source": [
    "docsearch_students = recursive_doc_search(students_text, embeddings, index_name='ta-matching-system-students')"
   ]
  },
  {
   "cell_type": "markdown",
   "metadata": {},
   "source": [
    "### Step 3. Use the LangChain QA Chain and Do Query based on Given Context (Similar Students Data)"
   ]
  },
  {
   "cell_type": "code",
   "execution_count": 128,
   "metadata": {},
   "outputs": [],
   "source": [
    "# 8. Establishing llm and the QA Chain\n",
    "model_name = \"gpt-3.5-turbo-0613\"\n",
    "llm=ChatOpenAI(temperature=0, model=model_name)\n",
    "chain = load_qa_chain(llm, chain_type=\"stuff\")"
   ]
  },
  {
   "cell_type": "code",
   "execution_count": 131,
   "metadata": {},
   "outputs": [
    {
     "name": "stdout",
     "output_type": "stream",
     "text": [
      "[Document(page_content='Last Name: Smith56\\nFirst Name: Joe56\\nUci Net: Smith56\\nConcentration: \\nArea of Expertise: I am currently pursuing Masters of Computer Science. Relevant Courses: Algorithms with Applications, Advanced Programming and Problem Solving, Introduction to Artificial Intelligence.  Relevant Courses from my Bachelors include: Advanced Data Structures and Analysis of Algorithms, Automata Theory, Operating Systems, Computer Networks, Cryptography and Network Security, Cloud Computing Services, Artificial Intelligence, Information Retrieval, Software Engineering with Project Management.  I have experience with a wide range of programming languages and technologies, including � Programming languages: Java, C, C++, Python � Web Development: HTML, CSS, PHP, AJAX, JavaScript, React.js, Django, Flask � Artificial Intelligence: NumPy, Pandas, Matplotlib, OpenCV, Scikit-learn, Keras, TensorFlow, MATLAB � App Development: Swift, SwiftUI � Databases: MySQL, Oracle, MongoDB, Firebase � Cloud Technologies: AWS, Azure I have also developed a number of web and mobile applications.  I also have experience teaching online courses.  � Appointed as a Senior Mentor of DJ Init.Ai, the AI club of DJSCE; taught core concepts of AI, wrote blogs, and mentored juniors on research projects.  I have published several research papers in this field:- Apple Leaves Diseases Detection Using Deep Convolutional Neural Networks and Transfer Learning Python, TensorFlow, Deep Learning, Computer Vision � Built a novel model for apple leaf disease detection to help farmers improve efficiency and reduce the costs of orchard management. � Performed data augmentation techniques and implemented an ensemble of DCNN models by leveraging transfer learning and fine-tuning for multilabel classification of apple leaves. � Authored and published a book chapter in Computer Vision and Machine Learning in Agriculture, Vol 2 in the Springer book series Algorithms for Intelligent Systems, DOI: 10.1007/978-981-16-9991-7_13.  Zero-shot approach for news and scholarly article classification Python, Machine Learning, Natural Language Processing � Suggested an approach to minimize computational costs and dependency on labeled data. � Employed a Zero-shot mechanism to classify BBC News articles and ArXiv scholarly articles into various unseen categories and compared it to the Multinomial Na�ve Bayes model. � Authored and published a paper in IEEE International Conference on Advances in Computing,     Communication, and Control (ICAC3), 2021, pp. 1-5, DOI: 10.1109/ICAC353642.2021.9697327.  Sorting Algorithm using Radix tree and Binning Data Structures, Algorithms, Java � Proposed a new data sorting algorithm to sort numbers using radix tree and binning and observed that, the algorithm performed better than some ubiquitous algorithms on large datasets. � Published a chapter in Research Advances in Network Technologies, CRC Press ISBN: 9781032340487.  Visual Question Answering Python, TensorFlow, Deep Learning, Computer Vision, Natural Language Processing � Researched existing models, authored and published a paper titled \"Review of VQA: Datasets and Approaches in IEEE International Conference on Advances in Computing, Communication, and Control (ICAC3), 2021, pp. 1-6, DOI: 10.1109/ICAC353642.2021.9697283. � Constructed a multimodal system by integrating a pre-trained CNN and Bi-GRU.  Machine Learning Based Intrusion Detection System Python, Machine Learning � Programmed and compared various ML algorithms for anomaly-based intrusion detection. � Published a paper on the same in IEEE Fourth International Conference on Advances in Electronics, Computers and Communications (ICAECC), 2022, pp. 1-5, DOI: 10.1109/ICAECC54045.2022.9716648.\\nProgramming: I have undergraduate and/or internship experience in Java, C, C++, VHDL, SQL and NoSQL Databases. I also have experience with Linux, Windows and macOS.\\nPast Experience: CourseTitleInstructorPositionWhenEECS�22Advanced C ProgrammingRainer DoemerReader2023-winterEECS�22LSoftware Engineering Project in CRainer DoemerReader2023-spring\\nCourses Taken: CourseTitleGrWhenCS�295PKEYSTONE PROJ CSA+202303CS�273PMACH LRN & DATA MINA+202303CS�261PDATA STRUCTURESA202303CS�271PARTIFICIAL INTELLIGA+202292CS�260PALGORITHMSA202292CS�253PADV PROG PROB SOLVA+202292', metadata={}), Document(page_content='Last Name: Smith74\\nFirst Name: Joe74\\nUci Net: Smith74\\nConcentration: \\nArea of Expertise: Computer Vision Machine Learning Formal Language Complexity Theory\\nProgramming: I have experience in C/C++ and Unix.\\nPast Experience: CourseTitleInstructorPositionWhenCS�171Introduction to AIKalev KaskTA2020-summerCS�178Machine Learning & Data MiningStephan MandtReader2020-winterCS�175Project in AIXiaohui XieTA2020-springCS�171Introduction to AIRichard LathropTA2020-summer\\nCourses Taken: CourseTitleGrWhenICS�399UNIVERSITY TEACHINGS202192ICS�399UNIVERSITY TEACHINGS202114ICS�399UNIVERSITY TEACHINGS202103CS�217LIGHT&GEO COMP VISNA+202103ICS�399UNIVERSITY TEACHINGS202092CS�211AVISUAL COMPUTINGA202092ICS�399UNIVERSITY TEACHINGS202014CS�295DEEP GENRATIVE MDLSA202014ICS�399UNIVERSITY TEACHINGS202003CS�295OPT CTRL & RLB+202003ICS�399UNIVERSITY TEACHINGS201992ICS�398ATA TRAINING SEMINARS201992CS�243HIGH PERFRMCE ARCHA201992', metadata={}), Document(page_content='Last Name: Smith105\\nFirst Name: Joe105\\nUci Net: Smith105\\nConcentration: \\nArea of Expertise: Artificial Intelligence, Software Engineering, Natural Language Processing, Machine Learning and Data Mining, Database Management Systems, Statistics, Algebra, Operating Systems\\nProgramming: SQL - 3 Years Java, C, C++ - 1 Year VHDL - Basic information  Operating Systems with macOS and Windows-  2 years  Database Experience (SQL, MongoDB, RDBMS) - 3 years\\nPast Experience: \\nCourses Taken: CourseTitleGrWhenCS�295PKEYSTONE PROJ CSA202303CS�273PMACH LRN & DATA MINA+202303CS�261PDATA STRUCTURESA202303CS�271PARTIFICIAL INTELLIGA202292CS�253PADV PROG PROB SOLVA+202292CS�220PDATABAS & DATA MGMTB+202292', metadata={}), Document(page_content='Last Name: Smith20\\nFirst Name: Joe20\\nUci Net: Smith20\\nConcentration: \\nArea of Expertise: Linear algebra, artificial intelligence, machine learning, discrete math, python, optimization, graph theory, anything that is math heavy.\\nProgramming: Experience with Java (3 semesters of classes), a couple big projects in Java.\\nPast Experience: CourseTitleInstructorPositionWhenCS�171Intro to AIK. KaskTA2021-fallCS�171Intro to AIK. KaskTA2021-spring\\nCourses Taken: CourseTitleGrWhenICS�399UNIVERSITY TEACHINGS202303CS�260FUND ALGORITHMSA-202303CS�230DIST COMPUTER SYSA+202303CS�275CONSTRAINT NETWORKSA202292CS�274EDEEP GENRTV MODELSA+202292CS�232CMPTR & COMM NTWRKSB+202292ICS�399UNIVERSITY TEACHINGS202214CS�295BRAIN-INSPIRED LRNGA+202214CS�247COMPLX SW SYS: PROJA202214ICS�399UNIVERSITY TEACHINGS202203CS�295CAUSAL REASONINGA-202203CS�273AMACHINE LEARNINGA202203ICS�399UNIVERSITY TEACHINGS202192ICS�398ATA TRAINING SEMINARS202192CS�276RSN PROB GRAPH MODSA202192CS�271INTRO ARTIFCL INTELA202192', metadata={}), Document(page_content='Last Name: Smith98\\nFirst Name: Joe98\\nUci Net: Smith98\\nConcentration: Machine Learning\\nArea of Expertise: I consider algorithm design, data structures, and machine learning to be my areas of expertise.  I have experience utilizing and implementing concepts from these topics in my work as a computer scientist for the US Navy.  Although I am an incoming Computer Science PhD student, I have experience teaching these topics at a University.   I have been a lecturer for the Computer Science Department at California State University Northridge (�CSUN�) for the last five years.   I have taught both undergraduate and graduate level courses at CSUN.  Some of the courses I have taught at CSUN are as follows: Computer Architecture and Assembly (Comp 122), Data Structures (Comp 182), Advance Data Structures (Comp 282), Machine Learning (Comp 442),  Expert Systems (Comp 560).  For these, I prepared class materials and lectures, assigned homework and projects, administered test, and assigned final grades.  I have also taught online-only versions of these classes during COVID lockdowns.\\nProgramming: I taught my data structures and advance data structures classes in Java.  I also used Prolog to teach an expert systems class.    At work, I write programs in C, and C++.  I use MATLAB to prototype and for proof of concept demonstrations.    I consider myself proficient in these languages.\\nPast Experience: CourseTitleInstructorPositionWhenCS�171AIntroduction to Artificial IntelligKaskTA2022-fallICS�6DDiscrete Math for Computer ScienceZhangTA2023-spring\\nCourses Taken: CourseTitleGrWhenICS�399UNIVERSITY TEACHINGS202303ICS�398ATA TRAINING SEMINARS202303CS�274APROB LEARNINGB+202303ICS�399UNIVERSITY TEACHINGS202292CS�295GRAPH DATA ANALYSISA202292CS�273AMACHINE LEARNINGB+202292', metadata={}), Document(page_content=\"Last Name: Smith129\\nFirst Name: Joe129\\nUci Net: Smith129\\nConcentration: \\nArea of Expertise: In computer science, I have done several projects in the area of applied machine learning. I've also taken a number of Computer Science courses (such as machine learning,  and artificial intelligence) at UCI. I have great engineering skills, such as debugging and optimizing algorithms. Additionally, I have great communication skills and also a solid foundation in mathematics. I have experience in mentoring online courses during my undergraduate years. I teach students Calculus I and Differential Equations online.\\nProgramming: I have done projects with Java and Python so these are the most familiar languages to me. I have also taken data structure courses in C++ language. I am also familiar with the R language.  I am familiar with both Windows and MacOS operating systems.\\nPast Experience: CourseTitleInstructorPositionWhenCS�268POptimization Modeling Eric MjolsnessTA2022-fallCSE�90Systems Engineering and Tech CommunIrene GasskoTA2023-winterCS�171Intro to Artificial IntelligenceKalev KaskTA2023-spring\\nCourses Taken: CourseTitleGrWhenCS�263ANALYSIS OF ALGRTHMA202303CS�230DIST COMPUTER SYSA202303ICS�398ATA TRAINING SEMINARS202292CS�273AMACHINE LEARNINGA-202292CS�271INTRO ARTIFCL INTELA202292CS�244INTR EMBED UBIQ SYSA202292\", metadata={}), Document(page_content=\"Last Name: Smith95\\nFirst Name: Joe95\\nUci Net: Smith95\\nConcentration: \\nArea of Expertise: My areas of expertise are in AI, theory ,and math. I completed my undergraduate degree in the Math department, in math - computer science; therefore, I have taken many courses and previously tutored many courses in discrete math and  theoretical computer science. In my graduate degree I focused on AI and thats now my research area. I've been a TA in person and online, and would prefer teaching online.\\nProgramming: I took undergraduate courses in Java, C++, and Unix. I am familiar with the Windows OS.\\nPast Experience: CourseTitleInstructorPositionWhenCS�163/265Graph AlgorithmsD. EppsteinTA2022-winterCS�164/266Computational GeometryD. EppsteinTA2022-springICS�006DDiscrete Mathematics for Computer SS. JareckiTA2021-springCS�171Artificial Intelligence D. FrostTA2021-winter\\nCourses Taken: CourseTitleGrWhenICS�399UNIVERSITY TEACHINGS202214ICS�399UNIVERSITY TEACHINGS202203ICS�399UNIVERSITY TEACHINGS202192CS�276RSN PROB GRAPH MODSA+202192ICS�399UNIVERSITY TEACHINGS202114CS�295CAUSAL INFERENCEA+202114CS�261DATA STRUCTURESA202114ICS�399UNIVERSITY TEACHINGS202103CS�265GRAPH ALGORITHMSA202103CS�263ANALYSIS OF ALGRTHMA202103ICS�399UNIVERSITY TEACHINGS202092CS�275CONSTRAINT NETWORKSA202092CS�232CMPTR & COMM NTWRKSA+202092ICS�399UNIVERSITY TEACHINGS202014CS�266COMPTNL GEOMETRYA+202014CS�206SCI COMPUTINGA+202014ICS�399UNIVERSITY TEACHINGS202003CS�273AMACHINE LEARNINGA202003CS�260FUND ALGORITHMSA-202003ICS�399UNIVERSITY TEACHINGS201992ICS�398ATA TRAINING SEMINARS201992CS�271INTRO ARTIFCL INTELA201992CS�201CRYPTO PROTOCOLSA-201992\", metadata={})]\n"
     ]
    }
   ],
   "source": [
    "# 9. Function to get similar students close to the query (docsearch -> vector store) \n",
    "def get_similar_docs(docsearch, query, k = 7, score = False):\n",
    "    if score:\n",
    "        similar_docs = docsearch.similarity_search_with_score(query, k)\n",
    "    else:\n",
    "        similar_docs = docsearch.similarity_search(query, k)\n",
    "    return similar_docs\n",
    "\n",
    "query = \"Artificial Intelligence\"\n",
    "similar_docs_about_query = get_similar_docs(docsearch_students, query)\n",
    "print(similar_docs_about_query)\n",
    "\n"
   ]
  },
  {
   "cell_type": "code",
   "execution_count": 134,
   "metadata": {},
   "outputs": [
    {
     "name": "stdout",
     "output_type": "stream",
     "text": [
      "[Document(page_content='Last Name: Smith9\\nFirst Name: Joe9\\nUci Net: Smith9\\nConcentration: Computer Science\\nArea of Expertise: 1 I was a Teaching Assistant for the Department of Physics at UC Irvine for two quarters, i.e. Fall 2022 & Winter 2023. I worked under Professors Lee, Guerra, and Wu for classes Physics 3A, 3B, and 7C. My responsibilities included conducting discussions for 100+ students each quarter, conducting and grading quizzes as well as grading midterms and final exams.  2) This is my third quarter of graduate studies in ICS and I have maintained a consistent 4.0 GPA even after pursuing complicated courses like CS231P, CS253P, CS261P, CS271P, and CS273P. 3) I was a Teaching Assistant for my undergraduate course \\'CSL802- Distributed Computing Lab\\' where I was responsible for creating a list of experiments that students would perform for the duration of the course. I also assisted students through various phases of their course projects. 4) During my role as a Data Engineer at Tata Consultancy Services, I was presented with a Colleague Appreciation Award for co-creating a month-long training program on \"Using SQL & Python to create efficient Azure data workflows in an Apache Spark-enabled distributed environment\" for newer associates across the organization. 5) During my undergraduate degree, I was among the 200 students across Asia-Pacific chosen by Intel Corporation as their Student Ambassadors for Artificial Intelligence (AI) for 2020. I was picked after three rigorous rounds of interviews about Applied AI, conducted by several AI researchers at Intel. My responsibilities included conducting online seminars and hands-on workshops on AI and its subdomains, alongside collaborating on AI projects with peers from the Intel DevMesh community. For instance, my undergraduate institution commended me for conducting a series of online lectures on \"Using Intel\\'s OpenVINO toolkit to optimize Deep Learning models\" for 100+ fellow students. I also conducted a session on \"Training & deploying ML models using Azure ML Studio\" as a Microsoft Student Partner. 5) Throughout my undergraduate and professional tenure, I have developed an interest and taught seminars and workshops in Artificial Intelligence, Python Programming, SQL, and Distributed Computing.\\nProgramming: 1) I am also proficient in SQL due to my work experience as a Data Engineer where I was responsible to optimize CI/CD pipelines for ETL processes using SQL, Python and Apache Spark. I am proficient in C++ due to my predilection for competitive coding, participation in ACM ICPC and other regional coding contests as well as my personal interest in solving problems related to Data Structures and Algorithms. I am familiar with Java & C through my undergraduate courses and projects in Object-oriented Programming, Compiler Design, etc. 2) I have used Windows OS ever since I first laid my hands on a computer, so I am quite comfortable with using PowerShell, Microsoft Office Suite, Progressive Web Apps, etc. As a programmer, I have been using the Ubuntu distribution of the Linux OS for the past 6 years. I am comfortable with using the GCC Compiler, installing and operating network surveillance or third party services like OpenMPI as well as training Machine Learning models using Kernel Optimization through the Ubuntu terminal. 3) I have implemented projects where data was managed through a variety of databases which include traditional SQL-oriented databases like Oracle DB or MS SQL as well as the modern NoSQL databases like MongoDB, Amazon DynamoDB, Couchbase DB, etc. or distributed databases like Apache HBase, Azure CosmosDB, etc.\\nPast Experience: CourseTitleInstructorPositionWhenPHYSICS�3ABASIC PHYSICS IHoward LeeTA2023-winterPHYSICS�3BBASIC PHYSICS IIRuqian WuTA2023-winterPHYSICS�7CCLASSICAL PHYSICSHoward LeeTA2022-fallPHYSICS�7CCLASSICAL PHYSICSArnold GuerraTA2022-fall\\nCourses Taken: CourseTitleGrWhenCS�295PKEYSTONE PROJ CSA202303CS�273PMACH LRN & DATA MINA+202303CS�261PDATA STRUCTURESA202303CS�271PARTIFICIAL INTELLIGA202292CS�253PADV PROG PROB SOLVA+202292CS�231PPARL DIST COMP PROFA202292', metadata={}), Document(page_content=\"Last Name: Smith119\\nFirst Name: Joe119\\nUci Net: Smith119\\nConcentration: Computer Graphics\\nArea of Expertise: My area of expertise would in Computer Graphics, though I am also familiar with machine learning / AI, mathematics, and cognitive science from my undergraduate specializations and previous research experience.    I don't have any experience teaching online courses. Outside of UCI, I have TA'ed for one university class at UCSD (Brain-Computing Interfaces) and a couple years worth of middle school and high school Common Core mathematics.\\nProgramming: I'm very comfortable in working with C++, Unix, and Python from various projects, courses, and some research work. I'm somewhat familiar in Java and C.  I have not used VHDL or Scheme before.  I've grown up using Windows Operating systems for a long time, so I'm quite used to working with them.\\nPast Experience: CourseTitleInstructorPositionWhenICS�32APython Programming with LibrariesThornton, AlexTA2018-fallICS�32Programming with Software LibrariesThornton, AlexTA2019-winterICS�6NComputational Linear AlgebraGago Masague, SergioTA2019-fallICS�33Intermediate ProgrammingWatkinson, NeftaliTA2019-summer\\nCourses Taken: CourseTitleGrWhenICS�399UNIVERSITY TEACHINGS202292CS�219SSEM GRAPH AND VISS202292ICS�399UNIVERSITY TEACHINGS202214ICS�399UNIVERSITY TEACHINGS202203ICS�399UNIVERSITY TEACHINGS202192ICS�399UNIVERSITY TEACHINGS202114ICS�399UNIVERSITY TEACHINGS202103CS�290RESEARCH SEMINARS202103ICS�399UNIVERSITY TEACHINGS202092CS�290RESEARCH SEMINARS202092ICS�399UNIVERSITY TEACHINGS202014CS�213INTRO TO VIS PERCEPA202014ICS�399UNIVERSITY TEACHINGS202003CS�221INFO RETRIEVALA+202003CS�211BCOMPGRPHC &VISULZTNA202003ICS�399UNIVERSITY TEACHINGS201992CS�295REINFORCMT LEARNINGA201992CS�243HIGH PERFRMCE ARCHA201992ICS�399UNIVERSITY TEACHINGS201914CS�217LIGHT&GEO COMP VISNB+201914CS�211AVISUAL COMPUTINGA201914ICS�399UNIVERSITY TEACHINGS201903CS�274CNRL NTWKS&DEEP LRNGB+201903CS�273AMACHINE LEARNINGA-201903ICS�399UNIVERSITY TEACHINGS201892ICS�398ATA TRAINING SEMINARS201892CS�268INTRO OPTIMIZATIONB+201892CS�260FUND ALGORITHMSA-201892\", metadata={}), Document(page_content='Last Name: Smith106\\nFirst Name: Joe106\\nUci Net: Smith106\\nConcentration: Theoretical Computer Science\\nArea of Expertise: Theoretical topics: optimization, data structures and algorithms, graph theory, causality, time series analysis, operations research, economics related courses, probability and statistics, linear algebra, game theory, discrete math, basics of machine learning  I do not have experience in teaching online courses\\nProgramming: Very limited experience with Java and C. None with the rest.  Experience with Python.\\nPast Experience: CourseTitleInstructorPositionWhenICS�6NComputational Linear Algebra Paniz EbrahimiTA2023-winter\\nCourses Taken: CourseTitleGrWhenCS�290RESEARCH SEMINARS202303CS�269SSEM THEORY OF A&DSA202303CS�266COMPTNL GEOMETRYA202303CS�263ANALYSIS OF ALGRTHMA202303ICS�398ATA TRAINING SEMINARS202292CS�295INTRO TO AGTA202292CS�288ALGTH MATCH MARKETSA202292CS�269SSEM THEORY OF A&DSA202292', metadata={}), Document(page_content='Last Name: Smith90\\nFirst Name: Joe90\\nUci Net: Smith90\\nConcentration: Computational Science\\nArea of Expertise: (Part of the Computational Science program) Math Physics Fortran Python MATLAB Writing Discrete Math\\nProgramming: Some experience with C, C++, SQL, and bash. Very proficient with Python. Very proficient with Windows and comfortable with macOS and Linux.\\nPast Experience: CourseTitleInstructorPositionWhenICS�6BBoolean Logic and Discrete StructurWayne HayesTA2019-summerICS�6BBoolean LogicIrene GasskoTA2019-fallICS�31Introduction to ProgrammingShannon AlfaroTA2023-winterICS�139WCritical WritingShannon AlfaroTA2022-spring\\nCourses Taken: CourseTitleGrWhenCS�206SCI COMPUTINGA201914STATS�201STATS METH DATA IB+201892', metadata={}), Document(page_content=\"Last Name: Smith95\\nFirst Name: Joe95\\nUci Net: Smith95\\nConcentration: \\nArea of Expertise: My areas of expertise are in AI, theory ,and math. I completed my undergraduate degree in the Math department, in math - computer science; therefore, I have taken many courses and previously tutored many courses in discrete math and  theoretical computer science. In my graduate degree I focused on AI and thats now my research area. I've been a TA in person and online, and would prefer teaching online.\\nProgramming: I took undergraduate courses in Java, C++, and Unix. I am familiar with the Windows OS.\\nPast Experience: CourseTitleInstructorPositionWhenCS�163/265Graph AlgorithmsD. EppsteinTA2022-winterCS�164/266Computational GeometryD. EppsteinTA2022-springICS�006DDiscrete Mathematics for Computer SS. JareckiTA2021-springCS�171Artificial Intelligence D. FrostTA2021-winter\\nCourses Taken: CourseTitleGrWhenICS�399UNIVERSITY TEACHINGS202214ICS�399UNIVERSITY TEACHINGS202203ICS�399UNIVERSITY TEACHINGS202192CS�276RSN PROB GRAPH MODSA+202192ICS�399UNIVERSITY TEACHINGS202114CS�295CAUSAL INFERENCEA+202114CS�261DATA STRUCTURESA202114ICS�399UNIVERSITY TEACHINGS202103CS�265GRAPH ALGORITHMSA202103CS�263ANALYSIS OF ALGRTHMA202103ICS�399UNIVERSITY TEACHINGS202092CS�275CONSTRAINT NETWORKSA202092CS�232CMPTR & COMM NTWRKSA+202092ICS�399UNIVERSITY TEACHINGS202014CS�266COMPTNL GEOMETRYA+202014CS�206SCI COMPUTINGA+202014ICS�399UNIVERSITY TEACHINGS202003CS�273AMACHINE LEARNINGA202003CS�260FUND ALGORITHMSA-202003ICS�399UNIVERSITY TEACHINGS201992ICS�398ATA TRAINING SEMINARS201992CS�271INTRO ARTIFCL INTELA201992CS�201CRYPTO PROTOCOLSA-201992\", metadata={}), Document(page_content=\"Last Name: Smith129\\nFirst Name: Joe129\\nUci Net: Smith129\\nConcentration: \\nArea of Expertise: In computer science, I have done several projects in the area of applied machine learning. I've also taken a number of Computer Science courses (such as machine learning,  and artificial intelligence) at UCI. I have great engineering skills, such as debugging and optimizing algorithms. Additionally, I have great communication skills and also a solid foundation in mathematics. I have experience in mentoring online courses during my undergraduate years. I teach students Calculus I and Differential Equations online.\\nProgramming: I have done projects with Java and Python so these are the most familiar languages to me. I have also taken data structure courses in C++ language. I am also familiar with the R language.  I am familiar with both Windows and MacOS operating systems.\\nPast Experience: CourseTitleInstructorPositionWhenCS�268POptimization Modeling Eric MjolsnessTA2022-fallCSE�90Systems Engineering and Tech CommunIrene GasskoTA2023-winterCS�171Intro to Artificial IntelligenceKalev KaskTA2023-spring\\nCourses Taken: CourseTitleGrWhenCS�263ANALYSIS OF ALGRTHMA202303CS�230DIST COMPUTER SYSA202303ICS�398ATA TRAINING SEMINARS202292CS�273AMACHINE LEARNINGA-202292CS�271INTRO ARTIFCL INTELA202292CS�244INTR EMBED UBIQ SYSA202292\", metadata={}), Document(page_content='Last Name: Smith62\\nFirst Name: Joe62\\nUci Net: Smith62\\nConcentration: Theory\\nArea of Expertise: I have about a year of experience with teaching online, through being an assistant to TAs during my undergraduate studies, as well as running a club where teaching basic algorithms was a major component.  Generally speaking my expertise would lie in multithreaded programming, since that is the most professional experience I have had up to this point, as well as basic algorithms and data structures since that was the class that I had assisted in prior.\\nProgramming: C/C++ - 3 years Cuda - 1 year Python - 3 years Java - 2 years Linux - 4 years Windows - 10 years\\nPast Experience: CourseTitleInstructorPositionWhenCS�161DES&ANALYS OF ALGORMichael DillencourtTA2021-fallICS�45CProgramming in C++ Raymond KlefstadTA2021-winterCS�260PFundamentals of Algorithms with AppMichael SchindlerTA2022-springICS�46Data Structure Implementation and ADaniel FrishbergTA2022-summer\\nCourses Taken: CourseTitleGrWhenICS�399UNIVERSITY TEACHINGS202303CS�269SSEM THEORY OF A&DSA202303CS�241ADV COMPILER CONSTRA+202303CS�202APPLIED CRYPTYC+202303ICS�399UNIVERSITY TEACHINGS202292CS�273AMACHINE LEARNINGA-202292CS�269SSEM THEORY OF A&DSA202292CS�244INTR EMBED UBIQ SYSA202292ICS�399UNIVERSITY TEACHINGS202214CS�269SSEM THEORY OF A&DSA202214CS�266COMPTNL GEOMETRYA-202214CS�242PARALLEL COMPUTINGA+202214ICS�399UNIVERSITY TEACHINGS202203CS�269SSEM THEORY OF A&DSA202203CS�265GRAPH ALGORITHMSA-202203CS�263ANALYSIS OF ALGRTHMA202203ICS�398ATA TRAINING SEMINARS202192CS�295INTRO TO AGTB202192CS�276RSN PROB GRAPH MODSB-202192CS�269SSEM THEORY OF A&DSA202192CS�232CMPTR & COMM NTWRKSB-202192', metadata={})]\n"
     ]
    }
   ],
   "source": [
    "course_description = \"Introduces principles, techniques, and computational tools for quantitative approach to basic problem solving in physics and engineering. Pre-requisites: MATH 2A or AP Calculus AB or AP Calculus BC. Overlaps: Physics 2 \"\n",
    "query_get_recommendation = \"In these students I give you, which 5 students are suitable Teaching assistant candidates (sort from best candidates to general candidates) for this course: I&C SCI 9\" + course_description\n",
    "similar_students = get_similar_docs(docsearch_students, course_description)\n",
    "print(similar_students)"
   ]
  },
  {
   "cell_type": "code",
   "execution_count": 129,
   "metadata": {},
   "outputs": [],
   "source": [
    "# 10. Functions to get the answer to the question\n",
    "def get_recommendation(similar_students_info, query, chain):\n",
    "    try:\n",
    "        # operation that may raise an exception\n",
    "        ans = chain.run(input_documents=similar_students_info, question=query)\n",
    "    except Exception as e:\n",
    "        print(f\"An error occurred: {e}\")\n",
    "        summary_similar_students_info = summarize_candidates(similar_students_info)  # Call the other function\n",
    "        ans = chain.run(input_documents=summary_similar_students_info, question=query)\n",
    "    return ans"
   ]
  },
  {
   "cell_type": "code",
   "execution_count": 135,
   "metadata": {},
   "outputs": [
    {
     "name": "stdout",
     "output_type": "stream",
     "text": [
      "Based on the information provided, here are the five students who are suitable Teaching Assistant candidates for the course I&C SCI 9, sorted from best candidates to general candidates:\n",
      "\n",
      "1. Joe9 Smith (Computer Science concentration, experience as a Teaching Assistant for Physics courses, expertise in Python programming, and strong academic performance)\n",
      "2. Joe95 Smith (Areas of expertise in AI and theoretical computer science, experience as a Teaching Assistant for various computer science courses, and familiarity with Java and C++)\n",
      "3. Joe119 Smith (Computer Graphics concentration, experience as a Teaching Assistant for computer science courses, and familiarity with C++, Unix, and Python)\n",
      "4. Joe129 Smith (Experience in applied machine learning, familiarity with Java and Python, and experience mentoring online courses)\n",
      "5. Joe62 Smith (Expertise in multithreaded programming, experience as an assistant to TAs and teaching basic algorithms, and proficiency in C/C++, Python, and Java)\n",
      "\n",
      "Please note that the suitability of a candidate may also depend on other factors such as their availability and specific interest in the course topic.\n"
     ]
    }
   ],
   "source": [
    "res = get_recommendation(similar_students, query_get_recommendation, chain)\n",
    "print(res)"
   ]
  },
  {
   "cell_type": "markdown",
   "metadata": {},
   "source": [
    "## TODO Walkaround OpenAI's Token Limit With Chain Type\n",
    "\n",
    "If Token Limit Error:\n",
    "InvalidRequestError: This model's maximum context length is 4097 tokens. However, your messages resulted in 8216 tokens. Please reduce the length of the messages."
   ]
  },
  {
   "cell_type": "code",
   "execution_count": null,
   "metadata": {},
   "outputs": [],
   "source": [
    "from langchain.text_splitter import RecursiveCharacterTextSplitter\n",
    "from langchain.llms.openai import OpenAI\n",
    "from langchain.chains.summarize import load_summarize_chain\n",
    "\n",
    "llm2 = OpenAI(temperature=0)\n",
    "\n",
    "def summarize_candidates(docs):\n",
    "    char_text_splitter = CharacterTextSplitter(chunk_size=1000, chunk_overlap=0)\n",
    "    docs_chunks = char_text_splitter.split_documents(docs)\n",
    "    model = load_summarize_chain(llm2, chain_type=\"refine\")\n",
    "    summary = model.run(docs_chunks)\n",
    "    print(summary)\n",
    "    return summary"
   ]
  },
  {
   "cell_type": "code",
   "execution_count": null,
   "metadata": {},
   "outputs": [],
   "source": [
    "course_description = \"Introduces principles, techniques, and computational tools for quantitative approach to basic problem solving in physics and engineering. Pre-requisites: MATH 2A or AP Calculus AB or AP Calculus BC. Overlaps: Physics 2 \"\n",
    "query_get_recommendation = \"In these students I give you, which 5 students are suitable Teaching assistant candidates for this course: I&C SCI 9\" + course_description\n",
    "similar_students = get_similar_docs(docsearch_students, course_description)\n",
    "print(similar_students)\n",
    "print(type(similar_students))\n",
    "print(type(similar_students[0]))\n",
    "print(type(similar_students[0].page_content))\n",
    "summarize_candidates(similar_students)"
   ]
  },
  {
   "cell_type": "markdown",
   "metadata": {},
   "source": [
    "<class 'list'>\n",
    "<class 'langchain.schema.Document'>\n",
    "<class 'str'>"
   ]
  },
  {
   "cell_type": "code",
   "execution_count": 113,
   "metadata": {},
   "outputs": [
    {
     "name": "stdout",
     "output_type": "stream",
     "text": [
      "19\n"
     ]
    }
   ],
   "source": [
    "char_text_splitter = CharacterTextSplitter(chunk_size=1000, chunk_overlap=0)\n",
    "docs_chunks = char_text_splitter.split_documents(similar_students)\n",
    "print(len(docs_chunks))"
   ]
  },
  {
   "cell_type": "code",
   "execution_count": 119,
   "metadata": {},
   "outputs": [],
   "source": [
    "model = load_summarize_chain(llm2, chain_type=\"map_reduce\")\n",
    "summary = model.run(docs_chunks[0:5])\n"
   ]
  },
  {
   "cell_type": "code",
   "execution_count": 120,
   "metadata": {},
   "outputs": [
    {
     "name": "stdout",
     "output_type": "stream",
     "text": [
      " Joe Smith is a Computer Science student at UC Irvine with a 4.0 GPA and experience as a Teaching Assistant for Physics classes and a Data Engineer at Tata Consultancy Services. He is proficient in SQL, C++, Java, and C and is comfortable with Windows OS and Ubuntu Linux. He has expertise in machine learning/AI, mathematics, and cognitive science, and is comfortable with C++, Unix, and Python. He has taken multiple courses in theoretical computer science, including optimization, data structures and algorithms, graph theory, causality, time series analysis, operations research, economics related courses, probability and statistics, linear algebra, game theory, discrete math, and basics of machine learning. He is also proficient in Fortran, MATLAB, Writing, and Discrete Math.\n"
     ]
    }
   ],
   "source": [
    "print(summary)"
   ]
  },
  {
   "cell_type": "code",
   "execution_count": 81,
   "metadata": {},
   "outputs": [],
   "source": [
    "# Once finished, we delete the Pinecone index to save resources\n",
    "pinecone.delete_index('ta-matching-system-students')"
   ]
  }
 ],
 "metadata": {
  "kernelspec": {
   "display_name": "Python 3",
   "language": "python",
   "name": "python3"
  },
  "language_info": {
   "codemirror_mode": {
    "name": "ipython",
    "version": 3
   },
   "file_extension": ".py",
   "mimetype": "text/x-python",
   "name": "python",
   "nbconvert_exporter": "python",
   "pygments_lexer": "ipython3",
   "version": "3.10.1"
  },
  "orig_nbformat": 4
 },
 "nbformat": 4,
 "nbformat_minor": 2
}
