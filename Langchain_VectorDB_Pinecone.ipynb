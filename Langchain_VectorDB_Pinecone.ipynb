{
 "cells": [
  {
   "cell_type": "code",
   "execution_count": 3,
   "metadata": {},
   "outputs": [],
   "source": [
    "# or to use other formats, use the following after installing the required packages:\n",
    "from langchain.document_loaders import UnstructuredFileLoader"
   ]
  },
  {
   "cell_type": "markdown",
   "metadata": {},
   "source": [
    "## Use LangChain + Pinecone to Match Best TA Candidates for Each Course\n",
    "\n",
    "### Step 1 : Import LangChain CSVLoader and load the Students Information"
   ]
  },
  {
   "cell_type": "code",
   "execution_count": 7,
   "metadata": {},
   "outputs": [],
   "source": [
    "# 1. Importing langChain document loaders and loading the data\n",
    "from langchain.document_loaders.csv_loader import CSVLoader\n",
    "def load_data_csv_file(file_path):\n",
    "    loader = CSVLoader(file_path)\n",
    "    data = loader.load()\n",
    "    return data"
   ]
  },
  {
   "cell_type": "code",
   "execution_count": 8,
   "metadata": {},
   "outputs": [],
   "source": [
    "# 2. Split the text into chunks\n",
    "from langchain.text_splitter import CharacterTextSplitter\n",
    "def split_documents(documents, chunk_size=1000, chunk_overlap =0):\n",
    "    text_splitter = CharacterTextSplitter(chunk_size=chunk_size,chunk_overlap=chunk_overlap)\n",
    "    texts = text_splitter.split_documents(documents)\n",
    "    return texts\n"
   ]
  },
  {
   "cell_type": "code",
   "execution_count": 9,
   "metadata": {},
   "outputs": [
    {
     "name": "stdout",
     "output_type": "stream",
     "text": [
      "137\n",
      "137\n",
      "Last Name: Smith89\n",
      "First Name: Joe89\n",
      "Uci Net: Smith89\n",
      "Concentration: Embedded and Cyber-Physical\n",
      "Area of Expertise: My area of expertise is in Embedded Systems and IoT (Internet of Things). My relevant coursework, projects, and experience have all been focused on these areas. Additionally, I have experience working with various programming languages, frameworks, and hardware devices.  In terms of my special qualifications in Computer Science, I have experience in Embedded System Software, IoT Systems and Software, and Cyber-Physical System Design. I also have skills in various programming languages, frameworks, and hardware devices used in the field of Computer Science.\n",
      "Programming: I have experience with the following programming languages: C, C++, Python, EmbeddedC, SystemC, MATLAB, HTML/CSS.  I also have experience in some frameworks and platforms, such as Simulink, LabView, ROS, Arduino IDE, NI Multisim, Keil �vision 5, Xilinx, OpenCV, Proteus, Git, Node-Red.  For operating systems, I have experience in RTOS/ VxWorks/ RTLinux and other Real-time operating systems\n",
      "Past Experience: CourseTitleInstructorPositionWhenICS�31Introduction to ProgrammingProf. Mohammad MoshirpourTA2023-springEECS�31LINTRO DIG LOGIC LABProf. Salma ElmalakiReader2023-winter\n",
      "Courses Taken:\n"
     ]
    }
   ],
   "source": [
    "# 3. Test load_data_csv_file and split_documents\n",
    "students_data = load_data_csv_file('dummy_students_candidacy_data1.csv')\n",
    "students_text = split_documents(students_data)\n",
    "print(len(students_data))\n",
    "print(len(students_text))\n",
    "print(students_text[88].page_content)"
   ]
  },
  {
   "cell_type": "code",
   "execution_count": 10,
   "metadata": {},
   "outputs": [
    {
     "name": "stdout",
     "output_type": "stream",
     "text": [
      "Last Name: Smith101\n",
      "First Name: Joe101\n",
      "Uci Net: Smith101\n",
      "Concentration: \n",
      "Area of Expertise: I have previously TA'd and have experience proctoring classes remotely.  I have TA'd CS 121, ICS 6D, and ICS 32 previously.  My area of expertise is Machine Learning and Scientific Computing.\n",
      "Programming: I am proficient with Python and I have experience using C/C++.  I have working with Linux, Windows, and Mac operating systems.  I have experience using Canvas' API suite, and can upload grades and comments automatically.\n",
      "Past Experience: CourseTitleInstructorPositionWhenCS�121Information RetrievalMustafa IbrahimTA2021-winterICS�6DDiscrete Mathematics for CSPaniz EbrahimiTA2021-fallICS�6DDiscrete Mathematics for CSStanislaw JareckiTA2020-springICS�032Programming with Software LibrariesMustafa IbrahimTA2022-spring\n",
      "Courses Taken: CourseTitleGrWhenICS�399UNIVERSITY TEACHINGS202303ICS�399UNIVERSITY TEACHINGS202292ICS�399UNIVERSITY TEACHINGS202214CS�261DATA STRUCTURESA-202214ICS�399UNIVERSITY TEACHINGS202203CS�277CONTRL REINFC LEARNA+202203CS�274APROB LEARNINGB+202203ICS�399UNIVERSITY TEACHINGS202192CS�276RSN PROB GRAPH MODSA-202192CS�274EDEEP GENRTV MODELSA202192ICS�399UNIVERSITY TEACHINGS202114CS�216IMAGE UNDERSTANDINGA202114CS�206SCI COMPUTINGA202114ICS�399UNIVERSITY TEACHINGS202103CS�273AMACHINE LEARNINGA-202103CS�230DIST COMPUTER SYSA202103ICS�399UNIVERSITY TEACHINGS202092ICS�398ATA TRAINING SEMINARS202092CS�295AI/ML FOR CMPTL SCIA202092CS�271INTRO ARTIFCL INTELA202092\n"
     ]
    }
   ],
   "source": [
    "print(students_text[100].page_content)"
   ]
  },
  {
   "cell_type": "markdown",
   "metadata": {},
   "source": [
    "### Step 2. Set Up the Vector Store (Embedding Index) of the Students Information"
   ]
  },
  {
   "cell_type": "code",
   "execution_count": 11,
   "metadata": {},
   "outputs": [],
   "source": [
    "# 4. #importing pinecone packages and OpenAIEmbeddings\n",
    "# pip install pinecone-client tiktoken\n",
    "from langchain.vectorstores import Pinecone\n",
    "from langchain.embeddings.openai import OpenAIEmbeddings\n",
    "import pinecone\n",
    "from langchain.embeddings import OpenAIEmbeddings\n",
    "from langchain.chat_models import ChatOpenAI\n",
    "from langchain.chains.question_answering import load_qa_chain\n"
   ]
  },
  {
   "cell_type": "code",
   "execution_count": 12,
   "metadata": {},
   "outputs": [],
   "source": [
    "# 5. Creating a pinecone vector store\n",
    "from dotenv import load_dotenv\n",
    "import os\n",
    "load_dotenv()\n",
    "pinecone.init(\n",
    "    api_key=os.getenv(\"PINECONE_API_KEY\"),\n",
    "    environment=os.getenv(\"PINECONE_ENVIRONMENT\")\n",
    ")\n",
    "# print(os.getenv(\"PINECONE_API_KEY\"))\n",
    "# print(os.getenv(\"PINECONE_ENVIRONMENT\"))"
   ]
  },
  {
   "cell_type": "code",
   "execution_count": 13,
   "metadata": {},
   "outputs": [],
   "source": [
    "# 6. Recursive document search function\n",
    "def recursive_doc_search(doc, embeddings, index_name):\n",
    "    if doc == None:\n",
    "        return None\n",
    "    else:\n",
    "        docsearch = Pinecone.from_texts([t.page_content for t in doc], embeddings, index_name=index_name)\n",
    "        return docsearch"
   ]
  },
  {
   "cell_type": "code",
   "execution_count": 14,
   "metadata": {},
   "outputs": [
    {
     "name": "stdout",
     "output_type": "stream",
     "text": [
      "1536\n"
     ]
    }
   ],
   "source": [
    "# 7. Use recursive_doc_search to set up the vector store for student candidates\n",
    "embeddings = OpenAIEmbeddings(openai_api_key=os.getenv(\"OPENAI_API_KEY\"))\n",
    "query_result = embeddings.embed_query(\"hello world\")\n",
    "print(len(query_result))"
   ]
  },
  {
   "cell_type": "markdown",
   "metadata": {},
   "source": [
    "#### Manage the Pinecone Index"
   ]
  },
  {
   "cell_type": "code",
   "execution_count": 15,
   "metadata": {},
   "outputs": [
    {
     "data": {
      "text/plain": [
       "IndexDescription(name='ta-matching-system-students', metric='cosine', replicas=1, dimension=1536.0, shards=1, pods=1, pod_type='p1', status={'ready': True, 'state': 'Ready'}, metadata_config=None, source_collection='')"
      ]
     },
     "execution_count": 15,
     "metadata": {},
     "output_type": "execute_result"
    }
   ],
   "source": [
    "# give a index name\n",
    "index_name_ta = \"ta-matching-system-students\"\n",
    "# create a pinecone vector store (index) for student candidates\n",
    "# since we are using the openai embeddings, the dimension is 1536\n",
    "pinecone.create_index(index_name_ta, dimension=1536)\n",
    "# a more complex way: pinecone.create_index(\"example-index\", dimension=128, metric=\"euclidean\", pods=4, pod_type=\"s1.x1\")\n",
    "pinecone.describe_index(index_name_ta)"
   ]
  },
  {
   "cell_type": "code",
   "execution_count": 16,
   "metadata": {},
   "outputs": [],
   "source": [
    "docsearch_students = recursive_doc_search(students_text, embeddings, index_name=index_name_ta)"
   ]
  },
  {
   "cell_type": "markdown",
   "metadata": {},
   "source": [
    "### Step 3. Use the LangChain QA Chain and Do Query based on Given Context (Similar Students Data)"
   ]
  },
  {
   "cell_type": "code",
   "execution_count": 17,
   "metadata": {},
   "outputs": [],
   "source": [
    "# 8. Establishing llm and the QA Chain\n",
    "model_name = \"gpt-3.5-turbo-0613\"\n",
    "llm=ChatOpenAI(temperature=0, model=model_name)\n",
    "llm.predict(\"what do you recommend for this course: \")\n",
    "chain = load_qa_chain(llm, chain_type=\"stuff\")"
   ]
  },
  {
   "cell_type": "code",
   "execution_count": 18,
   "metadata": {},
   "outputs": [],
   "source": [
    "def top_skills_course(course_description):\n",
    "    query = \"what are the top skills for this course: \" + course_description\n",
    "    return llm.predict(query)"
   ]
  },
  {
   "cell_type": "code",
   "execution_count": 19,
   "metadata": {},
   "outputs": [
    {
     "name": "stdout",
     "output_type": "stream",
     "text": [
      "[Document(page_content='Last Name: Smith56\\nFirst Name: Joe56\\nUci Net: Smith56\\nConcentration: \\nArea of Expertise: I am currently pursuing Masters of Computer Science. Relevant Courses: Algorithms with Applications, Advanced Programming and Problem Solving, Introduction to Artificial Intelligence.  Relevant Courses from my Bachelors include: Advanced Data Structures and Analysis of Algorithms, Automata Theory, Operating Systems, Computer Networks, Cryptography and Network Security, Cloud Computing Services, Artificial Intelligence, Information Retrieval, Software Engineering with Project Management.  I have experience with a wide range of programming languages and technologies, including � Programming languages: Java, C, C++, Python � Web Development: HTML, CSS, PHP, AJAX, JavaScript, React.js, Django, Flask � Artificial Intelligence: NumPy, Pandas, Matplotlib, OpenCV, Scikit-learn, Keras, TensorFlow, MATLAB � App Development: Swift, SwiftUI � Databases: MySQL, Oracle, MongoDB, Firebase � Cloud Technologies: AWS, Azure I have also developed a number of web and mobile applications.  I also have experience teaching online courses.  � Appointed as a Senior Mentor of DJ Init.Ai, the AI club of DJSCE; taught core concepts of AI, wrote blogs, and mentored juniors on research projects.  I have published several research papers in this field:- Apple Leaves Diseases Detection Using Deep Convolutional Neural Networks and Transfer Learning Python, TensorFlow, Deep Learning, Computer Vision � Built a novel model for apple leaf disease detection to help farmers improve efficiency and reduce the costs of orchard management. � Performed data augmentation techniques and implemented an ensemble of DCNN models by leveraging transfer learning and fine-tuning for multilabel classification of apple leaves. � Authored and published a book chapter in Computer Vision and Machine Learning in Agriculture, Vol 2 in the Springer book series Algorithms for Intelligent Systems, DOI: 10.1007/978-981-16-9991-7_13.  Zero-shot approach for news and scholarly article classification Python, Machine Learning, Natural Language Processing � Suggested an approach to minimize computational costs and dependency on labeled data. � Employed a Zero-shot mechanism to classify BBC News articles and ArXiv scholarly articles into various unseen categories and compared it to the Multinomial Na�ve Bayes model. � Authored and published a paper in IEEE International Conference on Advances in Computing,     Communication, and Control (ICAC3), 2021, pp. 1-5, DOI: 10.1109/ICAC353642.2021.9697327.  Sorting Algorithm using Radix tree and Binning Data Structures, Algorithms, Java � Proposed a new data sorting algorithm to sort numbers using radix tree and binning and observed that, the algorithm performed better than some ubiquitous algorithms on large datasets. � Published a chapter in Research Advances in Network Technologies, CRC Press ISBN: 9781032340487.  Visual Question Answering Python, TensorFlow, Deep Learning, Computer Vision, Natural Language Processing � Researched existing models, authored and published a paper titled \"Review of VQA: Datasets and Approaches in IEEE International Conference on Advances in Computing, Communication, and Control (ICAC3), 2021, pp. 1-6, DOI: 10.1109/ICAC353642.2021.9697283. � Constructed a multimodal system by integrating a pre-trained CNN and Bi-GRU.  Machine Learning Based Intrusion Detection System Python, Machine Learning � Programmed and compared various ML algorithms for anomaly-based intrusion detection. � Published a paper on the same in IEEE Fourth International Conference on Advances in Electronics, Computers and Communications (ICAECC), 2022, pp. 1-5, DOI: 10.1109/ICAECC54045.2022.9716648.\\nProgramming: I have undergraduate and/or internship experience in Java, C, C++, VHDL, SQL and NoSQL Databases. I also have experience with Linux, Windows and macOS.\\nPast Experience: CourseTitleInstructorPositionWhenEECS�22Advanced C ProgrammingRainer DoemerReader2023-winterEECS�22LSoftware Engineering Project in CRainer DoemerReader2023-spring\\nCourses Taken: CourseTitleGrWhenCS�295PKEYSTONE PROJ CSA+202303CS�273PMACH LRN & DATA MINA+202303CS�261PDATA STRUCTURESA202303CS�271PARTIFICIAL INTELLIGA+202292CS�260PALGORITHMSA202292CS�253PADV PROG PROB SOLVA+202292', metadata={}), Document(page_content='Last Name: Smith74\\nFirst Name: Joe74\\nUci Net: Smith74\\nConcentration: \\nArea of Expertise: Computer Vision Machine Learning Formal Language Complexity Theory\\nProgramming: I have experience in C/C++ and Unix.\\nPast Experience: CourseTitleInstructorPositionWhenCS�171Introduction to AIKalev KaskTA2020-summerCS�178Machine Learning & Data MiningStephan MandtReader2020-winterCS�175Project in AIXiaohui XieTA2020-springCS�171Introduction to AIRichard LathropTA2020-summer\\nCourses Taken: CourseTitleGrWhenICS�399UNIVERSITY TEACHINGS202192ICS�399UNIVERSITY TEACHINGS202114ICS�399UNIVERSITY TEACHINGS202103CS�217LIGHT&GEO COMP VISNA+202103ICS�399UNIVERSITY TEACHINGS202092CS�211AVISUAL COMPUTINGA202092ICS�399UNIVERSITY TEACHINGS202014CS�295DEEP GENRATIVE MDLSA202014ICS�399UNIVERSITY TEACHINGS202003CS�295OPT CTRL & RLB+202003ICS�399UNIVERSITY TEACHINGS201992ICS�398ATA TRAINING SEMINARS201992CS�243HIGH PERFRMCE ARCHA201992', metadata={}), Document(page_content='Last Name: Smith105\\nFirst Name: Joe105\\nUci Net: Smith105\\nConcentration: \\nArea of Expertise: Artificial Intelligence, Software Engineering, Natural Language Processing, Machine Learning and Data Mining, Database Management Systems, Statistics, Algebra, Operating Systems\\nProgramming: SQL - 3 Years Java, C, C++ - 1 Year VHDL - Basic information  Operating Systems with macOS and Windows-  2 years  Database Experience (SQL, MongoDB, RDBMS) - 3 years\\nPast Experience: \\nCourses Taken: CourseTitleGrWhenCS�295PKEYSTONE PROJ CSA202303CS�273PMACH LRN & DATA MINA+202303CS�261PDATA STRUCTURESA202303CS�271PARTIFICIAL INTELLIGA202292CS�253PADV PROG PROB SOLVA+202292CS�220PDATABAS & DATA MGMTB+202292', metadata={}), Document(page_content='Last Name: Smith20\\nFirst Name: Joe20\\nUci Net: Smith20\\nConcentration: \\nArea of Expertise: Linear algebra, artificial intelligence, machine learning, discrete math, python, optimization, graph theory, anything that is math heavy.\\nProgramming: Experience with Java (3 semesters of classes), a couple big projects in Java.\\nPast Experience: CourseTitleInstructorPositionWhenCS�171Intro to AIK. KaskTA2021-fallCS�171Intro to AIK. KaskTA2021-spring\\nCourses Taken: CourseTitleGrWhenICS�399UNIVERSITY TEACHINGS202303CS�260FUND ALGORITHMSA-202303CS�230DIST COMPUTER SYSA+202303CS�275CONSTRAINT NETWORKSA202292CS�274EDEEP GENRTV MODELSA+202292CS�232CMPTR & COMM NTWRKSB+202292ICS�399UNIVERSITY TEACHINGS202214CS�295BRAIN-INSPIRED LRNGA+202214CS�247COMPLX SW SYS: PROJA202214ICS�399UNIVERSITY TEACHINGS202203CS�295CAUSAL REASONINGA-202203CS�273AMACHINE LEARNINGA202203ICS�399UNIVERSITY TEACHINGS202192ICS�398ATA TRAINING SEMINARS202192CS�276RSN PROB GRAPH MODSA202192CS�271INTRO ARTIFCL INTELA202192', metadata={}), Document(page_content='Last Name: Smith98\\nFirst Name: Joe98\\nUci Net: Smith98\\nConcentration: Machine Learning\\nArea of Expertise: I consider algorithm design, data structures, and machine learning to be my areas of expertise.  I have experience utilizing and implementing concepts from these topics in my work as a computer scientist for the US Navy.  Although I am an incoming Computer Science PhD student, I have experience teaching these topics at a University.   I have been a lecturer for the Computer Science Department at California State University Northridge (�CSUN�) for the last five years.   I have taught both undergraduate and graduate level courses at CSUN.  Some of the courses I have taught at CSUN are as follows: Computer Architecture and Assembly (Comp 122), Data Structures (Comp 182), Advance Data Structures (Comp 282), Machine Learning (Comp 442),  Expert Systems (Comp 560).  For these, I prepared class materials and lectures, assigned homework and projects, administered test, and assigned final grades.  I have also taught online-only versions of these classes during COVID lockdowns.\\nProgramming: I taught my data structures and advance data structures classes in Java.  I also used Prolog to teach an expert systems class.    At work, I write programs in C, and C++.  I use MATLAB to prototype and for proof of concept demonstrations.    I consider myself proficient in these languages.\\nPast Experience: CourseTitleInstructorPositionWhenCS�171AIntroduction to Artificial IntelligKaskTA2022-fallICS�6DDiscrete Math for Computer ScienceZhangTA2023-spring\\nCourses Taken: CourseTitleGrWhenICS�399UNIVERSITY TEACHINGS202303ICS�398ATA TRAINING SEMINARS202303CS�274APROB LEARNINGB+202303ICS�399UNIVERSITY TEACHINGS202292CS�295GRAPH DATA ANALYSISA202292CS�273AMACHINE LEARNINGB+202292', metadata={}), Document(page_content=\"Last Name: Smith129\\nFirst Name: Joe129\\nUci Net: Smith129\\nConcentration: \\nArea of Expertise: In computer science, I have done several projects in the area of applied machine learning. I've also taken a number of Computer Science courses (such as machine learning,  and artificial intelligence) at UCI. I have great engineering skills, such as debugging and optimizing algorithms. Additionally, I have great communication skills and also a solid foundation in mathematics. I have experience in mentoring online courses during my undergraduate years. I teach students Calculus I and Differential Equations online.\\nProgramming: I have done projects with Java and Python so these are the most familiar languages to me. I have also taken data structure courses in C++ language. I am also familiar with the R language.  I am familiar with both Windows and MacOS operating systems.\\nPast Experience: CourseTitleInstructorPositionWhenCS�268POptimization Modeling Eric MjolsnessTA2022-fallCSE�90Systems Engineering and Tech CommunIrene GasskoTA2023-winterCS�171Intro to Artificial IntelligenceKalev KaskTA2023-spring\\nCourses Taken: CourseTitleGrWhenCS�263ANALYSIS OF ALGRTHMA202303CS�230DIST COMPUTER SYSA202303ICS�398ATA TRAINING SEMINARS202292CS�273AMACHINE LEARNINGA-202292CS�271INTRO ARTIFCL INTELA202292CS�244INTR EMBED UBIQ SYSA202292\", metadata={}), Document(page_content=\"Last Name: Smith95\\nFirst Name: Joe95\\nUci Net: Smith95\\nConcentration: \\nArea of Expertise: My areas of expertise are in AI, theory ,and math. I completed my undergraduate degree in the Math department, in math - computer science; therefore, I have taken many courses and previously tutored many courses in discrete math and  theoretical computer science. In my graduate degree I focused on AI and thats now my research area. I've been a TA in person and online, and would prefer teaching online.\\nProgramming: I took undergraduate courses in Java, C++, and Unix. I am familiar with the Windows OS.\\nPast Experience: CourseTitleInstructorPositionWhenCS�163/265Graph AlgorithmsD. EppsteinTA2022-winterCS�164/266Computational GeometryD. EppsteinTA2022-springICS�006DDiscrete Mathematics for Computer SS. JareckiTA2021-springCS�171Artificial Intelligence D. FrostTA2021-winter\\nCourses Taken: CourseTitleGrWhenICS�399UNIVERSITY TEACHINGS202214ICS�399UNIVERSITY TEACHINGS202203ICS�399UNIVERSITY TEACHINGS202192CS�276RSN PROB GRAPH MODSA+202192ICS�399UNIVERSITY TEACHINGS202114CS�295CAUSAL INFERENCEA+202114CS�261DATA STRUCTURESA202114ICS�399UNIVERSITY TEACHINGS202103CS�265GRAPH ALGORITHMSA202103CS�263ANALYSIS OF ALGRTHMA202103ICS�399UNIVERSITY TEACHINGS202092CS�275CONSTRAINT NETWORKSA202092CS�232CMPTR & COMM NTWRKSA+202092ICS�399UNIVERSITY TEACHINGS202014CS�266COMPTNL GEOMETRYA+202014CS�206SCI COMPUTINGA+202014ICS�399UNIVERSITY TEACHINGS202003CS�273AMACHINE LEARNINGA202003CS�260FUND ALGORITHMSA-202003ICS�399UNIVERSITY TEACHINGS201992ICS�398ATA TRAINING SEMINARS201992CS�271INTRO ARTIFCL INTELA201992CS�201CRYPTO PROTOCOLSA-201992\", metadata={}), Document(page_content='Last Name: Smith137\\nFirst Name: Joe137\\nUci Net: Smith137\\nConcentration: Natural Language Processing\\nArea of Expertise: 1. Natural Language Processing, Machine Learning, Data Management, Deep Learning. 2. Doing Research. 3. Yes, I have.\\nProgramming: 1. Medium Experience. 2. Medium Experience. 3. Python.\\nPast Experience: CourseTitleInstructorPositionWhenICS�6NComputational Linear algebraGopi MeenakshisundaramTA2021-fallCS�295PKey Stone Project For Computer SciIan G HarrisTA2022-winterCS�274CDeep LearningPierre BaldiTA2022-springICS�31Introduction to Programming Ian G HarrisTA2022-summer\\nCourses Taken: CourseTitleGrWhenCS�241ADV COMPILER CONSTRA+202303CS�230DIST COMPUTER SYSA202303ICS�399UNIVERSITY TEACHINGS202292CS�244INTR EMBED UBIQ SYSA202292CS�232CMPTR & COMM NTWRKSA-202292ICS�399UNIVERSITY TEACHINGS202214CS�272STATISTICAL NLPA202214CS�234ADVANCED NETWORKSA202214ICS�399UNIVERSITY TEACHINGS202203CS�295SYSMLA202203CS�277CONTRL REINFC LEARNA+202203ICS�399UNIVERSITY TEACHINGS202192ICS�398ATA TRAINING SEMINARS202192CS�274EDEEP GENRTV MODELSA202192CS�273AMACHINE LEARNINGA-202192CS�206SCI COMPUTINGA202192', metadata={}), Document(page_content='Last Name: Smith60\\nFirst Name: Joe60\\nUci Net: Smith60\\nConcentration: \\nArea of Expertise: My expert area is Deep Learning, Machine Learning, AI, and Natural Language Processing(NLP).  In addition, I have several experiences working with a conversational AI, recommender systems, data mining, and information retrieval systems.\\nProgramming: I have been using \"Python\" as my main language and have several experiences with \"C\" language as well. I have used SQL as well. I am familiar with Linux, Windows, and macOS environments all.\\nPast Experience: CourseTitleInstructorPositionWhenICS�53Principle in System DesignIan HarrisTA2022-fallICS�295P Keystone project CS Ian HarrisTA2023-winterICS�297PCapstone Design Project Ian HarrisTA2023-spring\\nCourses Taken: CourseTitleGrWhenICS�399UNIVERSITY TEACHINGS202303CS�260FUND ALGORITHMSB202303CS�221INFO RETRIEVALA+202303ICS�399UNIVERSITY TEACHINGS202292CS�273AMACHINE LEARNINGA-202292CS�244INTR EMBED UBIQ SYSA202292CS�274CNRL NTWKS&DEEP LRNGB+202214CS�272STATISTICAL NLPA-202214ICS�398ATA TRAINING SEMINARS202192CS�271INTRO ARTIFCL INTELA202192CS�211AVISUAL COMPUTINGA-202192', metadata={}), Document(page_content='Last Name: Smith57\\nFirst Name: Joe57\\nUci Net: Smith57\\nConcentration: Machine learning\\nArea of Expertise: I am good at Machine learning, especially at Reinforcement learning. I got an A+ from Reinforcement learning course for graduate students from my undergraduate.\\nProgramming: My most familiar languages are C, C++, and Python. I have a bunch of experience doing projects with those languages.  I have a rich background in all operating systems, especially Linux. I am also good at Rust and Javascript/typescript.\\nPast Experience: CourseTitleInstructorPositionWhenCS�143principles of operating systemLubomir BicReader2022-winterCS�171AINTRO ARTIFCL INTELKalev KaskTA2022-springCS�171AINTRO ARTIFCL INTELKalev KaskTA2022-summerCS�175Project in AIKalev KaskTA2023-winter\\nCourses Taken: CourseTitleGrWhenICS�399UNIVERSITY TEACHINGS202303CS�290RESEARCH SEMINARS202303CS�221INFO RETRIEVALA-202303ICS�399UNIVERSITY TEACHINGS202292CS�290RESEARCH SEMINARS202292CS�274EDEEP GENRTV MODELSA+202292ICS�399UNIVERSITY TEACHINGS202214CS�290RESEARCH SEMINARS202214CS�290RESEARCH SEMINARS202214CS�274CNRL NTWKS&DEEP LRNGA202214ICS�399UNIVERSITY TEACHINGS202203CS�274APROB LEARNINGA202203CS�241ADV COMPILER CONSTRA+202203ICS�398ATA TRAINING SEMINARS202192CS�290RESEARCH SEMINARS202192CS�273AMACHINE LEARNINGA202192CS�232CMPTR & COMM NTWRKSA+202192', metadata={}), Document(page_content='Last Name: Smith17\\nFirst Name: Joe17\\nUci Net: Smith17\\nConcentration: ML/AI\\nArea of Expertise: My area of expertise is data science/ machine learning and neuroscience. As a cognitive science undergraduate student in the past, I was an instructional assistant for an introductory data science class. I am well versed in Python, object oriented programming,  and basic data science concepts. I do have experience teaching two quarters of online classes.\\nProgramming: I have limited experience with JAVA, C, C++, SQL (a few courses). The languages I am super comfortable with are MATLAB and Python, and have worked toward research projects involving both.\\nPast Experience: CourseTitleInstructorPositionWhenCS�GS108/STATS�6Introduction to Data ScienceJason FleischerReader2022-winterINF�161Social Analysis of Computing Arpita BhattacharyaTA2022-fallINF�113Requirement Analysis & EngineeringEmily NavarroTA2023-winterINF�113Requirement Analysis & EngineeringEmily NavarroTA2023-spring\\nCourses Taken: CourseTitleGrWhenICS�399UNIVERSITY TEACHINGS202303CS�274APROB LEARNINGB+202303CS�263ANALYSIS OF ALGRTHMA202303CS�216IMAGE UNDERSTANDINGA202303ICS�399UNIVERSITY TEACHINGS202292ICS�398ATA TRAINING SEMINARS202292CS�256SYSTEMS AND MLA202292CS�206SCI COMPUTINGA-202292', metadata={}), Document(page_content='Last Name: Smith114\\nFirst Name: Joe114\\nUci Net: Smith114\\nConcentration: ML, NLP\\nArea of Expertise: 1. Natural Language Processing, Text Generation, Multimodal Sentimental Analysis 2. Crosslingual Semantic Evaluation of Machine Translation is Published on 2021 NACCL,       Guided Automatic Python Code Generation is published on 2023 EACL Workshop 3.  N/A\\nProgramming: 1. Java-3 years, python-3 years, C++-1 year, SQL-1 year 2. Operated on the Ubuntu, macOS daily. 3. Matlab-2 years, Latex--2 years\\nPast Experience: CourseTitleInstructorPositionWhenCS�169Intro to OptimizationEric MjolsnessTA2022-fall\\nCourses Taken: CourseTitleGrWhenCS�241ADV COMPILER CONSTRA+202303CS�230DIST COMPUTER SYSA202303CS�202APPLIED CRYPTYB+202303ICS�399UNIVERSITY TEACHINGS202292ICS�398ATA TRAINING SEMINARS202292CS�273AMACHINE LEARNINGA202292CS�206SCI COMPUTINGA202292', metadata={}), Document(page_content='Last Name: Smith112\\nFirst Name: Joe112\\nUci Net: Smith112\\nConcentration: MS Computer Science\\nArea of Expertise: I have expertise in Data Structures and Algorithms, Machine Learning, and software development in general. I have done multiple projects and courses in the above fields. Since Fall 2021 I have been working under Prof. Yanning Shen in the area of Graph Based Reinforcement Learning and Graph Neural Networks. I have been employed and interned at multiple organisations working on projects related to software development and machine learning. For the past 3 years I have worked at Apple as a software engineer developing large scale applications for Apple Maps. One of my internships at Reflexis Systems was in the Data Science Team where we worked on applying different Machine Learning techniques for predicting the revenue generation of a BestBuy store depending on its location, weather, time of the year etc.\\nProgramming: I am familiar with Java, C , C++, Python, Golang and SQL .  I have developed applications in JAVA, python and Golang during my previous projects/internships and also previous job at Apple.   I am highly familiar with Linux ( CentOS in particular ) and macOS systems. During my previous job at Apple I have worked on deploying applications on Linux  and macOS servers. I have experience in dealing with cloud platforms and I have setup platforms like Kubernetes on a large cluster of Linux servers.  In databases I have worked on PostgreSQL , MongoDB and redis.\\nPast Experience: CourseTitleInstructorPositionWhenCS�171INTRO ARTIFCL INTELKalev KaskTA2022-fallCS�295 INNOV & PRODUCT DEVDavid OchiTA2023-winterICS�166GAME DESIGNToby DoTA2023-spring\\nCourses Taken: CourseTitleGrWhenICS�399UNIVERSITY TEACHINGS202303CS�263ANALYSIS OF ALGRTHMA202303ICS�399UNIVERSITY TEACHINGS202292CS�295INTRO TO AGTA+202292CS�265GRAPH ALGORITHMSA+202292CS�272STATISTICAL NLPA202214CS�261DATA STRUCTURESA202214CS�277CONTRL REINFC LEARNA+202203CS�230DIST COMPUTER SYSA+202203ICS�398ATA TRAINING SEMINARS202192CS�273AMACHINE LEARNINGA+202192CS�268INTRO OPTIMIZATIONA+202192CS�232CMPTR & COMM NTWRKSA+202192', metadata={}), Document(page_content=\"Last Name: Smith2\\nFirst Name: Joe2\\nUci Net: Smith2\\nConcentration: healthcare IoT, ML\\nArea of Expertise: I am really eager to take TA responsibilities in ML/AI courses to strengthen my knowledge in them (I took AI/ML courses and passed them with A's). Moreover, I have TA experience in the following courses: 1- Embedded systems and Internet of Things 2- Linear Algebra My responsibilities were mainly correcting students' exam papers and preparing Homework for them as a member of the teaching team.\\nProgramming: If I have to rate my experience with programming languages and OSs from 1 to 5, the following list demonstrates my skills: Python: 4 C++: 3 Java: 3 Windows: 4 Linux: 3\\nPast Experience: CourseTitleInstructorPositionWhenICS�6DBoolean logic & Discrete structuresIrene GasskoReader2022-springICS�31Intro to Python ProgrammingShannon AlfaroTA2022-fallICS�6BBoolean Logic and Discrete StructurGopi Meenakshisundaram TA2023-winter\\nCourses Taken: CourseTitleGrWhenICS�399UNIVERSITY TEACHINGS202303CS�274APROB LEARNINGA202303CS�230DIST COMPUTER SYSA202303ICS�399UNIVERSITY TEACHINGS202292ICS�398ATA TRAINING SEMINARS202292CS�273AMACHINE LEARNINGA202292CS�244INTR EMBED UBIQ SYSA+202292ICS�399UNIVERSITY TEACHINGS202214CS�295BRAIN-INSPIRED LRNGA+202214CS�261DATA STRUCTURESA202214\", metadata={}), Document(page_content='Last Name: Smith36\\nFirst Name: Joe36\\nUci Net: Smith36\\nConcentration: \\nArea of Expertise: Machine Learning Artificial Intelligence Computer Systems Programming  I did TA for an online course in summer 2019, 2020 and 2022. I also have experience being TA for different online courses during the pandemic, such as ICS 31.\\nProgramming: Java: intermediate high VHDL: intermediate high C/C++: expert Unix: expert Windows Operating System: expert\\nPast Experience: CourseTitleInstructorPositionWhenCS�143APrinciples of Operating SystemsLubomir BicTA2020-summerCS�151Digital System DesignElaheh BozorgzadehTA2020-summerICS�31Intro to ProgrammingIan HarrisTA2021-summerCS�143BProject in Operating SystemLubomir BicTA2021-fall\\nCourses Taken: CourseTitleGrWhenICS�399UNIVERSITY TEACHINGS202303ICS�399UNIVERSITY TEACHINGS202292ICS�399UNIVERSITY TEACHINGS202203ICS�399UNIVERSITY TEACHINGS202192CS�272STATISTICAL NLPA202114INF�261SOC ANLY OF CMPTINGA202092ICS�399UNIVERSITY TEACHINGS202014CS�237MDWR NTWK &DIST SYSA202014ICS�399UNIVERSITY TEACHINGS202003CS�259SSEM DESIGN SCIENCES202003ICS�399UNIVERSITY TEACHINGS201992CS�295REINFORCMT LEARNINGA201992ICS�399UNIVERSITY TEACHINGS201914CS�295MODERN SYSTEMSA-201914CS�261DATA STRUCTURESB+201914CS�244INTR EMBED UBIQ SYSA201914ICS�399UNIVERSITY TEACHINGS201903CS�265GRAPH ALGORITHMSA201903CS�230DIST COMPUTER SYSA201903ICS�399UNIVERSITY TEACHINGS201892ICS�398ATA TRAINING SEMINARS201892CS�273AMACHINE LEARNINGB+201892CS�260FUND ALGORITHMSB+201892', metadata={}), Document(page_content='Last Name: Smith61\\nFirst Name: Joe61\\nUci Net: Smith61\\nConcentration: \\nArea of Expertise: 1) Expertise on Computer Networks, and AI-driven wireless networks 2) Reader experience @UCI - Discrete Math for CS (ICS 6D) 3) Teaching Assistant experiences (as undergraduate TA) @Ewha Womans University, South Korea - Theory of Programming Languages (20499-01) - Introduction to AI & Deep Learning (38901-01) - Introductory Creative Convergence Basic Design (38896-01) 4) Tutor Volunteer experience @Ewha Womans University, South Korea - Taught online tutoring classes of basic programming for non-CS students\\nProgramming: - Proficient with Java, C, and SQL) can utilize basic language grammars - Proficient with Linux, Windows) operated various Linux servers remotely, highly proficient with Windows operating system - Taught basic Python language to various students via private tutoring - Acted as back-end programmer for few projects (used to database languages)\\nPast Experience: CourseTitleInstructorPositionWhenICS�6DDiscrete Math for CSPaniz EbrahimiReader2022-fall\\nCourses Taken:', metadata={}), Document(page_content=\"Last Name: Smith119\\nFirst Name: Joe119\\nUci Net: Smith119\\nConcentration: Computer Graphics\\nArea of Expertise: My area of expertise would in Computer Graphics, though I am also familiar with machine learning / AI, mathematics, and cognitive science from my undergraduate specializations and previous research experience.    I don't have any experience teaching online courses. Outside of UCI, I have TA'ed for one university class at UCSD (Brain-Computing Interfaces) and a couple years worth of middle school and high school Common Core mathematics.\\nProgramming: I'm very comfortable in working with C++, Unix, and Python from various projects, courses, and some research work. I'm somewhat familiar in Java and C.  I have not used VHDL or Scheme before.  I've grown up using Windows Operating systems for a long time, so I'm quite used to working with them.\\nPast Experience: CourseTitleInstructorPositionWhenICS�32APython Programming with LibrariesThornton, AlexTA2018-fallICS�32Programming with Software LibrariesThornton, AlexTA2019-winterICS�6NComputational Linear AlgebraGago Masague, SergioTA2019-fallICS�33Intermediate ProgrammingWatkinson, NeftaliTA2019-summer\\nCourses Taken: CourseTitleGrWhenICS�399UNIVERSITY TEACHINGS202292CS�219SSEM GRAPH AND VISS202292ICS�399UNIVERSITY TEACHINGS202214ICS�399UNIVERSITY TEACHINGS202203ICS�399UNIVERSITY TEACHINGS202192ICS�399UNIVERSITY TEACHINGS202114ICS�399UNIVERSITY TEACHINGS202103CS�290RESEARCH SEMINARS202103ICS�399UNIVERSITY TEACHINGS202092CS�290RESEARCH SEMINARS202092ICS�399UNIVERSITY TEACHINGS202014CS�213INTRO TO VIS PERCEPA202014ICS�399UNIVERSITY TEACHINGS202003CS�221INFO RETRIEVALA+202003CS�211BCOMPGRPHC &VISULZTNA202003ICS�399UNIVERSITY TEACHINGS201992CS�295REINFORCMT LEARNINGA201992CS�243HIGH PERFRMCE ARCHA201992ICS�399UNIVERSITY TEACHINGS201914CS�217LIGHT&GEO COMP VISNB+201914CS�211AVISUAL COMPUTINGA201914ICS�399UNIVERSITY TEACHINGS201903CS�274CNRL NTWKS&DEEP LRNGB+201903CS�273AMACHINE LEARNINGA-201903ICS�399UNIVERSITY TEACHINGS201892ICS�398ATA TRAINING SEMINARS201892CS�268INTRO OPTIMIZATIONB+201892CS�260FUND ALGORITHMSA-201892\", metadata={}), Document(page_content=\"Last Name: Smith134\\nFirst Name: Joe134\\nUci Net: Smith134\\nConcentration: Algorithm, AI, bioinformatics\\nArea of Expertise: 1.What do you consider your area of expertise? Learning new knowledge quickly, patience, fair, sticking to rules and guidelines.  2.In Computer Science, what are your special qualifications? I have participanted in several programs for building websites.  3.Do you have experience teaching online courses? No. But I have been a TA and Reader of a General Education onsite class when I was junior in USTC.\\nProgramming: 1.How much experience do you have with Java, VHDL, Scheme, C, C++, VHDL, and/or SQL languages? I have implemented several advanced algorithms with C,C++ and SQL. I have not learned VHDL.  2.How much experience do you have with the Linux, Windows, and/or macOS operating systems? I have learned some knowledge about Linux, and used some released version of Linux, such as Ubuntu and Centos. I don't know much about windows or Centos  3. Do you have other language, operating system, or database experience or knowledge worth noting? I have implemented some application using python. I also have some experience on frontend programming.\\nPast Experience: CourseTitleInstructorPositionWhenCS�161INTRO TO ALGMILENA MIHAILReader2022-fallICS�6BBOOL LOG & DISC STRMEENAKSHISUNDA, GOPIReader2023-winter\\nCourses Taken:\", metadata={}), Document(page_content='Last Name: Smith16\\nFirst Name: Joe16\\nUci Net: Smith16\\nConcentration: \\nArea of Expertise: Embedded System, information retrieval\\nProgramming: Python,  Windows\\nPast Experience: CourseTitleInstructorPositionWhenICS�6NCOMP LINEAR ALGEBRAGopi MeenakshisundaramTA2022-fallICS�51INTRO COMPUTER ORGBOZORGZADEH, EliTA2023-springCS�145Embedded Software & Associated Lab Tony GivargisReader2020-springINF�141INFRMTION RETRIEVALKRONE MARTINS, AReader2021-winter\\nCourses Taken: CourseTitleGrWhenICS�399UNIVERSITY TEACHINGS202303CS�230DIST COMPUTER SYSA-202303ICS�399UNIVERSITY TEACHINGS202292ICS�398ATA TRAINING SEMINARS202292CS�216IMAGE UNDERSTANDINGA+202214CS�290RESEARCH SEMINARS202203CS�295BLOCKCHAIN SYSTEMSA-202203CS�213INTRO TO VIS PERCEPA202203CS�290RESEARCH SEMINARS202192CS�284AAI IN BIO AND MEDA+202192CS�201CRYPTO PROTOCOLSB+202192CS�290RESEARCH SEMINARS202114CS�259SSEM DESIGN SCIENCES202114CS�250BMODERN COMP SYSA+202114CS�203NTWK & DIST SYS SECB202114CS�290RESEARCH SEMINARS202103CS�260FUND ALGORITHMSA202103CS�259SSEM DESIGN SCIENCES202103CS�206SCI COMPUTINGB+202103CS�290RESEARCH SEMINARS202092CS�273AMACHINE LEARNINGA202092CS�244INTR EMBED UBIQ SYSA+202092', metadata={}), Document(page_content='Last Name: Smith121\\nFirst Name: Joe121\\nUci Net: Smith121\\nConcentration: \\nArea of Expertise: My area of expertise is mainly Machine Learning. I have experience in developing end-to-end machine learning pipelines for tasks such as arrhythmia detection, anomaly detection, health monitoring, and tweet check worthiness using various machine learning models and frameworks like TensorFlow, PyTorch,and Scikit-learn. I have also published papers in this field and achieved improved accuracy and efficiency for these tasks. I am skilled in multiple programming languages, including Python, C/C++, Java, Bash, SQL, NoSQL, JavaScript, HTML, and CSS. This expertise allows me to develop robust software applications, perform data analysis, and build websites. I also have experience working with embedded devices like Arduino and Raspberry Pi. This knowledge of embedded systems allows me to work on projects that involve hardware-software integration and low-level programming. I have worked as a high school teacher for subjects such as Computer Science, Chemistry, and Physics. The school worked in a hybrid system, so I taught half the classes online and rest in person. I also have held a Teaching Assistant position in a Lab where I taught machine learning with python and reviewed projects virtually.\\nProgramming: I have used Java as part of my undergraduate course and to develop an android mobile application to detect text from images. I have used C in various embedded projects and learned it as a part of multiple undergraduate course. I have experience using C++ for an undergraduate course. I have learnt and used SQL as a part of my graduate database course.. I have used ubuntu as my primary operating system for three years. I currently use macOS as my primary operating system. I have also used windows throughout my childhood. I am proficient with Python and have used it in multiple projects for Machine Learning, Website development, and Drone Control. I have experience using NoSQL databases and currently use MongoDB for my capstone project. I also know languages such as Bash, JavaScript, HTML, and CSS. I have experience working with embedded systems such as Arduino, Raspberry Pi, and Atmel mircrocontrollers. I have research experience with Machine Learning. I am proficient with Data Structures and Algorithms.\\nPast Experience: \\nCourses Taken: CourseTitleGrWhenCS�295PKEYSTONE PROJ CSA+202303CS�273PMACH LRN & DATA MINA+202303CS�261PDATA STRUCTURESA202303CS�253PADV PROG PROB SOLVA+202292CS�238POPERATING SYSTEMSA-202292CS�220PDATABAS & DATA MGMTA202292', metadata={})]\n"
     ]
    }
   ],
   "source": [
    "# 9. Function to get similar students close to the query (docsearch -> vector store) \n",
    "def get_similar_docs(docsearch, query, k = 20, score = False):\n",
    "    if score:\n",
    "        similar_docs = docsearch.similarity_search_with_score(query, k)\n",
    "    else:\n",
    "        similar_docs = docsearch.similarity_search(query, k)\n",
    "    return similar_docs\n",
    "\n",
    "query = \"Artificial Intelligence\"\n",
    "similar_docs_about_query = get_similar_docs(docsearch_students, query)\n",
    "print(similar_docs_about_query)\n",
    "\n"
   ]
  },
  {
   "cell_type": "code",
   "execution_count": 20,
   "metadata": {},
   "outputs": [
    {
     "name": "stdout",
     "output_type": "stream",
     "text": [
      "[Document(page_content='Last Name: Smith9\\nFirst Name: Joe9\\nUci Net: Smith9\\nConcentration: Computer Science\\nArea of Expertise: 1 I was a Teaching Assistant for the Department of Physics at UC Irvine for two quarters, i.e. Fall 2022 & Winter 2023. I worked under Professors Lee, Guerra, and Wu for classes Physics 3A, 3B, and 7C. My responsibilities included conducting discussions for 100+ students each quarter, conducting and grading quizzes as well as grading midterms and final exams.  2) This is my third quarter of graduate studies in ICS and I have maintained a consistent 4.0 GPA even after pursuing complicated courses like CS231P, CS253P, CS261P, CS271P, and CS273P. 3) I was a Teaching Assistant for my undergraduate course \\'CSL802- Distributed Computing Lab\\' where I was responsible for creating a list of experiments that students would perform for the duration of the course. I also assisted students through various phases of their course projects. 4) During my role as a Data Engineer at Tata Consultancy Services, I was presented with a Colleague Appreciation Award for co-creating a month-long training program on \"Using SQL & Python to create efficient Azure data workflows in an Apache Spark-enabled distributed environment\" for newer associates across the organization. 5) During my undergraduate degree, I was among the 200 students across Asia-Pacific chosen by Intel Corporation as their Student Ambassadors for Artificial Intelligence (AI) for 2020. I was picked after three rigorous rounds of interviews about Applied AI, conducted by several AI researchers at Intel. My responsibilities included conducting online seminars and hands-on workshops on AI and its subdomains, alongside collaborating on AI projects with peers from the Intel DevMesh community. For instance, my undergraduate institution commended me for conducting a series of online lectures on \"Using Intel\\'s OpenVINO toolkit to optimize Deep Learning models\" for 100+ fellow students. I also conducted a session on \"Training & deploying ML models using Azure ML Studio\" as a Microsoft Student Partner. 5) Throughout my undergraduate and professional tenure, I have developed an interest and taught seminars and workshops in Artificial Intelligence, Python Programming, SQL, and Distributed Computing.\\nProgramming: 1) I am also proficient in SQL due to my work experience as a Data Engineer where I was responsible to optimize CI/CD pipelines for ETL processes using SQL, Python and Apache Spark. I am proficient in C++ due to my predilection for competitive coding, participation in ACM ICPC and other regional coding contests as well as my personal interest in solving problems related to Data Structures and Algorithms. I am familiar with Java & C through my undergraduate courses and projects in Object-oriented Programming, Compiler Design, etc. 2) I have used Windows OS ever since I first laid my hands on a computer, so I am quite comfortable with using PowerShell, Microsoft Office Suite, Progressive Web Apps, etc. As a programmer, I have been using the Ubuntu distribution of the Linux OS for the past 6 years. I am comfortable with using the GCC Compiler, installing and operating network surveillance or third party services like OpenMPI as well as training Machine Learning models using Kernel Optimization through the Ubuntu terminal. 3) I have implemented projects where data was managed through a variety of databases which include traditional SQL-oriented databases like Oracle DB or MS SQL as well as the modern NoSQL databases like MongoDB, Amazon DynamoDB, Couchbase DB, etc. or distributed databases like Apache HBase, Azure CosmosDB, etc.\\nPast Experience: CourseTitleInstructorPositionWhenPHYSICS�3ABASIC PHYSICS IHoward LeeTA2023-winterPHYSICS�3BBASIC PHYSICS IIRuqian WuTA2023-winterPHYSICS�7CCLASSICAL PHYSICSHoward LeeTA2022-fallPHYSICS�7CCLASSICAL PHYSICSArnold GuerraTA2022-fall\\nCourses Taken: CourseTitleGrWhenCS�295PKEYSTONE PROJ CSA202303CS�273PMACH LRN & DATA MINA+202303CS�261PDATA STRUCTURESA202303CS�271PARTIFICIAL INTELLIGA202292CS�253PADV PROG PROB SOLVA+202292CS�231PPARL DIST COMP PROFA202292', metadata={}), Document(page_content=\"Last Name: Smith84\\nFirst Name: Joe84\\nUci Net: Smith84\\nConcentration: Computer Engineering\\nArea of Expertise: I have expertise in Software Architecture, Software Design, Software Engineering, Discrete Mathematics, Machine Learning, Data Structure, Algorithms, Compilers, Computer Architecture, Operating Systems, Robotics, Digital Design, Microprocessors, Computer Networks, Database Management, Image Processing, Digital Signal Processing, and Optimization. I am well-versed in programming languages like Python, C/C++, SystemVerilog, Java, MySQL, and MATLAB. I am also an advanced user of the Linux operating system for development work as I have extensively used it during my time in the software development industry.  My qualifications in Computer Science are that I have worked at Qualcomm and NVIDIA for three (3) years to gain industrial experience in the above-mentioned domains. I completed the above courses during my undergraduate years with good grades. Further, I have worked with my professor advisors and completed multiple projects in the above-mentioned domains.  Yes, I have extensive experience in teaching online and also offline (in-person) courses.  1. On the education platform Chegg, I have taught programming to 50+ students.  2. I also worked as a Teaching Assistant to my professor in my senior year where I taught Computer Architecture and MATLAB programming to 150+ students and further helped them in doubt-clearing sessions.  3. As a volunteer of an NGO called Nirmaan Organization, I have also taught and mentored underprivileged children below 15 years of age.\\nProgramming: I have extensive experience in Java, VHDL/Verilog, C/C++, and MySQL. I have worked in RTL Design team at Qualcomm for over a year where I developed image processing engine using Verilog. I have also worked on several undergraduate projects involving advanced usage of Verilog/SystemVerilog. During my role as a system software engineer at Qualcomm for over two (2) years, I worked on developing python and C/C++ based automation applications and tools. Further, I also worked on developing Java based android applications for analyzing and debugging the GPU's performance.  I am an advanced user of all three operating systems namely Linux, Windows, and macOS. During my time at Qualcomm, I used Linux for development work and after using Linux for over three years I am very confident in using it for software development work. I used company's Windows based laptop for day-to-day office work and presentation, and therefore I have an advanced level of expertise in windows and the software development environment in Windows. I used Macbook during my undergraduate and therefore I understand all the intricacies of using MacOS and working on development projects on macOS.   I have knowledge of Python and MATLAB in addition to Java, VHDL/Verilog/SystemVerilog, C/C++, and SQL.\\nPast Experience: CourseTitleInstructorPositionWhenICS�139WCritical WritingMatthew BietzTA2022-fallINF�122Software Design: Structure And ImplJoshua GarciaTA2023-winterICS�166Game DesignTobias DoTA2023-spring\\nCourses Taken:\", metadata={}), Document(page_content='Last Name: Smith67\\nFirst Name: Joe67\\nUci Net: Smith67\\nConcentration: Electrical Engineering\\nArea of Expertise: I possess expertise in various domains related to computer science, including Data Structures and algorithms, Machine Learning, Computer Vision, Digital Image Processing, Microprocessors, Computer Networks, Digital Signal Processing. Additionally, I have a strong command of programming languages such as Python, C/C++ and MATLAB. I am also proficient in using the Linux operating system for development work, having extensively utilized it during my tenure in the software development industry.  To further my knowledge and skills, I have completed relevant courses during my undergraduate studies, achieving good grades. Moreover, I have gained practical experience in the aforementioned domains by working for three years at Qualcomm. Additionally, I have collaborated with my professors on multiple projects in these areas.\\nProgramming: I have worked with Python for three years at Qualcomm in the Modem Systems Team where I was involved in developing automation tools for testing. I have also worked with C/C++ during undergrad for various projects. I have extensive work experience with MATLAB and Python for Image Processing applications.  I have three years of experience working with Linux and Windows systems during my time at Qualcomm.\\nPast Experience: CourseTitleInstructorPositionWhenEECS�112Organization of Digital ComputersNader BagherzadehReader2022-fall\\nCourses Taken:', metadata={}), Document(page_content='Last Name: Smith122\\nFirst Name: Joe122\\nUci Net: Smith122\\nConcentration: EECS\\nArea of Expertise: Programming, logical thinking and aptitude I consider them as my strong suite and I strongly believe if you are good at these you can become a great programmer. I was a reader in the EECS department for the fall 2022 quarter and right now I am working in the ICS department as a reader for the course IN4MATX 141 under professor Alberto, I do have some teaching experience, I used to teach mathematics and computer science to high school students back in India during my holidays. I really like to interact with students and solve their doubts. I would love to work as a TA this quarter and I prefer the TA role, if that is not possible I am also happy to work as a reader.\\nProgramming: I have good academic experience with Python, C and Java programming languages in my high school and in my bachelors, I have worked and developed so many projects using these programming languages. I am familiar with Windows, MacOS and Linux as well. I am also good at embedded systems, I have some experience with Unreal engine and blender\\nPast Experience: CourseTitleInstructorPositionWhenEECS�70BNetwork Analysis IIThomas KetseoglouReader2022-fallCS�121INFRMTION RETRIEVAL KRONE MARTINS, A.Reader2023-winterCS�121INFRMTION RETRIEVAL KRONE MARTINS, A.Reader2023-spring\\nCourses Taken:', metadata={}), Document(page_content=\"Last Name: Smith109\\nFirst Name: Joe109\\nUci Net: Smith109\\nConcentration: Computer Science\\nArea of Expertise: I consider my area of expertise is in software development and machine learning. I am also well-equipped in the web application development space. Through professional experiences and personal projects, I am constantly learning about new and interesting tools and technologies related to this intersection, with a special passion and focus on healthcare technologies. My strengths include proficiency in languages such as Python and C/C++. I have worked with these languages enough to be well-versed with their nuances, and I have a strong grasp on data structures and algorithms as well. Through multiple data-related courses and projects, SQL is another skill I've built upon. I am competent in multiple frameworks such as PostgreSQL, MySQL and NoSQL. Of course, the application and use of data in machine learning is one of my focus areas. During my undergraduate degree, I was a subject matter expert (SME) in the Machine Learning club, where I led workshops and delivered seminars to classes of 40+ students, a couple of them being held remotely. With experience in multiple sister domains such as NLP, Computer Vision and Reinforcement Learning, I believe I offer a diverse skill set. As a teaching assistant in the C++ programming course during my Bachelor's, I regularly helped students with doubts and clarifications. I often created documents with useful resources to aid the learning of concepts too. Additionally, I communicate ideas well in a written format, which I think could be a useful skill as well. Sharing what I've learnt in a concise and helpful manner is an ability I've built over the years, not just through formal teaching experiences, but through the natural process of helping my peers. I am excited by the opportunity to aid the learning of other students.\\nProgramming: As mentioned above, I have a strong grasp on C/C++ and SQL, through formal coursework and practical applications. I have built on my skills in C/C++ since high school, and I have worked with SQL regularly for various projects since the very first year of my undergraduate program, so I believe I am well-versed in the fundamentals of these languages. My experience in multiple database management systems such as PostgreSQL, MySQL, SQLite and NoSQL (MongoDB) would hold me in good stead as well. I do have some experience with Java programming too, though I have not used it regularly. However, if necessary, I could definitely pick it up again.  Operating systems that I am experienced in include Windows and Linux (Ubuntu). I have carried out quite a bit of my development work on Linux environments successfully, so working with the command line is quite natural. Of course, Windows has been my everyday operating system of choice and I understand both of these operating systems well.  Additionally, I am proficient in web development languages such as HTML, CSS and Javascript. Python is another language I believe I would be well-equipped to aid teaching in.\\nPast Experience: \\nCourses Taken: CourseTitleGrWhenCS�295PKEYSTONE PROJ CSA+202303CS�273PMACH LRN & DATA MINA+202303CS�261PDATA STRUCTURESA202303CS�271PARTIFICIAL INTELLIGA202292CS�253PADV PROG PROB SOLVA+202292CS�220PDATABAS & DATA MGMTA-202292\", metadata={}), Document(page_content=\"Last Name: Smith120\\nFirst Name: Joe120\\nUci Net: Smith120\\nConcentration: Computer Science\\nArea of Expertise: 1. What do you consider your area of expertise? As a Master of Computer Science student at UCI, my area of expertise lies in software development, with a strong background in front-end and back-end development using Python, Java, and JavaScript. I also have a comprehensive understanding of statistical analysis, machine learning, and data analysis, which I have further honed through my coursework and professional experience.  2. In Computer Science, what are your special qualifications? I have achieved a 4.0 overall GPA in my Master's program and have excelled in courses such as Operating Systems, Data Structures, Machine Learning, and Artificial Intelligence, receiving full grades and near-perfect scores on tests. Additionally, I have a passion for statistical analysis and have even written blog posts on the topic related to financial data analysis as a hobby. My professional experience at Barclays has further enriched my technical expertise and deepened my understanding of software development practices.  3. Do you have experience teaching online courses? Yes, I have experience in teaching as a grader for the Paul Merage LDI program during the Winter 2023 term. This experience involved solving doubts during office hours and providing valuable feedback on individual assignments to help students improve their understanding of the subject matter. Additionally, I have previously served as an assistant for front-end development during my undergraduate studies and mentored junior colleagues in a professional work environment. These experiences have strengthened my commitment to delivering high-quality work and have equipped me with the necessary skills to effectively engage with students in an online learning environment.\\nProgramming: I am highly proficient in Java, Python, and JavaScript, with a deep understanding of their syntax, libraries, and frameworks. I have hands-on experience with various relational and non-relational databases, including MySQL, Postgres, and MongoDB, and can design and optimize database structures to meet specific requirements. Additionally, I have extensive experience working with Windows and Linux operating systems, including command-line interfaces and system administration tasks.  As part of my ongoing professional development, I am currently pursuing the AWS Certified Developer Associate certification, which will further enhance my skills in cloud computing and deployment. I am also actively involved in a capstone project that involves utilizing React Native for mobile application development and deploying the application to the cloud, providing me with practical experience in modern web and cloud technologies.  Furthermore, I am also a proficient technical writer, having written blog posts on the financial and statistical analysis of cryptocurrencies in recent times. This showcases my ability to effectively communicate complex technical concepts to a wider audience and demonstrates my strong written communication skills.  Overall, my diverse technical expertise in programming languages, databases, operating systems, and cloud computing, along with my skills in technical writing, make me well-equipped to handle a wide range of tasks and responsibilities as a grader or teaching assistant in the field of computer science.\\nPast Experience: CourseTitleInstructorPositionWhenLDI�(MERAGE)Certificate in AI FundamentalsMultiple InstructorsReader2023-winter\\nCourses Taken: CourseTitleGrWhenCS�295PKEYSTONE PROJ CSA202303CS�273PMACH LRN & DATA MINA+202303CS�261PDATA STRUCTURESA202303CS�271PARTIFICIAL INTELLIGA202292CS�253PADV PROG PROB SOLVA+202292CS�238POPERATING SYSTEMSA202292\", metadata={}), Document(page_content='Last Name: Smith135\\nFirst Name: Joe135\\nUci Net: Smith135\\nConcentration: Electrical Engineering\\nArea of Expertise: Expertise areas: programming, data processing, mathematics, wireless communication, big data analysis  I am proficient in Python, MATLAB, Java Script, C++. I have solid background and sufficient experience of machine learning and computer network becasue I learnt CS237 machine learning (A+),  CS232 computer and communication network (A).\\nProgramming: Familiar with C, C++, SQL Used Linux and macOS, proficient in Windows Take good command of Python, MATLAB, Java Script, C++\\nPast Experience: CourseTitleInstructorPositionWhenINF�121SOFTWARE DESIGN IEmily NavarroTA2022-springICS�45J Programming in Java Emily NavarroTA2023-fallEECS�20COMP SYS AND PROG Quoc-Viet DangTA2021-fallEECS�31INTRO DIGITAL SYST  Quoc-Viet DangTA2022-winter\\nCourses Taken:', metadata={}), Document(page_content='Last Name: Smith90\\nFirst Name: Joe90\\nUci Net: Smith90\\nConcentration: Computational Science\\nArea of Expertise: (Part of the Computational Science program) Math Physics Fortran Python MATLAB Writing Discrete Math\\nProgramming: Some experience with C, C++, SQL, and bash. Very proficient with Python. Very proficient with Windows and comfortable with macOS and Linux.\\nPast Experience: CourseTitleInstructorPositionWhenICS�6BBoolean Logic and Discrete StructurWayne HayesTA2019-summerICS�6BBoolean LogicIrene GasskoTA2019-fallICS�31Introduction to ProgrammingShannon AlfaroTA2023-winterICS�139WCritical WritingShannon AlfaroTA2022-spring\\nCourses Taken: CourseTitleGrWhenCS�206SCI COMPUTINGA201914STATS�201STATS METH DATA IB+201892', metadata={}), Document(page_content=\"Last Name: Smith91\\nFirst Name: Joe91\\nUci Net: Smith91\\nConcentration: \\nArea of Expertise: Areas of Computer science which I have expertise are Data Structure, Algorithms and System Design and Critical Writing on Information Technology. I have qualified the Graduate Aptitude Test Engineering in Computer Science,one of the highly competitive exams conducted in India for admission into higher studies. I have expertise in Mathematics courseworks pertaining to CS and writing course works based on my previous TA experience.In the spring, 20 quarter I TA'ed in an online coursework ICS139W.\\nProgramming: I have an experience of six plus year in C and C++ programming and have basic knowledge of JAVA and Python programming. I have had an experience of 10+ years of experience in Windows Operating Systems. I have been a TA for ICS139W course consecutively for the last academic year with considerable amount of understanding of the course content.\\nPast Experience: CourseTitleInstructorPositionWhenCS�297PCapstone DesignSergio Gago MasagueTA2019-fallICS�139WCritical WritingMustafa IbrahimTA2020-fallICS�139WCritical Writing Mustafa IbrahimTA2020-springICS�139WCritical WritingDarren DennenbergTA2021-fall\\nCourses Taken: CourseTitleGrWhenICS�399UNIVERSITY TEACHINGS202292ICS�399UNIVERSITY TEACHINGS202214ICS�399UNIVERSITY TEACHINGS202203ICS�399UNIVERSITY TEACHINGS202192CS�295ENTREPRENEURSHIP IA202192CS�199INDIVIDUAL STUDYA+202192ICS�399UNIVERSITY TEACHINGS202114CS�295OPTIMIZATION FOR MLA-202114CS�236WIRELESS NETWORKINGA-202114ICS�399UNIVERSITY TEACHINGS202103CS�274APROB LEARNINGB202103CS�230DIST COMPUTER SYSA202103ICS�399UNIVERSITY TEACHINGS202092CS�232CMPTR & COMM NTWRKSA-202092CS�201CRYPTO PROTOCOLSA202092ICS�399UNIVERSITY TEACHINGS202014CS�266COMPTNL GEOMETRYA202014CS�261DATA STRUCTURESA-202014ICS�399UNIVERSITY TEACHINGS202003CS�260FUND ALGORITHMSB+202003CS�206SCI COMPUTINGA202003ICS�399UNIVERSITY TEACHINGS201992ICS�398ATA TRAINING SEMINARS201992CS�273AMACHINE LEARNINGB-201992CS�243HIGH PERFRMCE ARCHB+201992\", metadata={}), Document(page_content=\"Last Name: Smith111\\nFirst Name: Joe111\\nUci Net: Smith111\\nConcentration: MCS\\nArea of Expertise: My area of expertise lies in people skills and teaching, where I derive great satisfaction from helping and contributing value to others. I possess exceptional communication skills that enable me to convey complex technical concepts in a clear and easily understandable manner. In the field of Computer Science, I am highly qualified, having ranked 7th in my undergraduate department and maintained a 4.0 GPA in my Masters program thus far. I have a strong academic background with A+/A grades in courses such as Digital Logic Design,Data Structures, Computer Organization and Architecture, Machine Learning, DBMS,Theory of Computation and Compiler Design, and OOPs Programming. I have hands-on experience with various programming languages such as Python, Java, and C++.  Furthermore, I have a strong balance of theoretical and practical knowledge and have previously taught and assisted my peers and younger siblings in various Computer Science subjects. I have also mentored junior team members and guided them in their professional development. At my previous job as a Software Engineer at PayPal, India, I delivered numerous knowledge sharing sessions and presentations to colleagues, highlighting my excellent teaching skills.  Although I haven't had the opportunity to teach online courses, I am always eager to learn and expand my skill set, staying updated with the latest advancements in the field by participating in hackathons, coding competitions, and taking online courses. Additionally, I am currently a reader for course EECS 50(Signals and Systems), which showcases my continued involvement in the field of Computer Science and my commitment to learning and teaching.\\nProgramming: I have a strong background in Java, having worked with it since high school and using it extensively as a Software Engineer at PayPal where I primarily worked with Java and SpringBoot. I also have experience with other programming languages such as Python, C, C++, and SQL (Oracle and MySQL) acquired during my four years of undergraduate studies. In terms of operating systems, I have hands-on experience with Linux, as most of my undergraduate coursework required the use of Linux systems in the lab. I am also well-versed in using Windows, as all my personal computers have been windows-based. I have also gained 3 years of experience working on macOS during my time at PayPal. I also have experience with version control systems like Git and tools like JIRA, Confluence. I am always looking to expand my skill set and stay up-to-date with the latest advancements in the field.\\nPast Experience: CourseTitleInstructorPositionWhenEECS�50Signals and SystemsProf Syed JafarReader2023-spring\\nCourses Taken: CourseTitleGrWhenCS�295PKEYSTONE PROJ CSA202303CS�273PMACH LRN & DATA MINA+202303CS�261PDATA STRUCTURESA202303CS�271PARTIFICIAL INTELLIGA202292CS�253PADV PROG PROB SOLVA+202292CS�238POPERATING SYSTEMSA202292\", metadata={}), Document(page_content='Last Name: Smith79\\nFirst Name: Joe79\\nUci Net: Smith79\\nConcentration: Computer Science\\nArea of Expertise: I am proficient in Software Engineering, Computer Architecture, Operating Systems, Database Management, Data Structures and Algorithms. During my undergraduate study, I have completed and enjoyed courses like Computer Networks, Cryptography, Analysis of Algorithms, Data Science, Machine Learning, Statistics, Blockchain Technology and Project Management. I have working experience in programming languages including Java, C++, Python and Javascript. I have also worked with database technologies (MySQL and PostgreSQL). I have led and worked in teams during Hackathons and university projects.   I have some experience in teaching at my local tuition center where I used to teach Mathematics(Advanced Trigonometry and Algebra) to grade 10 through grade 12 students. Additionally, we had regular seminars and discussions at my university where we used to present the projects we have worked on.  I have an interest in teaching because I strongly believe that the best way to understand concepts thoroughly is through teaching.\\nProgramming: I have worked with Java and PostgreSQL in my internships. In my undergraduate university projects and assignments, I worked with C++, MySQL and other programming languages including Python, Javascript etc.   I have working knowledge of Linux (Ubuntu 20.04) as that is dual booted in my laptop. I am also proficient with Windows and MacOS. I am also familiar with other distributions of Linux like ArchLinux and other flavors.\\nPast Experience: CourseTitleInstructorPositionWhenEECS�112ORG OF DIGITAL COMPNader BagherzadehReader2022-fallEECS�31LDIGITAL DESIGNSalma ElmalakiReader2023-winter\\nCourses Taken: CourseTitleGrWhenCS�295PKEYSTONE PROJ CSA202303CS�273PMACH LRN & DATA MINA202303CS�261PDATA STRUCTURESA202303CS�271PARTIFICIAL INTELLIGA-202292CS�253PADV PROG PROB SOLVA+202292CS�250PCOMP SYS ARCHITECTB+202292', metadata={}), Document(page_content='Last Name: Smith94\\nFirst Name: Joe94\\nUci Net: Smith94\\nConcentration: Cryptography\\nArea of Expertise: I would consider theoretical avenues my expertise. From basic discrete math to algorithms and cryptography.  In Computer Science, I have done theoretical research as well as practical research in a quantum computing lab. As an undergraduate, my lab and NASA collaborated on a Quantum Key Distribution project. I also did independent research into elliptic curve factorization and Galois theory. I have TAd for graduate as well as undergraduate classes. I also helped host practice exams for college calculus and physics classes. I have also helped various classmates as an undergraduate for upper level computer science classes.\\nProgramming: Experience with C++. Some experience with VHDL and C. Exposure to Java, SQL. No knowledge of Scheme. Experience in Windows. Reasonable expertise in Linux/macOS.\\nPast Experience: CourseTitleInstructorPositionWhenICS�6DDiscrete Math for Computer ScienceJing ZhangTA2023-winterCS�167Applied CryptographyStanislaw JareckiReader2022-winterCS�161Design and Analysis of AlgorithmsMichael DillencourtReader2022-springCS�201PComputer SecurityMohammad Iftekhar HusainTA2022-fall\\nCourses Taken: CourseTitleGrWhenCS�230DIST COMPUTER SYSA+202303CS�288ALGTH MATCH MARKETSA202292CS�232CMPTR & COMM NTWRKSA-202292CS�205COMP AND SYSTEM SECA202214CS�202APPLIED CRYPTYA202214CS�263ANALYSIS OF ALGRTHMA202203CS�260FUND ALGORITHMSB202203CS�295INTRO TO AGTA202192CS�271INTRO ARTIFCL INTELA202192CS�201CRYPTO PROTOCOLSB202192', metadata={}), Document(page_content='Last Name: Smith106\\nFirst Name: Joe106\\nUci Net: Smith106\\nConcentration: Theoretical Computer Science\\nArea of Expertise: Theoretical topics: optimization, data structures and algorithms, graph theory, causality, time series analysis, operations research, economics related courses, probability and statistics, linear algebra, game theory, discrete math, basics of machine learning  I do not have experience in teaching online courses\\nProgramming: Very limited experience with Java and C. None with the rest.  Experience with Python.\\nPast Experience: CourseTitleInstructorPositionWhenICS�6NComputational Linear Algebra Paniz EbrahimiTA2023-winter\\nCourses Taken: CourseTitleGrWhenCS�290RESEARCH SEMINARS202303CS�269SSEM THEORY OF A&DSA202303CS�266COMPTNL GEOMETRYA202303CS�263ANALYSIS OF ALGRTHMA202303ICS�398ATA TRAINING SEMINARS202292CS�295INTRO TO AGTA202292CS�288ALGTH MATCH MARKETSA202292CS�269SSEM THEORY OF A&DSA202292', metadata={}), Document(page_content=\"Last Name: Smith82\\nFirst Name: Joe82\\nUci Net: Smith82\\nConcentration: \\nArea of Expertise: I completed my Bachelor's degree in 2020, majoring in Computer Science and Engineering. After that, I worked as a software developer for 2.5 years, where I gained hands-on experience in software development, Object-Oriented Programming (OOP), data structures and algorithms, database management. I also had the opportunity to work with a diverse range of programming languages such as Java, C++, and Python.  During my Master's degree, I continued to expand my knowledge in Computer Science, focusing on advanced topics such as Artificial Intelligence, Machine Learning, and Operating Systems. Additionally, I have also participated in various programming competitions, where I have demonstrated my proficiency in solving complex programming problems.  I believe I have a strong understanding of how to communicate effectively with students and professors, as well as the importance of attention to detail when grading assignments. Overall, I am confident that my technical skills, communication skills, attention to detail, passion for the field, and academic achievements make me an excellent candidate for this position. I am excited about the opportunity to contribute to your university and help students succeed in their computer science studies.  I&C SCI 6B - Boolean Logic and Discrete Structures I&C SCI 45J - Programming in Java as a Second Language I&C SCI 139W - Critical Writing on Information Technology I&C SCI 6N - Computational Linear Algebra I&C SCI 31 - Introduction to Programming I&C SCI 32 - Programming with Software Libraries I&C SCI 33 - Intermediate Programming I&C SCI 46 - Data Structure Implementation and Analysis I&C SCI 6D - Discrete Mathematics for Computer Science I&C SCI 51 - Introductory Computer Organization COMPSCI 143A � Principles of Operating Systems (Online Course) COMPSCI 199 � Individual Study (Great Program Only) IN4MATX 43 - Introduction to Software Engineering IN4MATX 172 - Project in Health Informatics\\nProgramming: I have more than seven year experience in Java, C, C++, SQL(Oracle sql, mysql, postgresql), No SQL(Asterix Db, Mongo Db). I have  more than seven year experience experience with the Linux, Windows, and/or macOS operating systems\\nPast Experience: \\nCourses Taken: CourseTitleGrWhenCS�295PKEYSTONE PROJ CSA202303CS�273PMACH LRN & DATA MINA+202303CS�261PDATA STRUCTURESA202303CS�271PARTIFICIAL INTELLIGA202292CS�253PADV PROG PROB SOLVA+202292CS�220PDATABAS & DATA MGMTA-202292\", metadata={}), Document(page_content='Last Name: Smith113\\nFirst Name: Joe113\\nUci Net: Smith113\\nConcentration: Computer Engineering\\nArea of Expertise: I have expertise in Software Design, Software Architecture, Discrete Mathematics, Machine Learning, Data Structure, Algorithms, Compilers, Computer Architecture, Operating Systems, Robotics, Digital Design, Microprocessors, Computer Networks and Database Management. I am well-versed in programming languages like Python, C/C#/C++, SystemVerilog, Java, MySQL, Dot Net framework, Angular and MATLAB.  My qualifications in Computer Science are that I have worked as Software Engineer at Larsen and Toubro Infotech (LTI)for 1.5 years to gain industrial experience in the above-mentioned domains. I completed the above courses during my undergraduate years with good grades.   Yes, I have conducted offline (in-person) Robotics workshops during my undergraduate studies .\\nProgramming: I successfully completed DotNet Full Stack Developer training at LTI. I have worked on and developed various SQL scripts, Stored Procedures and SSIS packages for retrieval and processing of data in the database using Mycrosoft SQL Server. I also, developed Web APIs for publisher and listener services using C#. I have worked on projects using Raspberry Pi which made me proficient in Python and Linux OS. I have also worked on Arduino and programmed various microcontrollers in C. I have also successfully completed a specialization course in Python on Coursera.\\nPast Experience: CourseTitleInstructorPositionWhenEECS�160AIntroduction To Control SystemsKeyue SmedleyReader2022-fallINF�115SW Testing and Quality AssuranceJames A. JonesReader2023-spring\\nCourses Taken:', metadata={}), Document(page_content=\"Last Name: Smith119\\nFirst Name: Joe119\\nUci Net: Smith119\\nConcentration: Computer Graphics\\nArea of Expertise: My area of expertise would in Computer Graphics, though I am also familiar with machine learning / AI, mathematics, and cognitive science from my undergraduate specializations and previous research experience.    I don't have any experience teaching online courses. Outside of UCI, I have TA'ed for one university class at UCSD (Brain-Computing Interfaces) and a couple years worth of middle school and high school Common Core mathematics.\\nProgramming: I'm very comfortable in working with C++, Unix, and Python from various projects, courses, and some research work. I'm somewhat familiar in Java and C.  I have not used VHDL or Scheme before.  I've grown up using Windows Operating systems for a long time, so I'm quite used to working with them.\\nPast Experience: CourseTitleInstructorPositionWhenICS�32APython Programming with LibrariesThornton, AlexTA2018-fallICS�32Programming with Software LibrariesThornton, AlexTA2019-winterICS�6NComputational Linear AlgebraGago Masague, SergioTA2019-fallICS�33Intermediate ProgrammingWatkinson, NeftaliTA2019-summer\\nCourses Taken: CourseTitleGrWhenICS�399UNIVERSITY TEACHINGS202292CS�219SSEM GRAPH AND VISS202292ICS�399UNIVERSITY TEACHINGS202214ICS�399UNIVERSITY TEACHINGS202203ICS�399UNIVERSITY TEACHINGS202192ICS�399UNIVERSITY TEACHINGS202114ICS�399UNIVERSITY TEACHINGS202103CS�290RESEARCH SEMINARS202103ICS�399UNIVERSITY TEACHINGS202092CS�290RESEARCH SEMINARS202092ICS�399UNIVERSITY TEACHINGS202014CS�213INTRO TO VIS PERCEPA202014ICS�399UNIVERSITY TEACHINGS202003CS�221INFO RETRIEVALA+202003CS�211BCOMPGRPHC &VISULZTNA202003ICS�399UNIVERSITY TEACHINGS201992CS�295REINFORCMT LEARNINGA201992CS�243HIGH PERFRMCE ARCHA201992ICS�399UNIVERSITY TEACHINGS201914CS�217LIGHT&GEO COMP VISNB+201914CS�211AVISUAL COMPUTINGA201914ICS�399UNIVERSITY TEACHINGS201903CS�274CNRL NTWKS&DEEP LRNGB+201903CS�273AMACHINE LEARNINGA-201903ICS�399UNIVERSITY TEACHINGS201892ICS�398ATA TRAINING SEMINARS201892CS�268INTRO OPTIMIZATIONB+201892CS�260FUND ALGORITHMSA-201892\", metadata={}), Document(page_content='Last Name: Smith1\\nFirst Name: Joe1\\nUci Net: Smith1\\nConcentration: Computer Science\\nArea of Expertise: I have always considered myself to be an inquisitive and passionate individual who wants to work in an intellectually demanding workplace and is interested in finding solutions to real-life problems. Therefore, I have a genuine interest in learning advanced concepts related to core programming concepts and data science. In addition, I possess aptitude for mobile application and software development.   1. During the final year of my undergrad at Sardar Patel Institute of Technology, Mumbai, India, I handled the responsibilities of a Teaching Assistant in the Machine Learning Lab for 3rd-year students, wherein I created quizzes/activities and conducted online doubt-solving sessions. 2. I also served as a Teaching Assistant for data warehousing and mining, where I delivered online presentations and led practical tutorials for juniors.\\nProgramming: I have 3+ years of experience in Java and Python programming, as evidenced by working as a software developer at ICICI Lombard and freelancer for tech start-ups in Mumbai for three years. My proficiency in these programming languages has been further reinforced through my five years of experience working on various operating systems such as Windows, macOS, and Ubuntu Linux.\\nPast Experience: \\nCourses Taken: CourseTitleGrWhenCS�295PKEYSTONE PROJ CSA202303CS�273PMACH LRN & DATA MINA+202303CS�261PDATA STRUCTURESA202303CS�271PARTIFICIAL INTELLIGA202292CS�260PALGORITHMSA202292CS�253PADV PROG PROB SOLVA+202292', metadata={}), Document(page_content='Last Name: Smith93\\nFirst Name: Joe93\\nUci Net: Smith93\\nConcentration: Statistics\\nArea of Expertise: My major is Statistics, and I have a solid ability to extract data from various sources, transform data into a standard format and build a statistical model to summarize data trends. I am proficient in analyzing existing data to predict the future and providing actionable suggestions.  In Computer Science, I am excellent at transforming realistic problems into mathematical problems and finding a suitable model to solve these problems, which requires strong logical thinking and coding skills. I used to be a Toefl teaching assistant.\\nProgramming: I am a master�s student in Statistics, who is highly proficient in Python and SQL to extract, transform, and load data from a wide variety of data sources. In my recent position as an Advertisement Data Analysis Intern, I have experience with collaborating with the functional product team and using business intelligence visualization tools like Tableau to provide advertising adjustment strategies for clients, leading to a 15% increase in sales.  I am a detail-oriented and innovative person with a passion for data, and she is eager to use my statistical knowledge and data analysis skills to make a difference.\\nPast Experience: CourseTitleInstructorPositionWhenSTAT�200CTheory of Linear ModelsZhaoxia YuReader2023-springSTAT�140240Multivariate Statistical MethodsZhaoxia YuReader2023-spring\\nCourses Taken: CourseTitleGrWhenSTATS�295SPATIAL ANALYSISB+202292STATS�295ML FOR DATA SCIENCEA202214STATS�280SEMINAR IN STATSS202214STATS�210CSTAT METHODS IIIA-202214STATS�200CINT PROB & STAT THYB+202214STATS�280SEMINAR IN STATSS202203STATS�210BSTAT METHODS IIA202203STATS�205BAYES DATA ANALYSISA-202203STATS�200BINT PROB & STAT THYB+202203STATS�295SCI COMP WITH RA202192STATS�280SEMINAR IN STATSS202192STATS�210STATS METHODS IA202192STATS�200AINT PROB & STAT THYB+202192', metadata={}), Document(page_content=\"Last Name: Smith50\\nFirst Name: Joe50\\nUci Net: Smith50\\nConcentration: \\nArea of Expertise: I consider myself an expert in various domains of computer science, with special qualifications in Data structures and Algorithms, Operating Systems, Databases, data science, Machine Learning, Deep Learning, Computer Networks, and Web development. In addition, I am proficient in various technologies, programming languages, and frameworks such as Python, C, C++, JAVA, SQL, Bash, Javascript, HTML, CSS, PyTorch, TensorFlow, Git, Keras, scikit-learn, MySQL, PostgreSQL, MongoDB, and REST APIs.  My deep understanding of Machine Learning and Deep Learning sets me apart in the field of computer science. I have worked on topics such as applied ML for healthcare, DL for Natural Language Processing, and Image recognition, and have research papers on these topics at international conferences such as ICMLA.  In terms of teaching, I have experience working as a teaching assistant at Solarillion Foundation, a research foundation in India. In this role, I mentored 10+ undergraduate students with their research and assignments in python and ML. I have also held office hours for handling students' doubts and questions. My experience as a teaching assistant has given me valuable experience in designing and delivering online courses.\\nProgramming: I have a strong knowledge of Java as I took a course in object-oriented programming during my undergraduate studies, where I learned Java from basics to advanced concepts. I have also worked on multiple projects, including a learning management system and an online vacation planner, which involved using Java for web development and backend development.  For C/C++, I have been using them for around 6 years since high school and during my master's program. It is my primary programming language for competitive programming, and I have taken courses in my undergrad, including Operating Systems, Data Structures and Algorithms, and Computer Networks, where I used C/C++. I have also worked on course projects that involve C and C++.  I have extensive experience with Python, and it is the language where I have written the most lines of code. I have used it for multiple courses in my undergraduate and master's programs, and I mostly use it for my applied ML and deep learning research. I am also proficient in ML and DL libraries and frameworks such as PyTorch, scikit-learn, and TensorFlow.  Regarding SQL/Databases, I am extremely confident in my SQL knowledge and have been using it since high school. I am proficient in MySQL, PostgreSQL, and NoSQL databases such as MongoDB and AsterixDB. I also took a course in Databases and Database Management during my first quarter, which helped me refresh my knowledge of relational databases and become more confident in SQL. I have also used the above-mentioned projects in course projects during my undergraduate studies.  Finally, I have a highly proficient knowledge of Linux and took a course in Unix and shell programming during my undergraduate studies, where I gained an in-depth understanding of the Linux OS and different Linux commands. I have also been using Windows and macOS for several years, giving me a thorough knowledge of these operating systems as well.\\nPast Experience: \\nCourses Taken: CourseTitleGrWhenCS�295PKEYSTONE PROJ CSA+202303CS�273PMACH LRN & DATA MINA+202303CS�261PDATA STRUCTURESA202303CS�253PADV PROG PROB SOLVA+202292CS�238POPERATING SYSTEMSA202292CS�220PDATABAS & DATA MGMTA202292\", metadata={}), Document(page_content='Last Name: Smith64\\nFirst Name: Joe64\\nUci Net: Smith64\\nConcentration: Computer Science\\nArea of Expertise: I consider Machine Learning to be my area of expertise in Computer Science. I have good knowledge and practical experience in the fields of Neural Networks and Machine Learning. I have keen interest and good proficiency in Mathematics. I also consider myself proficient in Algorithms and other aspects of Computer Science. I have an undergraduate degree in Computer Engineering from University of Mumbai, India. I do not have any experience teaching online courses.\\nProgramming: I have intermediate experience in Java, C and C++. I also have some experience in SQL. I have good amount of experience in Windows. I also have intermediate experience in Linux. I do not have much experience in macOS. I have good amount of knowledge and experience in Python language and have developed many personal projects using Python.\\nPast Experience: CourseTitleInstructorPositionWhen---Reader--fall---Reader--fall---Reader--fall---Reader--fall\\nCourses Taken: CourseTitleGrWhenCS�295PKEYSTONE PROJ CSA202303CS�273PMACH LRN & DATA MINA+202303CS�261PDATA STRUCTURESA202303CS�271PARTIFICIAL INTELLIGA202292CS�260PALGORITHMSA202292CS�253PADV PROG PROB SOLVA+202292', metadata={})]\n"
     ]
    }
   ],
   "source": [
    "course_description = \"Introduces principles, techniques, and computational tools for quantitative approach to basic problem solving in physics and engineering. Pre-requisites: MATH 2A or AP Calculus AB or AP Calculus BC. Overlaps: Physics 2 \"\n",
    "query_get_recommendation = \"In these students I give you, which 10 students are most suitable Teaching assistant candidates (sort from best candidates to general candidates) for this course: I&C SCI 9\" + course_description\n",
    "similar_students = get_similar_docs(docsearch_students, top_skills_course(course_description))\n",
    "print(similar_students)"
   ]
  },
  {
   "cell_type": "code",
   "execution_count": 74,
   "metadata": {},
   "outputs": [],
   "source": [
    "# 10. Functions to get the answer to the question\n",
    "def get_recommendation(similar_students_info, query, chain):\n",
    "    try:\n",
    "        # operation that may raise an exception\n",
    "        ans = chain.run(input_documents=similar_students_info, question=query)\n",
    "    except Exception as e:\n",
    "        print(f\"An error occurred: {e}\")\n",
    "        # summary_similar_students_info = summarize_candidates(similar_students_info)  \n",
    "        # ans = chain.run(input_documents=summary_similar_students_info, question=query)\n",
    "    return ans"
   ]
  },
  {
   "cell_type": "code",
   "execution_count": null,
   "metadata": {},
   "outputs": [],
   "source": [
    "res = get_recommendation(similar_students, query_get_recommendation, chain)\n",
    "print(res)"
   ]
  },
  {
   "cell_type": "markdown",
   "metadata": {},
   "source": [
    "## TODO Walkaround OpenAI's Token Limit With Chain Type\n",
    "\n",
    "If Token Limit Error:\n",
    "InvalidRequestError: This model's maximum context length is 4097 tokens. However, your messages resulted in 8216 tokens. Please reduce the length of the messages."
   ]
  },
  {
   "cell_type": "code",
   "execution_count": 25,
   "metadata": {},
   "outputs": [],
   "source": [
    "from langchain.llms.openai import OpenAI\n",
    "from langchain.chains.summarize import load_summarize_chain\n",
    "\n",
    "llm2 = OpenAI(temperature=0)\n",
    "\n",
    "def summarize_candidates(docs):\n",
    "    char_text_splitter = CharacterTextSplitter(chunk_size=1000, chunk_overlap=0)\n",
    "    docs_chunks = char_text_splitter.split_documents(docs)\n",
    "    model = load_summarize_chain(llm2, chain_type=\"map_reduce\")\n",
    "    summary = model.run(docs_chunks)\n",
    "    print(summary)\n",
    "    return summary"
   ]
  },
  {
   "cell_type": "code",
   "execution_count": null,
   "metadata": {},
   "outputs": [],
   "source": [
    "course_description = \"Introduces principles, techniques, and computational tools for quantitative approach to basic problem solving in physics and engineering. Pre-requisites: MATH 2A or AP Calculus AB or AP Calculus BC. Overlaps: Physics 2 \"\n",
    "query_get_recommendation = \"In these students I give you, which 5 students are suitable Teaching assistant candidates for this course: I&C SCI 9\" + course_description\n",
    "similar_students = get_similar_docs(docsearch_students, course_description)\n",
    "print(similar_students)\n",
    "print(type(similar_students))\n",
    "print(type(similar_students[0]))\n",
    "print(type(similar_students[0].page_content))\n",
    "summarize_candidates(similar_students)"
   ]
  },
  {
   "cell_type": "markdown",
   "metadata": {},
   "source": [
    "<class 'list'>\n",
    "<class 'langchain.schema.Document'>\n",
    "<class 'str'>"
   ]
  },
  {
   "cell_type": "code",
   "execution_count": 22,
   "metadata": {},
   "outputs": [
    {
     "name": "stdout",
     "output_type": "stream",
     "text": [
      "20\n"
     ]
    }
   ],
   "source": [
    "char_text_splitter = CharacterTextSplitter(chunk_size=1000, chunk_overlap=0)\n",
    "docs_chunks = char_text_splitter.split_documents(similar_students)\n",
    "print(len(docs_chunks))"
   ]
  },
  {
   "cell_type": "code",
   "execution_count": 78,
   "metadata": {},
   "outputs": [],
   "source": [
    "from langchain.schema import Document\n",
    "def generate_new_doc(page_content, metadata):\n",
    "    new_doc = Document(\n",
    "        page_content=page_content,\n",
    "        metadata=metadata\n",
    "    )\n",
    "    return new_doc"
   ]
  },
  {
   "cell_type": "code",
   "execution_count": 54,
   "metadata": {},
   "outputs": [],
   "source": [
    "del docs_chunks[0]"
   ]
  },
  {
   "cell_type": "code",
   "execution_count": 55,
   "metadata": {},
   "outputs": [
    {
     "name": "stdout",
     "output_type": "stream",
     "text": [
      "20\n"
     ]
    }
   ],
   "source": [
    "# Insert the new chunk at the first position\n",
    "# docs_chunks.insert(0, new_chunk_prompt)\n",
    "print(len(docs_chunks))"
   ]
  },
  {
   "cell_type": "code",
   "execution_count": 86,
   "metadata": {},
   "outputs": [],
   "source": [
    "import openai\n",
    "class StudentsInfoSummarize:\n",
    "    def __init__(self, students_info):\n",
    "        self.students_info = students_info\n",
    "        self.students_info_summary = []\n",
    "\n",
    "    def get_students_summary(self):\n",
    "        for i in range(len(self.students_info)):\n",
    "            text = self.summarize_one_student(self.students_info[i].page_content)\n",
    "            new_doc_chunk = generate_new_doc(text, {})\n",
    "            self.students_info_summary.append(new_doc_chunk)\n",
    "        return self.students_info_summary\n",
    "\n",
    "\n",
    "    # pass one student info string to summarize_one_student\n",
    "    def summarize_one_student(self, student_info):\n",
    "        openai.api_key = os.getenv(\"OPENAI_API_KEY\")\n",
    "\n",
    "        response = openai.ChatCompletion.create(\n",
    "        model=\"gpt-3.5-turbo\",\n",
    "        messages=[\n",
    "            {\n",
    "            \"role\": \"system\",\n",
    "            \"content\": \"Please provide summary for the student background. Include their name, Uci Net and background information.\"\n",
    "            },\n",
    "            {\n",
    "            \"role\": \"user\",\n",
    "            \"content\": student_info\n",
    "        },\n",
    "        ],\n",
    "        temperature=0,\n",
    "        max_tokens=150,\n",
    "        top_p=1.0,\n",
    "        frequency_penalty=0.0,\n",
    "        presence_penalty=0.0\n",
    "       )\n",
    "        return response.choices[0].message.content;"
   ]
  },
  {
   "cell_type": "code",
   "execution_count": 87,
   "metadata": {},
   "outputs": [
    {
     "name": "stdout",
     "output_type": "stream",
     "text": [
      "<class 'list'>\n",
      "20\n"
     ]
    }
   ],
   "source": [
    "# from students_info_summarize import StudentsInfoSummarize\n",
    "students_info_summarize = StudentsInfoSummarize(docs_chunks)\n",
    "concise_context = students_info_summarize.get_students_summary()\n",
    "print(type(concise_context))\n",
    "print(len(concise_context))\n",
    "#similar_context, in a more concise way, within the token limit\n"
   ]
  },
  {
   "cell_type": "code",
   "execution_count": 56,
   "metadata": {},
   "outputs": [
    {
     "name": "stdout",
     "output_type": "stream",
     "text": [
      "<class 'langchain.schema.Document'>\n",
      "page_content Last Name: Smith9\n",
      "First Name: Joe9\n",
      "Uci Net: Smith9\n",
      "Concentration: Computer Science\n",
      "Area of Expertise: 1 I was a Teaching Assistant for the Department of Physics at UC Irvine for two quarters, i.e. Fall 2022 & Winter 2023. I worked under Professors Lee, Guerra, and Wu for classes Physics 3A, 3B, and 7C. My responsibilities included conducting discussions for 100+ students each quarter, conducting and grading quizzes as well as grading midterms and final exams.  2) This is my third quarter of graduate studies in ICS and I have maintained a consistent 4.0 GPA even after pursuing complicated courses like CS231P, CS253P, CS261P, CS271P, and CS273P. 3) I was a Teaching Assistant for my undergraduate course 'CSL802- Distributed Computing Lab' where I was responsible for creating a list of experiments that students would perform for the duration of the course. I also assisted students through various phases of their course projects. 4) During my role as a Data Engineer at Tata Consultancy Services, I was presented with a Colleague Appreciation Award for co-creating a month-long training program on \"Using SQL & Python to create efficient Azure data workflows in an Apache Spark-enabled distributed environment\" for newer associates across the organization. 5) During my undergraduate degree, I was among the 200 students across Asia-Pacific chosen by Intel Corporation as their Student Ambassadors for Artificial Intelligence (AI) for 2020. I was picked after three rigorous rounds of interviews about Applied AI, conducted by several AI researchers at Intel. My responsibilities included conducting online seminars and hands-on workshops on AI and its subdomains, alongside collaborating on AI projects with peers from the Intel DevMesh community. For instance, my undergraduate institution commended me for conducting a series of online lectures on \"Using Intel's OpenVINO toolkit to optimize Deep Learning models\" for 100+ fellow students. I also conducted a session on \"Training & deploying ML models using Azure ML Studio\" as a Microsoft Student Partner. 5) Throughout my undergraduate and professional tenure, I have developed an interest and taught seminars and workshops in Artificial Intelligence, Python Programming, SQL, and Distributed Computing.\n",
      "Programming: 1) I am also proficient in SQL due to my work experience as a Data Engineer where I was responsible to optimize CI/CD pipelines for ETL processes using SQL, Python and Apache Spark. I am proficient in C++ due to my predilection for competitive coding, participation in ACM ICPC and other regional coding contests as well as my personal interest in solving problems related to Data Structures and Algorithms. I am familiar with Java & C through my undergraduate courses and projects in Object-oriented Programming, Compiler Design, etc. 2) I have used Windows OS ever since I first laid my hands on a computer, so I am quite comfortable with using PowerShell, Microsoft Office Suite, Progressive Web Apps, etc. As a programmer, I have been using the Ubuntu distribution of the Linux OS for the past 6 years. I am comfortable with using the GCC Compiler, installing and operating network surveillance or third party services like OpenMPI as well as training Machine Learning models using Kernel Optimization through the Ubuntu terminal. 3) I have implemented projects where data was managed through a variety of databases which include traditional SQL-oriented databases like Oracle DB or MS SQL as well as the modern NoSQL databases like MongoDB, Amazon DynamoDB, Couchbase DB, etc. or distributed databases like Apache HBase, Azure CosmosDB, etc.\n",
      "Past Experience: CourseTitleInstructorPositionWhenPHYSICS�3ABASIC PHYSICS IHoward LeeTA2023-winterPHYSICS�3BBASIC PHYSICS IIRuqian WuTA2023-winterPHYSICS�7CCLASSICAL PHYSICSHoward LeeTA2022-fallPHYSICS�7CCLASSICAL PHYSICSArnold GuerraTA2022-fall\n",
      "Courses Taken: CourseTitleGrWhenCS�295PKEYSTONE PROJ CSA202303CS�273PMACH LRN & DATA MINA+202303CS�261PDATA STRUCTURESA202303CS�271PARTIFICIAL INTELLIGA202292CS�253PADV PROG PROB SOLVA+202292CS�231PPARL DIST COMP PROFA202292\n",
      "metadata {}\n"
     ]
    }
   ],
   "source": [
    "print(type(docs_chunks[0]))\n",
    "print(\"page_content\", docs_chunks[0].page_content)\n",
    "print(\"metadata\", docs_chunks[0].metadata)"
   ]
  },
  {
   "cell_type": "code",
   "execution_count": 88,
   "metadata": {},
   "outputs": [
    {
     "name": "stdout",
     "output_type": "stream",
     "text": [
      "Based on the provided information, the following 10 students are the most suitable Teaching Assistant candidates for the course I&C SCI 9:\n",
      "\n",
      "1. Joe Smith9: With experience as a Teaching Assistant for the Department of Physics and a background in Computer Science, Joe Smith9 would be a strong candidate for this course.\n",
      "\n",
      "2. Joe Smith109: With expertise in software development and machine learning, Joe Smith109 would be well-equipped to assist students in applying computational tools to problem-solving in physics and engineering.\n",
      "\n",
      "3. Joe Smith120: With a strong background in software development and a comprehensive understanding of statistical analysis and data analysis, Joe Smith120 would be a valuable asset in teaching the quantitative approach to problem-solving in this course.\n",
      "\n",
      "4. Joe Smith90: With experience as a Teaching Assistant for courses in Boolean Logic and Discrete Structures, Joe Smith90 would have the necessary mathematical background to assist students in this physics and engineering course.\n",
      "\n",
      "5. Joe91 Smith91: With expertise in data structures, algorithms, and system design, Joe91 Smith91 would be able to provide valuable insights and guidance in applying computational tools to problem-solving in physics and engineering.\n",
      "\n",
      "6. Joe Smith111: With experience as a Software Engineer and proficiency in programming languages such as Java and C++, Joe Smith111 would be able to assist students in utilizing computational tools for problem-solving in this course.\n",
      "\n",
      "7. Joe Smith79: With expertise in software engineering, computer architecture, and database management, Joe Smith79 would be able to provide valuable insights and guidance in applying computational tools to problem-solving in physics and engineering.\n",
      "\n",
      "8. Joe Smith94: With a strong background in theoretical computer science and experience as a TA for courses in applied cryptography and computer security, Joe Smith94 would be able to assist students in applying computational tools to problem-solving in this course.\n",
      "\n",
      "9. Joe Smith106: With expertise in optimization, data structures and algorithms, and graph theory, Joe Smith106 would be able to provide valuable insights and guidance in applying computational tools to problem-solving in physics and engineering.\n",
      "\n",
      "10. Joe Smith82: With experience as a software developer and a strong understanding of effective communication, Joe Smith82 would be able to assist students in applying computational tools to problem-solving in this course.\n",
      "\n",
      "Please note that the suitability of a Teaching Assistant candidate may also depend on factors such as their availability, schedule, and specific interest in the course material.\n"
     ]
    }
   ],
   "source": [
    "# use the concise summary and try query again\n",
    "res = get_recommendation(concise_context, query_get_recommendation, chain)\n",
    "print(res)"
   ]
  },
  {
   "cell_type": "code",
   "execution_count": 51,
   "metadata": {},
   "outputs": [],
   "source": [
    "model = load_summarize_chain(llm2, chain_type=\"map_reduce\")\n",
    "summary = model.run(docs_chunks[0:5])\n"
   ]
  },
  {
   "cell_type": "code",
   "execution_count": 52,
   "metadata": {},
   "outputs": [
    {
     "name": "stdout",
     "output_type": "stream",
     "text": [
      " Joe Smith84, Joe Smith67, and Joe Smith122 are all students at UC Irvine with expertise in various areas of Computer Science, Electrical Engineering, and Computer Engineering. They have experience in programming languages such as Python, C/C++, Java, and MATLAB, and have worked in various roles such as Teaching Assistants, Data Engineers, and Intel Student Ambassadors. They have also taken courses in Network Analysis II, Information Retrieval, and other relevant topics.\n"
     ]
    }
   ],
   "source": [
    "print(summary)"
   ]
  },
  {
   "cell_type": "code",
   "execution_count": 6,
   "metadata": {},
   "outputs": [],
   "source": [
    "# Once finished, we delete the Pinecone index to save resources\n",
    "pinecone.delete_index(index_name_ta)"
   ]
  }
 ],
 "metadata": {
  "kernelspec": {
   "display_name": "Python 3",
   "language": "python",
   "name": "python3"
  },
  "language_info": {
   "codemirror_mode": {
    "name": "ipython",
    "version": 3
   },
   "file_extension": ".py",
   "mimetype": "text/x-python",
   "name": "python",
   "nbconvert_exporter": "python",
   "pygments_lexer": "ipython3",
   "version": "3.10.1"
  },
  "orig_nbformat": 4
 },
 "nbformat": 4,
 "nbformat_minor": 2
}
