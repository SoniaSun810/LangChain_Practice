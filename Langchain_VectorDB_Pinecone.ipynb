{
 "cells": [
  {
   "cell_type": "code",
   "execution_count": 3,
   "metadata": {},
   "outputs": [],
   "source": [
    "# or to use other formats, use the following after installing the required packages:\n",
    "from langchain.document_loaders import UnstructuredFileLoader"
   ]
  },
  {
   "cell_type": "markdown",
   "metadata": {},
   "source": [
    "### Use LangChain CVSLoader "
   ]
  },
  {
   "cell_type": "code",
   "execution_count": 57,
   "metadata": {},
   "outputs": [],
   "source": [
    "# 1. Importing langChain document loaders and loading the data\n",
    "from langchain.document_loaders.csv_loader import CSVLoader\n",
    "def load_data_csv_file(file_path):\n",
    "    loader = CSVLoader(file_path)\n",
    "    data = loader.load()\n",
    "    return data"
   ]
  },
  {
   "cell_type": "code",
   "execution_count": 58,
   "metadata": {},
   "outputs": [],
   "source": [
    "# 2. Split the text into chunks\n",
    "from langchain.text_splitter import CharacterTextSplitter\n",
    "def split_documents(documents, chunk_size=1000, chunk_overlap =0):\n",
    "    text_splitter = CharacterTextSplitter(chunk_size=chunk_size,chunk_overlap=chunk_overlap)\n",
    "    texts = text_splitter.split_documents(documents)\n",
    "    return texts\n"
   ]
  },
  {
   "cell_type": "code",
   "execution_count": 71,
   "metadata": {},
   "outputs": [
    {
     "name": "stdout",
     "output_type": "stream",
     "text": [
      "137\n",
      "137\n",
      "page_content=\"Last Name: Smith6\\nFirst Name: Joe6\\nUci Net: Smith6\\nConcentration: \\nArea of Expertise: My Area of expertise includes but isn't limited to, Back end, data and information systems, Fullstack development, Microservices, and System design with a focus on building large-scale distributed systems on the cloud. I am also proficient in Algorithms, Data structures, and problem-solving. I have over 3 years of experience in software development in companies like Amazon and Cisco. I have worked with Tech stacks ranging from Golang, Java, C++, and Python to AWS, Ansible, and CI/CD.   I discovered a passion for teaching when I began organizing workshops for incoming undergraduates on various core computer science concepts. These experiences helped me refine my understanding and learn essential skills associated with disseminating complex information faster for beginners to learn and I have grown to love mentoring young students. I have also published articles on platforms such as GeeksForGeeks.org(https://auth.geeksforgeeks.org/user/adith%20bharadwaj/articles) and section.io(https://www.section.io/engineering-education/authors/adith-bharadwaj/), exploring various topics such as data analytics, computer networks, operating systems, and storage. While researching these domains, I was exposed to the incredible innovations in computer science and their widespread implications on society, which fortified my aspirations to pursue a career in the field.\\nProgramming: I have over 3 years of Professional experience with Java, C/C++, and DBMS including SQL, and NoSql. My primary operating systems are Linux(Ubuntu, Fedora), and macOS. I am proficient in Operating systems concepts and have professionally worked with cloud-based systems.   Having 3+ years of experience at companies like Amazon and Cisco, I have gained valuable experience in the field of software development. I have worked on building applications used by over 25 million people and with this experience I have gained skills and expertise in my field. At Amazon, I led a large-scale effort to migrate data from MySQL to DynamoDB (AWS) for a Microservice that handles user comments. My responsibilities included initial design for end-to-end migration, developing REST APIs, validating data, load testing, and implementing underlying logic for migration, which increased availability by 35% and reduced latency by 60%. During my time at Amazon, by mentoring interns and junior developers and interacting with a diverse team from various backgrounds, I recognized the importance of interpersonal/communication skills and learning to work outside my comfort zone.\\nPast Experience: CourseTitleInstructorPositionWhenINF�171Introduction to Health InformaticsRenee GarettTA2023-winterINF�121Software DesignAndre Van der HoekTA2023-spring\\nCourses Taken: CourseTitleGrWhenCS�295PKEYSTONE PROJ CSA202303CS�273PMACH LRN & DATA MINA+202303CS�261PDATA STRUCTURESA202303CS�271PARTIFICIAL INTELLIGA202292CS�253PADV PROG PROB SOLVA+202292CS�220PDATABAS & DATA MGMTB+202292\" metadata={'source': 'dummy_students_candidacy_data1.csv', 'row': 5}\n"
     ]
    }
   ],
   "source": [
    "# 3. Test load_data_csv_file and split_documents\n",
    "students_data = load_data_csv_file('dummy_students_candidacy_data1.csv')\n",
    "students_text = split_documents(students_data)\n",
    "print(len(students_data))\n",
    "print(len(students_text))\n",
    "print(students_text[5])"
   ]
  },
  {
   "cell_type": "code",
   "execution_count": 60,
   "metadata": {},
   "outputs": [],
   "source": [
    "# 4. #importing pinecone packages and OpenAIEmbeddings\n",
    "# pip install pinecone-client tiktoken\n",
    "from langchain.vectorstores import Pinecone\n",
    "from langchain.embeddings.openai import OpenAIEmbeddings\n",
    "import pinecone\n",
    "from langchain.embeddings import OpenAIEmbeddings\n",
    "from langchain.llms.openai import OpenAI\n",
    "from langchain.chat_models import ChatOpenAI\n",
    "from langchain.chains.question_answering import load_qa_chain\n"
   ]
  },
  {
   "cell_type": "code",
   "execution_count": 61,
   "metadata": {},
   "outputs": [],
   "source": [
    "# 5. Creating a pinecone vector store\n",
    "from dotenv import load_dotenv\n",
    "import os\n",
    "load_dotenv()\n",
    "pinecone.init(\n",
    "    api_key=os.getenv(\"PINECONE_API_KEY\"),\n",
    "    environment=os.getenv(\"PINECONE_ENVIRONMENT\")\n",
    ")\n",
    "# print(os.getenv(\"PINECONE_API_KEY\"))\n",
    "# print(os.getenv(\"PINECONE_ENVIRONMENT\"))"
   ]
  },
  {
   "cell_type": "code",
   "execution_count": 62,
   "metadata": {},
   "outputs": [],
   "source": [
    "# 6. Recursive document search function\n",
    "def recursive_doc_search(doc, embeddings, index_name):\n",
    "    if doc == None:\n",
    "        return None\n",
    "    else:\n",
    "        docsearch = Pinecone.from_texts([t.page_content for t in doc], embeddings, index_name=index_name)\n",
    "        return docsearch"
   ]
  },
  {
   "cell_type": "code",
   "execution_count": 63,
   "metadata": {},
   "outputs": [],
   "source": [
    "# 7. Use recursive_doc_search to set up the vector store for student candidates\n",
    "embeddings = OpenAIEmbeddings(openai_api_key=os.getenv(\"OPENAI_API_KEY\"))\n",
    "# query_result = embeddings.embed_query(\"hello world\")\n",
    "# print(len(query_result))"
   ]
  },
  {
   "cell_type": "code",
   "execution_count": 64,
   "metadata": {},
   "outputs": [],
   "source": [
    "docsearch_students = recursive_doc_search(students_text, embeddings, index_name='ta-matching-system-students')"
   ]
  },
  {
   "cell_type": "code",
   "execution_count": 65,
   "metadata": {},
   "outputs": [],
   "source": [
    "# 8. Establishing llm and the QA Chain\n",
    "model_name = \"gpt-3.5-turbo-0613\"\n",
    "llm=ChatOpenAI(temperature=0, model=\"gpt-3.5-turbo-0613\")\n",
    "chain = load_qa_chain(llm, chain_type=\"stuff\")"
   ]
  },
  {
   "cell_type": "code",
   "execution_count": 69,
   "metadata": {},
   "outputs": [
    {
     "name": "stdout",
     "output_type": "stream",
     "text": [
      "[Document(page_content=': CourseTitleGrWhenICSÊ399UNIVERSITY TEACHINGS202303CSÊ274APROB LEARNINGA202303CSÊ230DIST COMPUTER SYSA202303ICSÊ399UNIVERSITY TEACHINGS202292ICSÊ398ATA TRAINING SEMINARS202292CSÊ273AMACHINE LEARNINGA202292CSÊ244INTR EMBED UBIQ SYSA+202292ICSÊ399UNIVERSITY TEACHINGS202214CSÊ295BRAIN-INSPIRED LRNGA+202214CSÊ261DATA STRUCTURESA202214', metadata={}), Document(page_content=': CourseTitleGrWhenICSÊ399UNIVERSITY TEACHINGS202303CSÊ274APROB LEARNINGA202303CSÊ230DIST COMPUTER SYSA202303ICSÊ399UNIVERSITY TEACHINGS202292ICSÊ398ATA TRAINING SEMINARS202292CSÊ273AMACHINE LEARNINGA202292CSÊ244INTR EMBED UBIQ SYSA+202292ICSÊ399UNIVERSITY TEACHINGS202214CSÊ295BRAIN-INSPIRED LRNGA+202214CSÊ261DATA STRUCTURESA202214', metadata={})]\n"
     ]
    }
   ],
   "source": [
    "# 9. Function to get similar students close to the query (docsearch -> vector store) \n",
    "def get_similar_docs(docsearch, query, k = 2, score = False):\n",
    "    if score:\n",
    "        similar_docs = docsearch.similarity_search_with_score(query, k)\n",
    "    else:\n",
    "        similar_docs = docsearch.similarity_search(query, k)\n",
    "    return similar_docs\n",
    "\n",
    "query = \"Artificial Intelligence\"\n",
    "similar_docs_about_query = get_similar_docs(docsearch_students, query)\n",
    "print(similar_docs_about_query)\n",
    "\n"
   ]
  },
  {
   "cell_type": "code",
   "execution_count": 67,
   "metadata": {},
   "outputs": [
    {
     "name": "stdout",
     "output_type": "stream",
     "text": [
      "Based on the given information, there is no specific mention of any students who are suitable Teaching assistant candidates for the course I&C SCI 9. Therefore, I cannot provide a list of 5 suitable candidates.\n"
     ]
    }
   ],
   "source": [
    "# 10. Functions to get the answer to the question\n",
    "def get_recommendation(docsearch, query, chain):\n",
    "    docs = docsearch.similarity_search(query)\n",
    "    ans = chain.run(input_documents=docs, question=query)\n",
    "    return ans\n",
    "\n",
    "\n",
    "query = \"Which 5 students are suitable Teaching assistant candidates for this course: I&C SCI 9\tIntroduction to Computation for Scientists and Engineers\tIntroduces principles, techniques, and computational tools for quantitative approach to basic problem solving in physics and engineering. Pre-requisites: MATH 2A or AP Calculus AB or AP Calculus BC. Overlaps: Physics 2 \"\n",
    "recommendation = get_recommendation(docsearch_students, query, chain)\n",
    "print(recommendation)\n"
   ]
  }
 ],
 "metadata": {
  "kernelspec": {
   "display_name": "Python 3",
   "language": "python",
   "name": "python3"
  },
  "language_info": {
   "codemirror_mode": {
    "name": "ipython",
    "version": 3
   },
   "file_extension": ".py",
   "mimetype": "text/x-python",
   "name": "python",
   "nbconvert_exporter": "python",
   "pygments_lexer": "ipython3",
   "version": "3.10.1"
  },
  "orig_nbformat": 4
 },
 "nbformat": 4,
 "nbformat_minor": 2
}
