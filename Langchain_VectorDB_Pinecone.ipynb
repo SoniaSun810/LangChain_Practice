{
 "cells": [
  {
   "cell_type": "code",
   "execution_count": 3,
   "metadata": {},
   "outputs": [],
   "source": [
    "# or to use other formats, use the following after installing the required packages:\n",
    "from langchain.document_loaders import UnstructuredFileLoader"
   ]
  },
  {
   "cell_type": "markdown",
   "metadata": {},
   "source": [
    "## Use LangChain + Pinecone to Match Best TA Candidates for Each Course\n",
    "\n",
    "### Step 1 : Import LangChain CSVLoader and load the Students Information"
   ]
  },
  {
   "cell_type": "code",
   "execution_count": 16,
   "metadata": {},
   "outputs": [],
   "source": [
    "# 1. Importing langChain document loaders and loading the data\n",
    "from langchain.document_loaders.csv_loader import CSVLoader\n",
    "def load_data_csv_file(file_path):\n",
    "    loader = CSVLoader(file_path)\n",
    "    data = loader.load()\n",
    "    return data"
   ]
  },
  {
   "cell_type": "code",
   "execution_count": 17,
   "metadata": {},
   "outputs": [],
   "source": [
    "# 2. Split the text into chunks\n",
    "from langchain.text_splitter import CharacterTextSplitter\n",
    "def split_documents(documents, chunk_size=1000, chunk_overlap =0):\n",
    "    text_splitter = CharacterTextSplitter(chunk_size=chunk_size,chunk_overlap=chunk_overlap)\n",
    "    texts = text_splitter.split_documents(documents)\n",
    "    return texts\n"
   ]
  },
  {
   "cell_type": "code",
   "execution_count": 18,
   "metadata": {},
   "outputs": [
    {
     "name": "stdout",
     "output_type": "stream",
     "text": [
      "137\n",
      "137\n",
      "Last Name: Smith89\n",
      "First Name: Joe89\n",
      "Uci Net: Smith89\n",
      "Concentration: Embedded and Cyber-Physical\n",
      "Area of Expertise: My area of expertise is in Embedded Systems and IoT (Internet of Things). My relevant coursework, projects, and experience have all been focused on these areas. Additionally, I have experience working with various programming languages, frameworks, and hardware devices.  In terms of my special qualifications in Computer Science, I have experience in Embedded System Software, IoT Systems and Software, and Cyber-Physical System Design. I also have skills in various programming languages, frameworks, and hardware devices used in the field of Computer Science.\n",
      "Programming: I have experience with the following programming languages: C, C++, Python, EmbeddedC, SystemC, MATLAB, HTML/CSS.  I also have experience in some frameworks and platforms, such as Simulink, LabView, ROS, Arduino IDE, NI Multisim, Keil �vision 5, Xilinx, OpenCV, Proteus, Git, Node-Red.  For operating systems, I have experience in RTOS/ VxWorks/ RTLinux and other Real-time operating systems\n",
      "Past Experience: CourseTitleInstructorPositionWhenICS�31Introduction to ProgrammingProf. Mohammad MoshirpourTA2023-springEECS�31LINTRO DIG LOGIC LABProf. Salma ElmalakiReader2023-winter\n",
      "Courses Taken:\n"
     ]
    }
   ],
   "source": [
    "# 3. Test load_data_csv_file and split_documents\n",
    "students_data = load_data_csv_file('dummy_students_candidacy_data1.csv')\n",
    "students_text = split_documents(students_data)\n",
    "print(len(students_data))\n",
    "print(len(students_text))\n",
    "print(students_text[88].page_content)"
   ]
  },
  {
   "cell_type": "code",
   "execution_count": 19,
   "metadata": {},
   "outputs": [
    {
     "name": "stdout",
     "output_type": "stream",
     "text": [
      "Last Name: Smith101\n",
      "First Name: Joe101\n",
      "Uci Net: Smith101\n",
      "Concentration: \n",
      "Area of Expertise: I have previously TA'd and have experience proctoring classes remotely.  I have TA'd CS 121, ICS 6D, and ICS 32 previously.  My area of expertise is Machine Learning and Scientific Computing.\n",
      "Programming: I am proficient with Python and I have experience using C/C++.  I have working with Linux, Windows, and Mac operating systems.  I have experience using Canvas' API suite, and can upload grades and comments automatically.\n",
      "Past Experience: CourseTitleInstructorPositionWhenCS�121Information RetrievalMustafa IbrahimTA2021-winterICS�6DDiscrete Mathematics for CSPaniz EbrahimiTA2021-fallICS�6DDiscrete Mathematics for CSStanislaw JareckiTA2020-springICS�032Programming with Software LibrariesMustafa IbrahimTA2022-spring\n",
      "Courses Taken: CourseTitleGrWhenICS�399UNIVERSITY TEACHINGS202303ICS�399UNIVERSITY TEACHINGS202292ICS�399UNIVERSITY TEACHINGS202214CS�261DATA STRUCTURESA-202214ICS�399UNIVERSITY TEACHINGS202203CS�277CONTRL REINFC LEARNA+202203CS�274APROB LEARNINGB+202203ICS�399UNIVERSITY TEACHINGS202192CS�276RSN PROB GRAPH MODSA-202192CS�274EDEEP GENRTV MODELSA202192ICS�399UNIVERSITY TEACHINGS202114CS�216IMAGE UNDERSTANDINGA202114CS�206SCI COMPUTINGA202114ICS�399UNIVERSITY TEACHINGS202103CS�273AMACHINE LEARNINGA-202103CS�230DIST COMPUTER SYSA202103ICS�399UNIVERSITY TEACHINGS202092ICS�398ATA TRAINING SEMINARS202092CS�295AI/ML FOR CMPTL SCIA202092CS�271INTRO ARTIFCL INTELA202092\n"
     ]
    }
   ],
   "source": [
    "print(students_text[100].page_content)"
   ]
  },
  {
   "cell_type": "markdown",
   "metadata": {},
   "source": [
    "### Step 2. Set Up the Vector Store (Embedding Index) of the Students Information"
   ]
  },
  {
   "cell_type": "code",
   "execution_count": 20,
   "metadata": {},
   "outputs": [],
   "source": [
    "# 4. #importing pinecone packages and OpenAIEmbeddings\n",
    "# pip install pinecone-client tiktoken\n",
    "from langchain.vectorstores import Pinecone\n",
    "from langchain.embeddings.openai import OpenAIEmbeddings\n",
    "import pinecone\n",
    "from langchain.embeddings import OpenAIEmbeddings\n",
    "from langchain.chat_models import ChatOpenAI\n",
    "from langchain.chains.question_answering import load_qa_chain\n"
   ]
  },
  {
   "cell_type": "code",
   "execution_count": 21,
   "metadata": {},
   "outputs": [],
   "source": [
    "# 5. Creating a pinecone vector store\n",
    "from dotenv import load_dotenv\n",
    "import os\n",
    "load_dotenv()\n",
    "pinecone.init(\n",
    "    api_key=os.getenv(\"PINECONE_API_KEY\"),\n",
    "    environment=os.getenv(\"PINECONE_ENVIRONMENT\")\n",
    ")\n",
    "# print(os.getenv(\"PINECONE_API_KEY\"))\n",
    "# print(os.getenv(\"PINECONE_ENVIRONMENT\"))"
   ]
  },
  {
   "cell_type": "code",
   "execution_count": 22,
   "metadata": {},
   "outputs": [],
   "source": [
    "# 6. Recursive document search function\n",
    "def recursive_doc_search(doc, embeddings, index_name):\n",
    "    if doc == None:\n",
    "        return None\n",
    "    else:\n",
    "        docsearch = Pinecone.from_texts([t.page_content for t in doc], embeddings, index_name=index_name)\n",
    "        return docsearch"
   ]
  },
  {
   "cell_type": "code",
   "execution_count": 23,
   "metadata": {},
   "outputs": [
    {
     "name": "stdout",
     "output_type": "stream",
     "text": [
      "1536\n"
     ]
    }
   ],
   "source": [
    "# 7. Use recursive_doc_search to set up the vector store for student candidates\n",
    "embeddings = OpenAIEmbeddings(openai_api_key=os.getenv(\"OPENAI_API_KEY\"))\n",
    "query_result = embeddings.embed_query(\"hello world\")\n",
    "print(len(query_result))"
   ]
  },
  {
   "cell_type": "markdown",
   "metadata": {},
   "source": [
    "#### Manage the Pinecone Index"
   ]
  },
  {
   "cell_type": "code",
   "execution_count": null,
   "metadata": {},
   "outputs": [],
   "source": [
    "# give a index name\n",
    "index_name_ta = \"ta-matching-system-students\"\n",
    "# create a pinecone vector store (index) for student candidates\n",
    "# since we are using the openai embeddings, the dimension is 1536\n",
    "pinecone.create_index(index_name_ta, dimension=1536)\n",
    "# a more complex way: pinecone.create_index(\"example-index\", dimension=128, metric=\"euclidean\", pods=4, pod_type=\"s1.x1\")\n",
    "pinecone.describe_index(index_name_ta)"
   ]
  },
  {
   "cell_type": "code",
   "execution_count": 28,
   "metadata": {},
   "outputs": [
    {
     "name": "stdout",
     "output_type": "stream",
     "text": [
      "<class 'langchain.vectorstores.pinecone.Pinecone'>\n"
     ]
    }
   ],
   "source": [
    "docsearch_students = recursive_doc_search(students_text, embeddings, index_name=index_name_ta)\n",
    "print(type(docsearch_students))\n",
    "# print(docsearch_students)"
   ]
  },
  {
   "cell_type": "markdown",
   "metadata": {},
   "source": [
    "### Questions"
   ]
  },
  {
   "cell_type": "code",
   "execution_count": null,
   "metadata": {},
   "outputs": [],
   "source": [
    "# 1. Can we use the docsearch_students again?"
   ]
  },
  {
   "cell_type": "markdown",
   "metadata": {},
   "source": [
    "### Step 3. Use the LangChain QA Chain and Do Query based on Given Context (Similar Students Data)"
   ]
  },
  {
   "cell_type": "code",
   "execution_count": 29,
   "metadata": {},
   "outputs": [],
   "source": [
    "# 8. Establishing llm and the QA Chain\n",
    "model_name = \"gpt-3.5-turbo-0613\"\n",
    "llm=ChatOpenAI(temperature=0, model=model_name)\n",
    "chain = load_qa_chain(llm, chain_type=\"stuff\")"
   ]
  },
  {
   "cell_type": "code",
   "execution_count": 33,
   "metadata": {},
   "outputs": [],
   "source": [
    "def top_skills_course(course_description):\n",
    "    query = \"Please summarize the Top Teaching Assistant academic background using key words for this course, token limit 100:\" + course_description\n",
    "    ans = llm.predict(query)\n",
    "    print(ans)\n",
    "    return ans"
   ]
  },
  {
   "cell_type": "code",
   "execution_count": 34,
   "metadata": {},
   "outputs": [],
   "source": [
    "# 9. Function to get similar students close to the query (docsearch -> vector store) \n",
    "def get_similar_docs(docsearch, query, k = 20, score = False):\n",
    "    if score:\n",
    "        similar_docs = docsearch.similarity_search_with_score(query, k)\n",
    "    else:\n",
    "        similar_docs = docsearch.similarity_search(query, k)\n",
    "    return similar_docs\n",
    "\n"
   ]
  },
  {
   "cell_type": "code",
   "execution_count": 35,
   "metadata": {},
   "outputs": [
    {
     "name": "stdout",
     "output_type": "stream",
     "text": [
      "quantitative approach, problem solving, physics, engineering, principles, techniques, computational tools, pre-requisites, MATH 2A, AP Calculus AB, AP Calculus BC, overlaps, Physics 2\n",
      "[Document(page_content='Last Name: Smith9\\nFirst Name: Joe9\\nUci Net: Smith9\\nConcentration: Computer Science\\nArea of Expertise: 1 I was a Teaching Assistant for the Department of Physics at UC Irvine for two quarters, i.e. Fall 2022 & Winter 2023. I worked under Professors Lee, Guerra, and Wu for classes Physics 3A, 3B, and 7C. My responsibilities included conducting discussions for 100+ students each quarter, conducting and grading quizzes as well as grading midterms and final exams.  2) This is my third quarter of graduate studies in ICS and I have maintained a consistent 4.0 GPA even after pursuing complicated courses like CS231P, CS253P, CS261P, CS271P, and CS273P. 3) I was a Teaching Assistant for my undergraduate course \\'CSL802- Distributed Computing Lab\\' where I was responsible for creating a list of experiments that students would perform for the duration of the course. I also assisted students through various phases of their course projects. 4) During my role as a Data Engineer at Tata Consultancy Services, I was presented with a Colleague Appreciation Award for co-creating a month-long training program on \"Using SQL & Python to create efficient Azure data workflows in an Apache Spark-enabled distributed environment\" for newer associates across the organization. 5) During my undergraduate degree, I was among the 200 students across Asia-Pacific chosen by Intel Corporation as their Student Ambassadors for Artificial Intelligence (AI) for 2020. I was picked after three rigorous rounds of interviews about Applied AI, conducted by several AI researchers at Intel. My responsibilities included conducting online seminars and hands-on workshops on AI and its subdomains, alongside collaborating on AI projects with peers from the Intel DevMesh community. For instance, my undergraduate institution commended me for conducting a series of online lectures on \"Using Intel\\'s OpenVINO toolkit to optimize Deep Learning models\" for 100+ fellow students. I also conducted a session on \"Training & deploying ML models using Azure ML Studio\" as a Microsoft Student Partner. 5) Throughout my undergraduate and professional tenure, I have developed an interest and taught seminars and workshops in Artificial Intelligence, Python Programming, SQL, and Distributed Computing.\\nProgramming: 1) I am also proficient in SQL due to my work experience as a Data Engineer where I was responsible to optimize CI/CD pipelines for ETL processes using SQL, Python and Apache Spark. I am proficient in C++ due to my predilection for competitive coding, participation in ACM ICPC and other regional coding contests as well as my personal interest in solving problems related to Data Structures and Algorithms. I am familiar with Java & C through my undergraduate courses and projects in Object-oriented Programming, Compiler Design, etc. 2) I have used Windows OS ever since I first laid my hands on a computer, so I am quite comfortable with using PowerShell, Microsoft Office Suite, Progressive Web Apps, etc. As a programmer, I have been using the Ubuntu distribution of the Linux OS for the past 6 years. I am comfortable with using the GCC Compiler, installing and operating network surveillance or third party services like OpenMPI as well as training Machine Learning models using Kernel Optimization through the Ubuntu terminal. 3) I have implemented projects where data was managed through a variety of databases which include traditional SQL-oriented databases like Oracle DB or MS SQL as well as the modern NoSQL databases like MongoDB, Amazon DynamoDB, Couchbase DB, etc. or distributed databases like Apache HBase, Azure CosmosDB, etc.\\nPast Experience: CourseTitleInstructorPositionWhenPHYSICS�3ABASIC PHYSICS IHoward LeeTA2023-winterPHYSICS�3BBASIC PHYSICS IIRuqian WuTA2023-winterPHYSICS�7CCLASSICAL PHYSICSHoward LeeTA2022-fallPHYSICS�7CCLASSICAL PHYSICSArnold GuerraTA2022-fall\\nCourses Taken: CourseTitleGrWhenCS�295PKEYSTONE PROJ CSA202303CS�273PMACH LRN & DATA MINA+202303CS�261PDATA STRUCTURESA202303CS�271PARTIFICIAL INTELLIGA202292CS�253PADV PROG PROB SOLVA+202292CS�231PPARL DIST COMP PROFA202292', metadata={}), Document(page_content=\"Last Name: Smith95\\nFirst Name: Joe95\\nUci Net: Smith95\\nConcentration: \\nArea of Expertise: My areas of expertise are in AI, theory ,and math. I completed my undergraduate degree in the Math department, in math - computer science; therefore, I have taken many courses and previously tutored many courses in discrete math and  theoretical computer science. In my graduate degree I focused on AI and thats now my research area. I've been a TA in person and online, and would prefer teaching online.\\nProgramming: I took undergraduate courses in Java, C++, and Unix. I am familiar with the Windows OS.\\nPast Experience: CourseTitleInstructorPositionWhenCS�163/265Graph AlgorithmsD. EppsteinTA2022-winterCS�164/266Computational GeometryD. EppsteinTA2022-springICS�006DDiscrete Mathematics for Computer SS. JareckiTA2021-springCS�171Artificial Intelligence D. FrostTA2021-winter\\nCourses Taken: CourseTitleGrWhenICS�399UNIVERSITY TEACHINGS202214ICS�399UNIVERSITY TEACHINGS202203ICS�399UNIVERSITY TEACHINGS202192CS�276RSN PROB GRAPH MODSA+202192ICS�399UNIVERSITY TEACHINGS202114CS�295CAUSAL INFERENCEA+202114CS�261DATA STRUCTURESA202114ICS�399UNIVERSITY TEACHINGS202103CS�265GRAPH ALGORITHMSA202103CS�263ANALYSIS OF ALGRTHMA202103ICS�399UNIVERSITY TEACHINGS202092CS�275CONSTRAINT NETWORKSA202092CS�232CMPTR & COMM NTWRKSA+202092ICS�399UNIVERSITY TEACHINGS202014CS�266COMPTNL GEOMETRYA+202014CS�206SCI COMPUTINGA+202014ICS�399UNIVERSITY TEACHINGS202003CS�273AMACHINE LEARNINGA202003CS�260FUND ALGORITHMSA-202003ICS�399UNIVERSITY TEACHINGS201992ICS�398ATA TRAINING SEMINARS201992CS�271INTRO ARTIFCL INTELA201992CS�201CRYPTO PROTOCOLSA-201992\", metadata={}), Document(page_content=\"Last Name: Smith119\\nFirst Name: Joe119\\nUci Net: Smith119\\nConcentration: Computer Graphics\\nArea of Expertise: My area of expertise would in Computer Graphics, though I am also familiar with machine learning / AI, mathematics, and cognitive science from my undergraduate specializations and previous research experience.    I don't have any experience teaching online courses. Outside of UCI, I have TA'ed for one university class at UCSD (Brain-Computing Interfaces) and a couple years worth of middle school and high school Common Core mathematics.\\nProgramming: I'm very comfortable in working with C++, Unix, and Python from various projects, courses, and some research work. I'm somewhat familiar in Java and C.  I have not used VHDL or Scheme before.  I've grown up using Windows Operating systems for a long time, so I'm quite used to working with them.\\nPast Experience: CourseTitleInstructorPositionWhenICS�32APython Programming with LibrariesThornton, AlexTA2018-fallICS�32Programming with Software LibrariesThornton, AlexTA2019-winterICS�6NComputational Linear AlgebraGago Masague, SergioTA2019-fallICS�33Intermediate ProgrammingWatkinson, NeftaliTA2019-summer\\nCourses Taken: CourseTitleGrWhenICS�399UNIVERSITY TEACHINGS202292CS�219SSEM GRAPH AND VISS202292ICS�399UNIVERSITY TEACHINGS202214ICS�399UNIVERSITY TEACHINGS202203ICS�399UNIVERSITY TEACHINGS202192ICS�399UNIVERSITY TEACHINGS202114ICS�399UNIVERSITY TEACHINGS202103CS�290RESEARCH SEMINARS202103ICS�399UNIVERSITY TEACHINGS202092CS�290RESEARCH SEMINARS202092ICS�399UNIVERSITY TEACHINGS202014CS�213INTRO TO VIS PERCEPA202014ICS�399UNIVERSITY TEACHINGS202003CS�221INFO RETRIEVALA+202003CS�211BCOMPGRPHC &VISULZTNA202003ICS�399UNIVERSITY TEACHINGS201992CS�295REINFORCMT LEARNINGA201992CS�243HIGH PERFRMCE ARCHA201992ICS�399UNIVERSITY TEACHINGS201914CS�217LIGHT&GEO COMP VISNB+201914CS�211AVISUAL COMPUTINGA201914ICS�399UNIVERSITY TEACHINGS201903CS�274CNRL NTWKS&DEEP LRNGB+201903CS�273AMACHINE LEARNINGA-201903ICS�399UNIVERSITY TEACHINGS201892ICS�398ATA TRAINING SEMINARS201892CS�268INTRO OPTIMIZATIONB+201892CS�260FUND ALGORITHMSA-201892\", metadata={}), Document(page_content='Last Name: Smith90\\nFirst Name: Joe90\\nUci Net: Smith90\\nConcentration: Computational Science\\nArea of Expertise: (Part of the Computational Science program) Math Physics Fortran Python MATLAB Writing Discrete Math\\nProgramming: Some experience with C, C++, SQL, and bash. Very proficient with Python. Very proficient with Windows and comfortable with macOS and Linux.\\nPast Experience: CourseTitleInstructorPositionWhenICS�6BBoolean Logic and Discrete StructurWayne HayesTA2019-summerICS�6BBoolean LogicIrene GasskoTA2019-fallICS�31Introduction to ProgrammingShannon AlfaroTA2023-winterICS�139WCritical WritingShannon AlfaroTA2022-spring\\nCourses Taken: CourseTitleGrWhenCS�206SCI COMPUTINGA201914STATS�201STATS METH DATA IB+201892', metadata={}), Document(page_content=\"Last Name: Smith91\\nFirst Name: Joe91\\nUci Net: Smith91\\nConcentration: \\nArea of Expertise: Areas of Computer science which I have expertise are Data Structure, Algorithms and System Design and Critical Writing on Information Technology. I have qualified the Graduate Aptitude Test Engineering in Computer Science,one of the highly competitive exams conducted in India for admission into higher studies. I have expertise in Mathematics courseworks pertaining to CS and writing course works based on my previous TA experience.In the spring, 20 quarter I TA'ed in an online coursework ICS139W.\\nProgramming: I have an experience of six plus year in C and C++ programming and have basic knowledge of JAVA and Python programming. I have had an experience of 10+ years of experience in Windows Operating Systems. I have been a TA for ICS139W course consecutively for the last academic year with considerable amount of understanding of the course content.\\nPast Experience: CourseTitleInstructorPositionWhenCS�297PCapstone DesignSergio Gago MasagueTA2019-fallICS�139WCritical WritingMustafa IbrahimTA2020-fallICS�139WCritical Writing Mustafa IbrahimTA2020-springICS�139WCritical WritingDarren DennenbergTA2021-fall\\nCourses Taken: CourseTitleGrWhenICS�399UNIVERSITY TEACHINGS202292ICS�399UNIVERSITY TEACHINGS202214ICS�399UNIVERSITY TEACHINGS202203ICS�399UNIVERSITY TEACHINGS202192CS�295ENTREPRENEURSHIP IA202192CS�199INDIVIDUAL STUDYA+202192ICS�399UNIVERSITY TEACHINGS202114CS�295OPTIMIZATION FOR MLA-202114CS�236WIRELESS NETWORKINGA-202114ICS�399UNIVERSITY TEACHINGS202103CS�274APROB LEARNINGB202103CS�230DIST COMPUTER SYSA202103ICS�399UNIVERSITY TEACHINGS202092CS�232CMPTR & COMM NTWRKSA-202092CS�201CRYPTO PROTOCOLSA202092ICS�399UNIVERSITY TEACHINGS202014CS�266COMPTNL GEOMETRYA202014CS�261DATA STRUCTURESA-202014ICS�399UNIVERSITY TEACHINGS202003CS�260FUND ALGORITHMSB+202003CS�206SCI COMPUTINGA202003ICS�399UNIVERSITY TEACHINGS201992ICS�398ATA TRAINING SEMINARS201992CS�273AMACHINE LEARNINGB-201992CS�243HIGH PERFRMCE ARCHB+201992\", metadata={}), Document(page_content='Last Name: Smith106\\nFirst Name: Joe106\\nUci Net: Smith106\\nConcentration: Theoretical Computer Science\\nArea of Expertise: Theoretical topics: optimization, data structures and algorithms, graph theory, causality, time series analysis, operations research, economics related courses, probability and statistics, linear algebra, game theory, discrete math, basics of machine learning  I do not have experience in teaching online courses\\nProgramming: Very limited experience with Java and C. None with the rest.  Experience with Python.\\nPast Experience: CourseTitleInstructorPositionWhenICS�6NComputational Linear Algebra Paniz EbrahimiTA2023-winter\\nCourses Taken: CourseTitleGrWhenCS�290RESEARCH SEMINARS202303CS�269SSEM THEORY OF A&DSA202303CS�266COMPTNL GEOMETRYA202303CS�263ANALYSIS OF ALGRTHMA202303ICS�398ATA TRAINING SEMINARS202292CS�295INTRO TO AGTA202292CS�288ALGTH MATCH MARKETSA202292CS�269SSEM THEORY OF A&DSA202292', metadata={}), Document(page_content=\"Last Name: Smith84\\nFirst Name: Joe84\\nUci Net: Smith84\\nConcentration: Computer Engineering\\nArea of Expertise: I have expertise in Software Architecture, Software Design, Software Engineering, Discrete Mathematics, Machine Learning, Data Structure, Algorithms, Compilers, Computer Architecture, Operating Systems, Robotics, Digital Design, Microprocessors, Computer Networks, Database Management, Image Processing, Digital Signal Processing, and Optimization. I am well-versed in programming languages like Python, C/C++, SystemVerilog, Java, MySQL, and MATLAB. I am also an advanced user of the Linux operating system for development work as I have extensively used it during my time in the software development industry.  My qualifications in Computer Science are that I have worked at Qualcomm and NVIDIA for three (3) years to gain industrial experience in the above-mentioned domains. I completed the above courses during my undergraduate years with good grades. Further, I have worked with my professor advisors and completed multiple projects in the above-mentioned domains.  Yes, I have extensive experience in teaching online and also offline (in-person) courses.  1. On the education platform Chegg, I have taught programming to 50+ students.  2. I also worked as a Teaching Assistant to my professor in my senior year where I taught Computer Architecture and MATLAB programming to 150+ students and further helped them in doubt-clearing sessions.  3. As a volunteer of an NGO called Nirmaan Organization, I have also taught and mentored underprivileged children below 15 years of age.\\nProgramming: I have extensive experience in Java, VHDL/Verilog, C/C++, and MySQL. I have worked in RTL Design team at Qualcomm for over a year where I developed image processing engine using Verilog. I have also worked on several undergraduate projects involving advanced usage of Verilog/SystemVerilog. During my role as a system software engineer at Qualcomm for over two (2) years, I worked on developing python and C/C++ based automation applications and tools. Further, I also worked on developing Java based android applications for analyzing and debugging the GPU's performance.  I am an advanced user of all three operating systems namely Linux, Windows, and macOS. During my time at Qualcomm, I used Linux for development work and after using Linux for over three years I am very confident in using it for software development work. I used company's Windows based laptop for day-to-day office work and presentation, and therefore I have an advanced level of expertise in windows and the software development environment in Windows. I used Macbook during my undergraduate and therefore I understand all the intricacies of using MacOS and working on development projects on macOS.   I have knowledge of Python and MATLAB in addition to Java, VHDL/Verilog/SystemVerilog, C/C++, and SQL.\\nPast Experience: CourseTitleInstructorPositionWhenICS�139WCritical WritingMatthew BietzTA2022-fallINF�122Software Design: Structure And ImplJoshua GarciaTA2023-winterICS�166Game DesignTobias DoTA2023-spring\\nCourses Taken:\", metadata={}), Document(page_content='Last Name: Smith122\\nFirst Name: Joe122\\nUci Net: Smith122\\nConcentration: EECS\\nArea of Expertise: Programming, logical thinking and aptitude I consider them as my strong suite and I strongly believe if you are good at these you can become a great programmer. I was a reader in the EECS department for the fall 2022 quarter and right now I am working in the ICS department as a reader for the course IN4MATX 141 under professor Alberto, I do have some teaching experience, I used to teach mathematics and computer science to high school students back in India during my holidays. I really like to interact with students and solve their doubts. I would love to work as a TA this quarter and I prefer the TA role, if that is not possible I am also happy to work as a reader.\\nProgramming: I have good academic experience with Python, C and Java programming languages in my high school and in my bachelors, I have worked and developed so many projects using these programming languages. I am familiar with Windows, MacOS and Linux as well. I am also good at embedded systems, I have some experience with Unreal engine and blender\\nPast Experience: CourseTitleInstructorPositionWhenEECS�70BNetwork Analysis IIThomas KetseoglouReader2022-fallCS�121INFRMTION RETRIEVAL KRONE MARTINS, A.Reader2023-winterCS�121INFRMTION RETRIEVAL KRONE MARTINS, A.Reader2023-spring\\nCourses Taken:', metadata={}), Document(page_content=\"Last Name: Smith129\\nFirst Name: Joe129\\nUci Net: Smith129\\nConcentration: \\nArea of Expertise: In computer science, I have done several projects in the area of applied machine learning. I've also taken a number of Computer Science courses (such as machine learning,  and artificial intelligence) at UCI. I have great engineering skills, such as debugging and optimizing algorithms. Additionally, I have great communication skills and also a solid foundation in mathematics. I have experience in mentoring online courses during my undergraduate years. I teach students Calculus I and Differential Equations online.\\nProgramming: I have done projects with Java and Python so these are the most familiar languages to me. I have also taken data structure courses in C++ language. I am also familiar with the R language.  I am familiar with both Windows and MacOS operating systems.\\nPast Experience: CourseTitleInstructorPositionWhenCS�268POptimization Modeling Eric MjolsnessTA2022-fallCSE�90Systems Engineering and Tech CommunIrene GasskoTA2023-winterCS�171Intro to Artificial IntelligenceKalev KaskTA2023-spring\\nCourses Taken: CourseTitleGrWhenCS�263ANALYSIS OF ALGRTHMA202303CS�230DIST COMPUTER SYSA202303ICS�398ATA TRAINING SEMINARS202292CS�273AMACHINE LEARNINGA-202292CS�271INTRO ARTIFCL INTELA202292CS�244INTR EMBED UBIQ SYSA202292\", metadata={}), Document(page_content=\"Last Name: Smith124\\nFirst Name: Joe124\\nUci Net: Smith124\\nConcentration: \\nArea of Expertise: Algorithm Analysis and Data Structures Discrete Mathematics, Linear Algebra, Computer Graphics, boolean algebra. Theory of computation.  I have a strong mathematics background in computational as well as theoretical mathematics. This includes real analysis, topology, probability and statistical math, numerical analysis, and graph algorithms. I have background in group theory as well as in combinatorics.  * I have experience doing online office hours where I have helped students with their programming questions in ICS33\\nProgramming: Most of my programming experience is in C++,C and python. I've done all my academic projects in C++, C and python where I used linux and windows when doing any self/academic projects. I have a github link to my academic projects.  https://github.com/nvela005?tab=repositories  I have experience with programming in C, I wrote a shell program in C++ where I implemented various functionalities like input output redirection, as well piping. I am well prepared to TA ICS53, I have also attended all the lectures for ics53 and I have worked on their projects as well.\\nPast Experience: CourseTitleInstructorPositionWhenICS�46Data Structure in C++Professor ShindlerTA2023-winterICS�33Intermediate ProgrammingProfessor PattisTA2022-winterICS�33Intermediate ProgrammingProfessor PattisTA2022-springCS�162Theory of ComputationProfessor ShindlerTA2023-spring\\nCourses Taken: CourseTitleGrWhenICS�399UNIVERSITY TEACHINGS202303CS�263ANALYSIS OF ALGRTHMA202303CS�260FUND ALGORITHMSB202303CS�295GRAPH DATA ANALYSISB+202292CS�265GRAPH ALGORITHMSA-202292CS�232CMPTR & COMM NTWRKSB+202292CS�151DIGITAL LOG DESIGNA202292ICS�399UNIVERSITY TEACHINGS202214CS�211CREAL IMAGE SYNTHA-202214CS�211BCOMPGRPHC &VISULZTNA202214ICS�399UNIVERSITY TEACHINGS202203CS�295BLOCKCHAIN SYSTEMSA202203CS�241ADV COMPILER CONSTRA+202203ICS�399UNIVERSITY TEACHINGS202192CS�271INTRO ARTIFCL INTELA-202192CS�211AVISUAL COMPUTINGB+202192CS�201CRYPTO PROTOCOLSB+202192\", metadata={}), Document(page_content=\"Last Name: Smith82\\nFirst Name: Joe82\\nUci Net: Smith82\\nConcentration: \\nArea of Expertise: I completed my Bachelor's degree in 2020, majoring in Computer Science and Engineering. After that, I worked as a software developer for 2.5 years, where I gained hands-on experience in software development, Object-Oriented Programming (OOP), data structures and algorithms, database management. I also had the opportunity to work with a diverse range of programming languages such as Java, C++, and Python.  During my Master's degree, I continued to expand my knowledge in Computer Science, focusing on advanced topics such as Artificial Intelligence, Machine Learning, and Operating Systems. Additionally, I have also participated in various programming competitions, where I have demonstrated my proficiency in solving complex programming problems.  I believe I have a strong understanding of how to communicate effectively with students and professors, as well as the importance of attention to detail when grading assignments. Overall, I am confident that my technical skills, communication skills, attention to detail, passion for the field, and academic achievements make me an excellent candidate for this position. I am excited about the opportunity to contribute to your university and help students succeed in their computer science studies.  I&C SCI 6B - Boolean Logic and Discrete Structures I&C SCI 45J - Programming in Java as a Second Language I&C SCI 139W - Critical Writing on Information Technology I&C SCI 6N - Computational Linear Algebra I&C SCI 31 - Introduction to Programming I&C SCI 32 - Programming with Software Libraries I&C SCI 33 - Intermediate Programming I&C SCI 46 - Data Structure Implementation and Analysis I&C SCI 6D - Discrete Mathematics for Computer Science I&C SCI 51 - Introductory Computer Organization COMPSCI 143A � Principles of Operating Systems (Online Course) COMPSCI 199 � Individual Study (Great Program Only) IN4MATX 43 - Introduction to Software Engineering IN4MATX 172 - Project in Health Informatics\\nProgramming: I have more than seven year experience in Java, C, C++, SQL(Oracle sql, mysql, postgresql), No SQL(Asterix Db, Mongo Db). I have  more than seven year experience experience with the Linux, Windows, and/or macOS operating systems\\nPast Experience: \\nCourses Taken: CourseTitleGrWhenCS�295PKEYSTONE PROJ CSA202303CS�273PMACH LRN & DATA MINA+202303CS�261PDATA STRUCTURESA202303CS�271PARTIFICIAL INTELLIGA202292CS�253PADV PROG PROB SOLVA+202292CS�220PDATABAS & DATA MGMTA-202292\", metadata={}), Document(page_content='Last Name: Smith94\\nFirst Name: Joe94\\nUci Net: Smith94\\nConcentration: Cryptography\\nArea of Expertise: I would consider theoretical avenues my expertise. From basic discrete math to algorithms and cryptography.  In Computer Science, I have done theoretical research as well as practical research in a quantum computing lab. As an undergraduate, my lab and NASA collaborated on a Quantum Key Distribution project. I also did independent research into elliptic curve factorization and Galois theory. I have TAd for graduate as well as undergraduate classes. I also helped host practice exams for college calculus and physics classes. I have also helped various classmates as an undergraduate for upper level computer science classes.\\nProgramming: Experience with C++. Some experience with VHDL and C. Exposure to Java, SQL. No knowledge of Scheme. Experience in Windows. Reasonable expertise in Linux/macOS.\\nPast Experience: CourseTitleInstructorPositionWhenICS�6DDiscrete Math for Computer ScienceJing ZhangTA2023-winterCS�167Applied CryptographyStanislaw JareckiReader2022-winterCS�161Design and Analysis of AlgorithmsMichael DillencourtReader2022-springCS�201PComputer SecurityMohammad Iftekhar HusainTA2022-fall\\nCourses Taken: CourseTitleGrWhenCS�230DIST COMPUTER SYSA+202303CS�288ALGTH MATCH MARKETSA202292CS�232CMPTR & COMM NTWRKSA-202292CS�205COMP AND SYSTEM SECA202214CS�202APPLIED CRYPTYA202214CS�263ANALYSIS OF ALGRTHMA202203CS�260FUND ALGORITHMSB202203CS�295INTRO TO AGTA202192CS�271INTRO ARTIFCL INTELA202192CS�201CRYPTO PROTOCOLSB202192', metadata={}), Document(page_content='Last Name: Smith67\\nFirst Name: Joe67\\nUci Net: Smith67\\nConcentration: Electrical Engineering\\nArea of Expertise: I possess expertise in various domains related to computer science, including Data Structures and algorithms, Machine Learning, Computer Vision, Digital Image Processing, Microprocessors, Computer Networks, Digital Signal Processing. Additionally, I have a strong command of programming languages such as Python, C/C++ and MATLAB. I am also proficient in using the Linux operating system for development work, having extensively utilized it during my tenure in the software development industry.  To further my knowledge and skills, I have completed relevant courses during my undergraduate studies, achieving good grades. Moreover, I have gained practical experience in the aforementioned domains by working for three years at Qualcomm. Additionally, I have collaborated with my professors on multiple projects in these areas.\\nProgramming: I have worked with Python for three years at Qualcomm in the Modem Systems Team where I was involved in developing automation tools for testing. I have also worked with C/C++ during undergrad for various projects. I have extensive work experience with MATLAB and Python for Image Processing applications.  I have three years of experience working with Linux and Windows systems during my time at Qualcomm.\\nPast Experience: CourseTitleInstructorPositionWhenEECS�112Organization of Digital ComputersNader BagherzadehReader2022-fall\\nCourses Taken:', metadata={}), Document(page_content='Last Name: Smith132\\nFirst Name: Joe132\\nUci Net: Smith132\\nConcentration: \\nArea of Expertise: I am experienced in discrete mathematics, ML, data structures, and bioinformatics. I am doing research on computational science (astrophysics + cs, biological networks + cs).   I have TAed for the Programming Languages course (ICS 141) this fall and winter semester. I have TAed in Data Structures course (ICS 46) this spring.\\nProgramming: I have 4+ years of experience working with Linux programming, Java, SQL languages, C, and Python. I am also familiar with C++, scheme, and VHDL. I have done projects in Matlab and Java Script.\\nPast Experience: CourseTitleInstructorPositionWhenCS�141Programming Languages Raymond KlefstadTA2022-fallCS�171Artificial Intelligence Mohammadhossein Rohban TA2021-fallCS�46Data StructuresRaymond KlefstadTA2023-springCS�141Programming LanguagesRaymond KlefstadTA2022-winter\\nCourses Taken: CourseTitleGrWhenCS�295INNOV & PRODUCT DEVA202303CS�274APROB LEARNINGA+202303ICS�398ATA TRAINING SEMINARS202292CS�271INTRO ARTIFCL INTELA202292CS�206SCI COMPUTINGA202292', metadata={}), Document(page_content='Last Name: Smith20\\nFirst Name: Joe20\\nUci Net: Smith20\\nConcentration: \\nArea of Expertise: Linear algebra, artificial intelligence, machine learning, discrete math, python, optimization, graph theory, anything that is math heavy.\\nProgramming: Experience with Java (3 semesters of classes), a couple big projects in Java.\\nPast Experience: CourseTitleInstructorPositionWhenCS�171Intro to AIK. KaskTA2021-fallCS�171Intro to AIK. KaskTA2021-spring\\nCourses Taken: CourseTitleGrWhenICS�399UNIVERSITY TEACHINGS202303CS�260FUND ALGORITHMSA-202303CS�230DIST COMPUTER SYSA+202303CS�275CONSTRAINT NETWORKSA202292CS�274EDEEP GENRTV MODELSA+202292CS�232CMPTR & COMM NTWRKSB+202292ICS�399UNIVERSITY TEACHINGS202214CS�295BRAIN-INSPIRED LRNGA+202214CS�247COMPLX SW SYS: PROJA202214ICS�399UNIVERSITY TEACHINGS202203CS�295CAUSAL REASONINGA-202203CS�273AMACHINE LEARNINGA202203ICS�399UNIVERSITY TEACHINGS202192ICS�398ATA TRAINING SEMINARS202192CS�276RSN PROB GRAPH MODSA202192CS�271INTRO ARTIFCL INTELA202192', metadata={}), Document(page_content='Last Name: Smith62\\nFirst Name: Joe62\\nUci Net: Smith62\\nConcentration: Theory\\nArea of Expertise: I have about a year of experience with teaching online, through being an assistant to TAs during my undergraduate studies, as well as running a club where teaching basic algorithms was a major component.  Generally speaking my expertise would lie in multithreaded programming, since that is the most professional experience I have had up to this point, as well as basic algorithms and data structures since that was the class that I had assisted in prior.\\nProgramming: C/C++ - 3 years Cuda - 1 year Python - 3 years Java - 2 years Linux - 4 years Windows - 10 years\\nPast Experience: CourseTitleInstructorPositionWhenCS�161DES&ANALYS OF ALGORMichael DillencourtTA2021-fallICS�45CProgramming in C++ Raymond KlefstadTA2021-winterCS�260PFundamentals of Algorithms with AppMichael SchindlerTA2022-springICS�46Data Structure Implementation and ADaniel FrishbergTA2022-summer\\nCourses Taken: CourseTitleGrWhenICS�399UNIVERSITY TEACHINGS202303CS�269SSEM THEORY OF A&DSA202303CS�241ADV COMPILER CONSTRA+202303CS�202APPLIED CRYPTYC+202303ICS�399UNIVERSITY TEACHINGS202292CS�273AMACHINE LEARNINGA-202292CS�269SSEM THEORY OF A&DSA202292CS�244INTR EMBED UBIQ SYSA202292ICS�399UNIVERSITY TEACHINGS202214CS�269SSEM THEORY OF A&DSA202214CS�266COMPTNL GEOMETRYA-202214CS�242PARALLEL COMPUTINGA+202214ICS�399UNIVERSITY TEACHINGS202203CS�269SSEM THEORY OF A&DSA202203CS�265GRAPH ALGORITHMSA-202203CS�263ANALYSIS OF ALGRTHMA202203ICS�398ATA TRAINING SEMINARS202192CS�295INTRO TO AGTB202192CS�276RSN PROB GRAPH MODSB-202192CS�269SSEM THEORY OF A&DSA202192CS�232CMPTR & COMM NTWRKSB-202192', metadata={}), Document(page_content=\"Last Name: Smith25\\nFirst Name: Joe25\\nUci Net: Smith25\\nConcentration: N/A\\nArea of Expertise: My main areas of expertise are Statistics and Mathematics.  In computer science, I can program in R, python and Matlab.  I worked as a reader and a TA in the last two academic years.\\nProgramming: I started programming with Java and I have some experience with the Windows Operating system and Linux I don't have any experience with VHDL, Scheme, C, C++.\\nPast Experience: CourseTitleInstructorPositionWhenSTAT�120CIntro to Proba and StatsSevan Koko GulesserianTA2022-springSTAT�7Basic StatisticsBrigitte BaldiTA2022-winterSTAT�67INTRO PROB&STAT/CS D ArmstrongTA2021-fallSTAT�7Basic StatsLee KuceraTA2023-winter\\nCourses Taken: CourseTitleGrWhenICS�399UNIVERSITY TEACHINGS202303STATS�295SPATIAL ANALYSISA202292STATS�280SEMINAR IN STATSS202292ICS�399UNIVERSITY TEACHINGS202292STATS�280SEMINAR IN STATSS202214STATS�260MISSING DATAA202214STATS�225BAYESIAN STATISTICSA202214ICS�399UNIVERSITY TEACHINGS202214STATS�280SEMINAR IN STATSS202203STATS�245TIME SERIES ANALYSA+202203STATS�230STATS COMPUT METHODA+202203STATS�220BADV PROB&STATTOPICSA202203ICS�399UNIVERSITY TEACHINGS202203STATS�280SEMINAR IN STATSS202192STATS�220AADV PROB&STATTOPICSA-202192ICS�399UNIVERSITY TEACHINGS202192CS�274EDEEP GENRTV MODELSA+202192STATS�280SEMINAR IN STATSS202114STATS�212STATS METHODS IIIA202114STATS�200CINT PROB & STAT THYA-202114ICS�399UNIVERSITY TEACHINGS202114STATS�280SEMINAR IN STATSS202103STATS�211STATS METHOD IIA202103STATS�200BINT PROB & STAT THYA-202103CS�274CNRL NTWKS&DEEP LRNGA202103STATS�280SEMINAR IN STATSS202092STATS�210STATS METHODS IA202092STATS�200AINT PROB & STAT THYA+202092ICS�399UNIVERSITY TEACHINGS202092\", metadata={}), Document(page_content='Last Name: Smith24\\nFirst Name: Joe24\\nUci Net: Smith24\\nConcentration: Software Engineering\\nArea of Expertise: I consider Software Engineering and web development to be my area of expertise. I have experience tutoring online as I worked as a tutor and math coach during my time as an undergraduate student at Southern University and A&M College. When the pandemic started, we began offering our services to students online. As a Match coach I served as a Teaching Assistant in different math classes where I had to be present in the classroom and helped professors when needed. In addition, I had Tutoring hours set to help students further both in person and online. As a Tutor I have Helped students in specific courses such as: any math classes up to calculus 2, French, biology, C++ programing, physics 1&2, and Java programming. In addition, I was in charge of monitoring students as they come study in the learning center.\\nProgramming: I am proficient in both C++ and Java as I have studied these languages extensively throughout my undergraduate years. I have taken an operating systems course and have general knowledge about operating systems. I am also proficient in HTML and CSS as I have built numerous websites and application throughout my undergraduate career.\\nPast Experience: CourseTitleInstructorPositionWhenINF�43Intro to Software EngineeringJess GillespieTA2021-fallSWE�245PGUI Programming Alberto Krone-Martins TA2022-fallSWE�50PWeb programming Alberto Krone-Martins TA2022-fall\\nCourses Taken: CourseTitleGrWhenICS�399UNIVERSITY TEACHINGS202292SWE�234HUMAN ASPECTS OF SEA202214SWE�212ANALYSIS PROG LANGA202214SWE�225INFO RETRIEVALA+202203SWE�221SOFTWARE ARCHITECTRA202203SWE�214PROGRAM ANALYSISA202192SWE�211SOFTWARE ENGINEERNGA202192ICS�399UNIVERSITY TEACHINGS202192ICS�398ATA TRAINING SEMINARS202192', metadata={}), Document(page_content='Last Name: Smith71\\nFirst Name: Joe71\\nUci Net: Smith71\\nConcentration: \\nArea of Expertise: Statistics and mathematics is my area of expertise. I have been extremely interested in the field of Mathematics for many years and as an undergraduate student. I have taken 67 credit hours of Mathematics and Statistics courses, and 19 credit hours of computer science courses. Aside from the courses required for graduation, I enrolled in classes that interested me such as Mathematical Statistics, Number Theory, and Artificial Intelligence in which I excelled as a student. I had a major GPA of 3.8.   As an undergraduate student, I tutored numerous mathematics courses both online and in-person to 4 undergraduate students for two years. These courses included Multivariate Calculus, Linear Algebra, Machine Learning, and the mathematics section of the GRE. I enjoy explaining abstract concepts at each student�s level of understanding. My students have reported that they find my explanations clear and valuable for their learning which helped them receive high grades. Although teaching students online was challenging because of the technical difficulties, I was able to overcome them using my tablet device that simulated a real classroom environment.   While I was serving in the Korean Army, I helped numerous squadrons study and learn English free of charge. I held separate group study sessions for students of varying language skills and helped them improve their grammar and conversational skills. Many of these students were disadvantaged and their improved English proficiency exam scores helped them transfer to a more prestigious school.    In addition to the highly technical skills learned from computer science courses, I have a vast experience in data analysis. I have worked on multiple machine-learning projects that involved natural language and image processing. These projects were mostly executed in Python. I will elaborate on my specific computer science qualification in the following section.\\nProgramming: I modeled and trained GNNs to identify ADHD patients from EEG recordings and compared them with existing CNN models. Raw EEG recordings were preprocessed using MATLAB (EEGLAB) and my GNN models obtained 98.65% accuracy. I am currently working on explainable AI and further analysis.  I performed a sentiment analysis on Twitter and Parler users� reactions to the 2020 U.S. Capitol incident. Twitter API was utilized to collect the data, and I created a preprocessing pipeline using bash and Python script on a Linux server. Over 10GB of textual data was analyzed.  After taking an online course on artificial intelligence, I built a deep neural network classifier using softmax regression from scratch. I trained this model on a well-known MNIST digit dataset and obtained 96% accuracy. This work was done and published on Kaggle.   Using bash script, I was able to automate data download and preprocessing. The downloaded data was uploaded to the PostgreSQL server, where I connected and used google data studios to create updated data reports automatically.  I am currently using macOS, but I am very familiar with Windows and Linux operating systems.\\nPast Experience: CourseTitleInstructorPositionWhenSTAT�8Introduction to BiostatisticsBrigitte BaldiTA2023-spring\\nCourses Taken: CourseTitleGrWhenSTATS�280SEMINAR IN STATSS202303STATS�255STAT METH SURVIVALB+202303STATS�211STATS METHOD IIB+202303STATS�200BINT PROB & STAT THYB+202303STATS�280SEMINAR IN STATSS202292STATS�210STATS METHODS IA202292STATS�200AINT PROB & STAT THYB+202292CS�284AAI IN BIO AND MEDA202292', metadata={}), Document(page_content=\"Last Name: Smith120\\nFirst Name: Joe120\\nUci Net: Smith120\\nConcentration: Computer Science\\nArea of Expertise: 1. What do you consider your area of expertise? As a Master of Computer Science student at UCI, my area of expertise lies in software development, with a strong background in front-end and back-end development using Python, Java, and JavaScript. I also have a comprehensive understanding of statistical analysis, machine learning, and data analysis, which I have further honed through my coursework and professional experience.  2. In Computer Science, what are your special qualifications? I have achieved a 4.0 overall GPA in my Master's program and have excelled in courses such as Operating Systems, Data Structures, Machine Learning, and Artificial Intelligence, receiving full grades and near-perfect scores on tests. Additionally, I have a passion for statistical analysis and have even written blog posts on the topic related to financial data analysis as a hobby. My professional experience at Barclays has further enriched my technical expertise and deepened my understanding of software development practices.  3. Do you have experience teaching online courses? Yes, I have experience in teaching as a grader for the Paul Merage LDI program during the Winter 2023 term. This experience involved solving doubts during office hours and providing valuable feedback on individual assignments to help students improve their understanding of the subject matter. Additionally, I have previously served as an assistant for front-end development during my undergraduate studies and mentored junior colleagues in a professional work environment. These experiences have strengthened my commitment to delivering high-quality work and have equipped me with the necessary skills to effectively engage with students in an online learning environment.\\nProgramming: I am highly proficient in Java, Python, and JavaScript, with a deep understanding of their syntax, libraries, and frameworks. I have hands-on experience with various relational and non-relational databases, including MySQL, Postgres, and MongoDB, and can design and optimize database structures to meet specific requirements. Additionally, I have extensive experience working with Windows and Linux operating systems, including command-line interfaces and system administration tasks.  As part of my ongoing professional development, I am currently pursuing the AWS Certified Developer Associate certification, which will further enhance my skills in cloud computing and deployment. I am also actively involved in a capstone project that involves utilizing React Native for mobile application development and deploying the application to the cloud, providing me with practical experience in modern web and cloud technologies.  Furthermore, I am also a proficient technical writer, having written blog posts on the financial and statistical analysis of cryptocurrencies in recent times. This showcases my ability to effectively communicate complex technical concepts to a wider audience and demonstrates my strong written communication skills.  Overall, my diverse technical expertise in programming languages, databases, operating systems, and cloud computing, along with my skills in technical writing, make me well-equipped to handle a wide range of tasks and responsibilities as a grader or teaching assistant in the field of computer science.\\nPast Experience: CourseTitleInstructorPositionWhenLDI�(MERAGE)Certificate in AI FundamentalsMultiple InstructorsReader2023-winter\\nCourses Taken: CourseTitleGrWhenCS�295PKEYSTONE PROJ CSA202303CS�273PMACH LRN & DATA MINA+202303CS�261PDATA STRUCTURESA202303CS�271PARTIFICIAL INTELLIGA202292CS�253PADV PROG PROB SOLVA+202292CS�238POPERATING SYSTEMSA202292\", metadata={})]\n"
     ]
    }
   ],
   "source": [
    "course_description = \"Introduces principles, techniques, and computational tools for quantitative approach to basic problem solving in physics and engineering. Pre-requisites: MATH 2A or AP Calculus AB or AP Calculus BC. Overlaps: Physics 2 \"\n",
    "query_get_recommendation = \"In these students I give you, which 10 students are most suitable Teaching assistant candidates (sort from best candidates to general candidates) for this course: I&C SCI 9\" + course_description\n",
    "similar_students = get_similar_docs(docsearch_students, top_skills_course(course_description))\n",
    "print(similar_students)"
   ]
  },
  {
   "cell_type": "code",
   "execution_count": 36,
   "metadata": {},
   "outputs": [],
   "source": [
    "# 10. Functions to get the answer to the question\n",
    "def get_recommendation(similar_students_info, query, chain):\n",
    "    try:\n",
    "        # operation that may raise an exception\n",
    "        ans = chain.run(input_documents=similar_students_info, question=query)\n",
    "    except Exception as e:\n",
    "        print(f\"An error occurred: {e}\")\n",
    "        # summary_similar_students_info = summarize_candidates(similar_students_info)  \n",
    "        # ans = chain.run(input_documents=summary_similar_students_info, question=query)\n",
    "    return ans"
   ]
  },
  {
   "cell_type": "code",
   "execution_count": null,
   "metadata": {},
   "outputs": [],
   "source": [
    "res = get_recommendation(similar_students, query_get_recommendation, chain)\n",
    "print(res)"
   ]
  },
  {
   "cell_type": "markdown",
   "metadata": {},
   "source": [
    "## TODO Walkaround OpenAI's Token Limit With Chain Type\n",
    "\n",
    "If Token Limit Error:\n",
    "InvalidRequestError: This model's maximum context length is 4097 tokens. However, your messages resulted in 8216 tokens. Please reduce the length of the messages."
   ]
  },
  {
   "cell_type": "code",
   "execution_count": 25,
   "metadata": {},
   "outputs": [],
   "source": [
    "# Failure: langchain.chains.summarize doen't work, too short to include all the students' info\n",
    "# from langchain.llms.openai import OpenAI\n",
    "# from langchain.chains.summarize import load_summarize_chain\n",
    "\n",
    "# llm2 = OpenAI(temperature=0)\n",
    "\n",
    "# def summarize_candidates(docs):\n",
    "#     char_text_splitter = CharacterTextSplitter(chunk_size=1000, chunk_overlap=0)\n",
    "#     docs_chunks = char_text_splitter.split_documents(docs)\n",
    "#     model = load_summarize_chain(llm2, chain_type=\"map_reduce\")\n",
    "#     summary = model.run(docs_chunks)\n",
    "#     print(summary)\n",
    "#     return summary"
   ]
  },
  {
   "cell_type": "code",
   "execution_count": null,
   "metadata": {},
   "outputs": [],
   "source": [
    "course_description = \"Introduces principles, techniques, and computational tools for quantitative approach to basic problem solving in physics and engineering. Pre-requisites: MATH 2A or AP Calculus AB or AP Calculus BC. Overlaps: Physics 2 \"\n",
    "course_description2 = \"An introduction to the lexical, syntactic, semantic, and pragmatic characteristics of the Java language for experienced programmers.\"\n",
    "\n",
    "course_num = \"I&C SCI 9\"\n",
    "similar_students = get_similar_docs(docsearch_students, course_description)\n",
    "print(similar_students)\n",
    "print(type(similar_students))\n",
    "print(type(similar_students[0]))\n",
    "print(type(similar_students[0].page_content))"
   ]
  },
  {
   "cell_type": "markdown",
   "metadata": {},
   "source": [
    "<class 'list'>\n",
    "<class 'langchain.schema.Document'>\n",
    "<class 'str'>"
   ]
  },
  {
   "cell_type": "code",
   "execution_count": 41,
   "metadata": {},
   "outputs": [
    {
     "name": "stdout",
     "output_type": "stream",
     "text": [
      "length of docs_chunks 20\n",
      "<class 'langchain.schema.Document'>\n",
      "page_content Last Name: Smith9\n",
      "First Name: Joe9\n",
      "Uci Net: Smith9\n",
      "Concentration: Computer Science\n",
      "Area of Expertise: 1 I was a Teaching Assistant for the Department of Physics at UC Irvine for two quarters, i.e. Fall 2022 & Winter 2023. I worked under Professors Lee, Guerra, and Wu for classes Physics 3A, 3B, and 7C. My responsibilities included conducting discussions for 100+ students each quarter, conducting and grading quizzes as well as grading midterms and final exams.  2) This is my third quarter of graduate studies in ICS and I have maintained a consistent 4.0 GPA even after pursuing complicated courses like CS231P, CS253P, CS261P, CS271P, and CS273P. 3) I was a Teaching Assistant for my undergraduate course 'CSL802- Distributed Computing Lab' where I was responsible for creating a list of experiments that students would perform for the duration of the course. I also assisted students through various phases of their course projects. 4) During my role as a Data Engineer at Tata Consultancy Services, I was presented with a Colleague Appreciation Award for co-creating a month-long training program on \"Using SQL & Python to create efficient Azure data workflows in an Apache Spark-enabled distributed environment\" for newer associates across the organization. 5) During my undergraduate degree, I was among the 200 students across Asia-Pacific chosen by Intel Corporation as their Student Ambassadors for Artificial Intelligence (AI) for 2020. I was picked after three rigorous rounds of interviews about Applied AI, conducted by several AI researchers at Intel. My responsibilities included conducting online seminars and hands-on workshops on AI and its subdomains, alongside collaborating on AI projects with peers from the Intel DevMesh community. For instance, my undergraduate institution commended me for conducting a series of online lectures on \"Using Intel's OpenVINO toolkit to optimize Deep Learning models\" for 100+ fellow students. I also conducted a session on \"Training & deploying ML models using Azure ML Studio\" as a Microsoft Student Partner. 5) Throughout my undergraduate and professional tenure, I have developed an interest and taught seminars and workshops in Artificial Intelligence, Python Programming, SQL, and Distributed Computing.\n",
      "Programming: 1) I am also proficient in SQL due to my work experience as a Data Engineer where I was responsible to optimize CI/CD pipelines for ETL processes using SQL, Python and Apache Spark. I am proficient in C++ due to my predilection for competitive coding, participation in ACM ICPC and other regional coding contests as well as my personal interest in solving problems related to Data Structures and Algorithms. I am familiar with Java & C through my undergraduate courses and projects in Object-oriented Programming, Compiler Design, etc. 2) I have used Windows OS ever since I first laid my hands on a computer, so I am quite comfortable with using PowerShell, Microsoft Office Suite, Progressive Web Apps, etc. As a programmer, I have been using the Ubuntu distribution of the Linux OS for the past 6 years. I am comfortable with using the GCC Compiler, installing and operating network surveillance or third party services like OpenMPI as well as training Machine Learning models using Kernel Optimization through the Ubuntu terminal. 3) I have implemented projects where data was managed through a variety of databases which include traditional SQL-oriented databases like Oracle DB or MS SQL as well as the modern NoSQL databases like MongoDB, Amazon DynamoDB, Couchbase DB, etc. or distributed databases like Apache HBase, Azure CosmosDB, etc.\n",
      "Past Experience: CourseTitleInstructorPositionWhenPHYSICS�3ABASIC PHYSICS IHoward LeeTA2023-winterPHYSICS�3BBASIC PHYSICS IIRuqian WuTA2023-winterPHYSICS�7CCLASSICAL PHYSICSHoward LeeTA2022-fallPHYSICS�7CCLASSICAL PHYSICSArnold GuerraTA2022-fall\n",
      "Courses Taken: CourseTitleGrWhenCS�295PKEYSTONE PROJ CSA202303CS�273PMACH LRN & DATA MINA+202303CS�261PDATA STRUCTURESA202303CS�271PARTIFICIAL INTELLIGA202292CS�253PADV PROG PROB SOLVA+202292CS�231PPARL DIST COMP PROFA202292\n",
      "metadata {}\n"
     ]
    }
   ],
   "source": [
    "char_text_splitter = CharacterTextSplitter(chunk_size=1000, chunk_overlap=0)\n",
    "docs_chunks = char_text_splitter.split_documents(similar_students)\n",
    "print(\"length of docs_chunks\", len(docs_chunks))\n",
    "print(type(docs_chunks[0]))\n",
    "print(\"page_content\", docs_chunks[0].page_content)\n",
    "print(\"metadata\", docs_chunks[0].metadata)"
   ]
  },
  {
   "cell_type": "code",
   "execution_count": 42,
   "metadata": {},
   "outputs": [],
   "source": [
    "from langchain.schema import Document\n",
    "def generate_new_doc(page_content, metadata):\n",
    "    new_doc = Document(\n",
    "        page_content=page_content,\n",
    "        metadata=metadata\n",
    "    )\n",
    "    return new_doc"
   ]
  },
  {
   "cell_type": "code",
   "execution_count": 44,
   "metadata": {},
   "outputs": [],
   "source": [
    "# Summarize students info within the token limit\n",
    "import openai\n",
    "class StudentsInfoSummarize:\n",
    "    def __init__(self, students_info):\n",
    "        self.students_info = students_info\n",
    "        self.students_info_summary = []\n",
    "\n",
    "    def get_students_summary(self):\n",
    "        for i in range(len(self.students_info)):\n",
    "            text = self.summarize_one_student(self.students_info[i].page_content)\n",
    "            new_doc_chunk = generate_new_doc(text, {})\n",
    "            self.students_info_summary.append(new_doc_chunk)\n",
    "        return self.students_info_summary\n",
    "\n",
    "\n",
    "    # pass one student info string to summarize_one_student\n",
    "    def summarize_one_student(self, student_info):\n",
    "        openai.api_key = os.getenv(\"OPENAI_API_KEY\")\n",
    "\n",
    "        response = openai.ChatCompletion.create(\n",
    "        model=\"gpt-3.5-turbo\",\n",
    "        messages=[\n",
    "            {\n",
    "            \"role\": \"system\",\n",
    "            \"content\": \"Please provide summary for the student background. Include their name, Uci Net and background information.\"\n",
    "            },\n",
    "            {\n",
    "            \"role\": \"user\",\n",
    "            \"content\": student_info\n",
    "        },\n",
    "        ],\n",
    "        temperature=0,\n",
    "        max_tokens=150,\n",
    "        top_p=1.0,\n",
    "        frequency_penalty=0.0,\n",
    "        presence_penalty=0.0\n",
    "       )\n",
    "        return response.choices[0].message.content;"
   ]
  },
  {
   "cell_type": "code",
   "execution_count": 45,
   "metadata": {},
   "outputs": [
    {
     "name": "stdout",
     "output_type": "stream",
     "text": [
      "<class 'list'>\n",
      "20\n",
      "713\n"
     ]
    }
   ],
   "source": [
    "# from students_info_summarize import StudentsInfoSummarize\n",
    "students_info_summarize = StudentsInfoSummarize(docs_chunks)\n",
    "concise_context = students_info_summarize.get_students_summary()\n",
    "print(type(concise_context))\n",
    "print(len(concise_context))\n",
    "print(len(concise_context[0].page_content))\n",
    "#similar_context, in a more concise way, within the token limit\n"
   ]
  },
  {
   "cell_type": "code",
   "execution_count": 48,
   "metadata": {},
   "outputs": [
    {
     "name": "stdout",
     "output_type": "stream",
     "text": [
      "student1 Name: Joe Smith119\n",
      "Uci Net: Smith119\n",
      "Concentration: Computer Graphics\n",
      "Background Information: Joe Smith119 has a background in computer graphics, with additional knowledge in machine learning/AI, mathematics, and cognitive science. They have experience as a TA for a university class on Brain-Computing Interfaces and have also taught middle school and high school mathematics. Joe is proficient in programming languages such as C++, Unix, and Python, and has some familiarity with Java and C. They have experience working with Windows operating systems. Joe has taken various courses related to computer graphics, visualization, machine learning, and optimization.\n",
      "student2 Name: Joe Smith129\n",
      "Uci Net: Smith129\n",
      "\n",
      "Background Information:\n",
      "Joe Smith129 is a student at UCI with a concentration in computer science. He has expertise in applied machine learning and has completed several projects in this area. Joe has taken courses in machine learning and artificial intelligence, which have provided him with a strong foundation in these subjects. He is skilled in debugging and optimizing algorithms and has excellent communication skills. Joe also has a solid background in mathematics and has experience mentoring online courses, specifically in Calculus I and Differential Equations.\n",
      "\n",
      "Programming Skills:\n",
      "Joe is proficient in Java and Python, having completed projects using these languages. He has also taken data structure courses in C++ and is familiar with the R language. He is comfortable working\n"
     ]
    }
   ],
   "source": [
    "print(\"student1\",concise_context[1].page_content)\n",
    "print(\"student2\", concise_context[5].page_content)"
   ]
  },
  {
   "cell_type": "code",
   "execution_count": 51,
   "metadata": {},
   "outputs": [
    {
     "name": "stdout",
     "output_type": "stream",
     "text": [
      "Based on the provided information, the following students are suitable Teaching Assistant candidates for the course I&C SCI 9:\n",
      "\n",
      "1. Joe Smith9: Joe has experience as a Teaching Assistant for the Department of Physics at UC Irvine and has a background in Computer Science.\n",
      "\n",
      "2. Joe Smith119: Joe has experience as a TA for a university class on Brain-Computing Interfaces and has a background in Computer Graphics.\n",
      "\n",
      "3. Joe Smith106: Joe has experience as a TA for ICS 6N (Computational Linear Algebra) and has a background in Theoretical Computer Science.\n",
      "\n",
      "4. Joe Smith90: Joe has experience as a TA for ICS 6B (Boolean Logic and Discrete Structures) and ICS 31 (Introduction to Programming) and has a background in Computational Science.\n",
      "\n",
      "5. Joe Smith95: Joe has experience as a TA for various computer science courses and has expertise in AI, theory, and math.\n",
      "\n",
      "6. Joe Smith129: Joe has experience mentoring online courses in Calculus I and Differential Equations and has expertise in applied machine learning.\n",
      "\n",
      "7. Joe Smith62: Joe has experience teaching basic algorithms and has expertise in multithreaded programming and data structures.\n",
      "\n",
      "8. Joe91 Smith91: Joe has experience as a TA for the ICS139W course and has expertise in Data Structure, Algorithms, and System Design.\n",
      "\n",
      "9. Joe Smith125: Joe has experience as a TA for EECS 30 and EECS 31l and has a background in Computer Engineering.\n",
      "\n",
      "10. Joe Smith5: Joe has experience as a TA for ICS 139w and Python-based programming classes and has a background in Computer Science.\n",
      "\n",
      "Please note that the suitability of a Teaching Assistant candidate may also depend on factors such as their availability and specific knowledge in the subject matter of the course. It is recommended to further evaluate the candidates based on these factors before making a final decision.\n"
     ]
    }
   ],
   "source": [
    "# use the concise summary and try query again\n",
    "query_get_recommendation = \"In these students I give you, which 10 students are suitable Teaching assistant candidates for this course\" + course_num + course_description\n",
    "res = get_recommendation(concise_context, query_get_recommendation, chain)\n",
    "print(res)"
   ]
  },
  {
   "cell_type": "code",
   "execution_count": 15,
   "metadata": {},
   "outputs": [],
   "source": [
    "# Once finished, we delete the Pinecone index to save resources\n",
    "pinecone.delete_index(\"ta-matching-system-students\")"
   ]
  }
 ],
 "metadata": {
  "kernelspec": {
   "display_name": "Python 3",
   "language": "python",
   "name": "python3"
  },
  "language_info": {
   "codemirror_mode": {
    "name": "ipython",
    "version": 3
   },
   "file_extension": ".py",
   "mimetype": "text/x-python",
   "name": "python",
   "nbconvert_exporter": "python",
   "pygments_lexer": "ipython3",
   "version": "3.10.1"
  },
  "orig_nbformat": 4
 },
 "nbformat": 4,
 "nbformat_minor": 2
}
