{
  "nbformat": 4,
  "nbformat_minor": 0,
  "metadata": {
    "colab": {
      "provenance": [],
      "authorship_tag": "ABX9TyM+oJMIBHt6NsceWwodl8+y",
      "include_colab_link": true
    },
    "kernelspec": {
      "name": "python3",
      "display_name": "Python 3"
    },
    "language_info": {
      "name": "python"
    }
  },
  "cells": [
    {
      "cell_type": "markdown",
      "metadata": {
        "id": "view-in-github",
        "colab_type": "text"
      },
      "source": [
        "<a href=\"https://colab.research.google.com/github/SoniaSun810/LangChain_Practice/blob/main/Copy_of_LangChain_SQL_Database_Agent.ipynb\" target=\"_parent\"><img src=\"https://colab.research.google.com/assets/colab-badge.svg\" alt=\"Open In Colab\"/></a>"
      ]
    },
    {
      "cell_type": "code",
      "execution_count": 9,
      "metadata": {
        "id": "GPZsw7nNhcEY"
      },
      "outputs": [],
      "source": [
        "! pip install langchain openai pymysql --upgrade -q"
      ]
    },
    {
      "cell_type": "code",
      "source": [
        "from secret_key import OpenAI_API_key\n",
        "import os\n",
        "os.environ[\"OPENAI_API_KEY\"] = OpenAI_API_key"
      ],
      "metadata": {
        "id": "rL_OzAiUCSVd"
      },
      "execution_count": 10,
      "outputs": []
    },
    {
      "cell_type": "code",
      "source": [
        "from langchain.agents import create_sql_agent\n",
        "from langchain.agents.agent_toolkits import SQLDatabaseToolkit\n",
        "from langchain.sql_database import SQLDatabase\n",
        "from langchain.llms.openai import OpenAI\n",
        "from langchain.agents import AgentExecutor\n",
        "from langchain.agents.agent_types import AgentType\n",
        "from langchain.chat_models import ChatOpenAI"
      ],
      "metadata": {
        "id": "jRIiTMa9Cmcb"
      },
      "execution_count": null,
      "outputs": []
    },
    {
      "cell_type": "code",
      "source": [
        "db_user = \"admin\"\n",
        "db_password = \"MSWE-ta-project!\"\n",
        "db_host = \"aws-ta-matching.cpxfig1ppqqw.eu-north-1.rds.amazonaws.com\"\n",
        "db_name = \"TA_Matching_System\"\n",
        "db = SQLDatabase.from_uri(f\"mysql+pymysql://{db_user}:{db_password}@{db_host}/{db_name}\")"
      ],
      "metadata": {
        "id": "lCTKHUf8DIeF"
      },
      "execution_count": null,
      "outputs": []
    },
    {
      "cell_type": "code",
      "source": [
        "from langchain.chat_models import ChatOpenAI\n",
        "llm = ChatOpenAI(model_name = \"gpt-3.5-turbo\", temperature = 0.5)"
      ],
      "metadata": {
        "id": "IrIl5MGSDwI9"
      },
      "execution_count": null,
      "outputs": []
    },
    {
      "cell_type": "code",
      "source": [
        "toolkit = SQLDatabaseToolkit(db = db, llm = llm)"
      ],
      "metadata": {
        "id": "viUPJBVCBIp_"
      },
      "execution_count": null,
      "outputs": []
    },
    {
      "cell_type": "code",
      "source": [
        "agent_executor = create_sql_agent(\n",
        "    llm = llm,\n",
        "    toolkit = toolkit,\n",
        "    verbose = True\n",
        ")"
      ],
      "metadata": {
        "id": "0B0A62dSBtV6"
      },
      "execution_count": null,
      "outputs": []
    },
    {
      "cell_type": "code",
      "source": [
        "agent_executor.run(\"Describe the Table Courses\")"
      ],
      "metadata": {
        "colab": {
          "base_uri": "https://localhost:8080/",
          "height": 948
        },
        "id": "RXgo4FRSB-JU",
        "outputId": "edec7ae3-5957-499f-be1b-33fce638f5ed"
      },
      "execution_count": 16,
      "outputs": [
        {
          "output_type": "stream",
          "name": "stdout",
          "text": [
            "\n",
            "\n",
            "\u001b[1m> Entering new  chain...\u001b[0m\n",
            "\u001b[32;1m\u001b[1;3mAction: sql_db_list_tables\n",
            "Action Input: \"\"\u001b[0m\n",
            "Observation: \u001b[38;5;200m\u001b[1;3mCourses, Students_basic_info, Students_candidacy\u001b[0m\n",
            "Thought:\u001b[32;1m\u001b[1;3mI can query the \"Courses\" table to describe its structure.\n",
            "Action: sql_db_schema\n",
            "Action Input: \"Courses\"\u001b[0m\n",
            "Observation: \u001b[33;1m\u001b[1;3m\n",
            "CREATE TABLE `Courses` (\n",
            "\tid INTEGER NOT NULL AUTO_INCREMENT, \n",
            "\tcourse_number VARCHAR(255), \n",
            "\tcourse_name VARCHAR(255), \n",
            "\tcourse_description TEXT, \n",
            "\tprerequisites TEXT, \n",
            "\toverlaps VARCHAR(255), \n",
            "\trestrictions VARCHAR(255), \n",
            "\trepeatability VARCHAR(255), \n",
            "\tgrading_options VARCHAR(255), \n",
            "\tsame_as VARCHAR(255), \n",
            "\troman_numerals VARCHAR(255), \n",
            "\tPRIMARY KEY (id)\n",
            ")ENGINE=InnoDB DEFAULT CHARSET=utf8mb4 COLLATE utf8mb4_0900_ai_ci\n",
            "\n",
            "/*\n",
            "3 rows from Courses table:\n",
            "id\tcourse_number\tcourse_name\tcourse_description\tprerequisites\toverlaps\trestrictions\trepeatability\tgrading_options\tsame_as\troman_numerals\n",
            "1\tI&C SCI 9\tIntroduction to Computation for Scientists and Engineers\tIntroduces principles, techniques, and computational tools for quantitative approach to basic proble\tMATH 2A or AP Calculus AB or AP Calculus BC\tPHYSICS 2\tLower-division students only\tN/A\tN/A\tPHY SCI 9\t(II and (Va or Vb))\n",
            "2\tI&C SCI 32\tProgramming with Software Libraries\tConstruction of programs for problems and computing environments more varied than in I&C SCI 31.\tI&C SCI 31\tN/A\tSchool of Info & Computer Sci students have first consideration for enrollment. Computer Science Eng\tN/A\tN/A\tN/A\t(II and (VA or VB))\n",
            "3\tI&C SCI 45J\tProgramming in Java as a Second Language\tAn introduction to the lexical, syntactic, semantic, and pragmatic characteristics of the Java langu\tI&C SCI 33 or CSE 43\tI&C SCI 22, I&C SCI 23, CSE 23\tSchool of Info & Computer Sci students have first consideration for enrollment. Computer Science Eng\tN/A\tN/A\tN/A\tN/A\n",
            "*/\u001b[0m\n",
            "Thought:\u001b[32;1m\u001b[1;3mThe Courses table has the following structure:\n",
            "- id (INTEGER)\n",
            "- course_number (VARCHAR(255))\n",
            "- course_name (VARCHAR(255))\n",
            "- course_description (TEXT)\n",
            "- prerequisites (TEXT)\n",
            "- overlaps (VARCHAR(255))\n",
            "- restrictions (VARCHAR(255))\n",
            "- repeatability (VARCHAR(255))\n",
            "- grading_options (VARCHAR(255))\n",
            "- same_as (VARCHAR(255))\n",
            "- roman_numerals (VARCHAR(255))\n",
            "\n",
            "There are 3 sample rows in the Courses table.\n",
            "\n",
            "Final Answer: The Courses table has the structure mentioned above and contains 3 sample rows.\u001b[0m\n",
            "\n",
            "\u001b[1m> Finished chain.\u001b[0m\n"
          ]
        },
        {
          "output_type": "execute_result",
          "data": {
            "text/plain": [
              "'The Courses table has the structure mentioned above and contains 3 sample rows.'"
            ],
            "application/vnd.google.colaboratory.intrinsic+json": {
              "type": "string"
            }
          },
          "metadata": {},
          "execution_count": 16
        }
      ]
    },
    {
      "cell_type": "code",
      "source": [
        "agent_executor.run(\"Which course would the student Smith1 be most suitable to be a Teaching Assistant for?\")"
      ],
      "metadata": {
        "colab": {
          "base_uri": "https://localhost:8080/",
          "height": 1000
        },
        "id": "AyQFFq-JKkrI",
        "outputId": "601982be-7272-443d-9501-65953d70e61f"
      },
      "execution_count": 17,
      "outputs": [
        {
          "output_type": "stream",
          "name": "stdout",
          "text": [
            "\n",
            "\n",
            "\u001b[1m> Entering new  chain...\u001b[0m\n",
            "\u001b[32;1m\u001b[1;3mAction: sql_db_list_tables\n",
            "Action Input: \"\"\u001b[0m\n",
            "Observation: \u001b[38;5;200m\u001b[1;3mCourses, Students_basic_info, Students_candidacy\u001b[0m\n",
            "Thought:\u001b[32;1m\u001b[1;3mI can query the Courses, Students_basic_info, and Students_candidacy tables to find the answer to the question.\n",
            "Action: sql_db_schema\n",
            "Action Input: \"Courses, Students_basic_info, Students_candidacy\"\u001b[0m\n",
            "Observation: \u001b[33;1m\u001b[1;3m\n",
            "CREATE TABLE `Courses` (\n",
            "\tid INTEGER NOT NULL AUTO_INCREMENT, \n",
            "\tcourse_number VARCHAR(255), \n",
            "\tcourse_name VARCHAR(255), \n",
            "\tcourse_description TEXT, \n",
            "\tprerequisites TEXT, \n",
            "\toverlaps VARCHAR(255), \n",
            "\trestrictions VARCHAR(255), \n",
            "\trepeatability VARCHAR(255), \n",
            "\tgrading_options VARCHAR(255), \n",
            "\tsame_as VARCHAR(255), \n",
            "\troman_numerals VARCHAR(255), \n",
            "\tPRIMARY KEY (id)\n",
            ")ENGINE=InnoDB DEFAULT CHARSET=utf8mb4 COLLATE utf8mb4_0900_ai_ci\n",
            "\n",
            "/*\n",
            "3 rows from Courses table:\n",
            "id\tcourse_number\tcourse_name\tcourse_description\tprerequisites\toverlaps\trestrictions\trepeatability\tgrading_options\tsame_as\troman_numerals\n",
            "1\tI&C SCI 9\tIntroduction to Computation for Scientists and Engineers\tIntroduces principles, techniques, and computational tools for quantitative approach to basic proble\tMATH 2A or AP Calculus AB or AP Calculus BC\tPHYSICS 2\tLower-division students only\tN/A\tN/A\tPHY SCI 9\t(II and (Va or Vb))\n",
            "2\tI&C SCI 32\tProgramming with Software Libraries\tConstruction of programs for problems and computing environments more varied than in I&C SCI 31.\tI&C SCI 31\tN/A\tSchool of Info & Computer Sci students have first consideration for enrollment. Computer Science Eng\tN/A\tN/A\tN/A\t(II and (VA or VB))\n",
            "3\tI&C SCI 45J\tProgramming in Java as a Second Language\tAn introduction to the lexical, syntactic, semantic, and pragmatic characteristics of the Java langu\tI&C SCI 33 or CSE 43\tI&C SCI 22, I&C SCI 23, CSE 23\tSchool of Info & Computer Sci students have first consideration for enrollment. Computer Science Eng\tN/A\tN/A\tN/A\tN/A\n",
            "*/\n",
            "\n",
            "\n",
            "CREATE TABLE `Students_basic_info` (\n",
            "\tid INTEGER NOT NULL AUTO_INCREMENT, \n",
            "\tlast_name VARCHAR(255), \n",
            "\tfirst_name VARCHAR(255), \n",
            "\tuci_net VARCHAR(255), \n",
            "\temail VARCHAR(255), \n",
            "\tphone VARCHAR(15), \n",
            "\tPRIMARY KEY (id)\n",
            ")ENGINE=InnoDB DEFAULT CHARSET=utf8mb4 COLLATE utf8mb4_0900_ai_ci\n",
            "\n",
            "/*\n",
            "3 rows from Students_basic_info table:\n",
            "id\tlast_name\tfirst_name\tuci_net\temail\tphone\n",
            "1\tSmith1\tJoe1\tSmith1\tSmith1@uci.edu\t9495555550\n",
            "2\tSmith2\tJoe2\tSmith2\tSmith2@uci.edu\t9495555551\n",
            "3\tSmith3\tJoe3\tSmith3\tSmith3@uci.edu\t9495555552\n",
            "*/\n",
            "\n",
            "\n",
            "CREATE TABLE `Students_candidacy` (\n",
            "\tid INTEGER NOT NULL AUTO_INCREMENT, \n",
            "\tuci_net VARCHAR(255), \n",
            "\tarea_of_expertise TEXT, \n",
            "\tprogramming TEXT, \n",
            "\tpast_experience TEXT, \n",
            "\tpast_experience_2 TEXT, \n",
            "\tcourses TEXT, \n",
            "\tcourses_2 TEXT, \n",
            "\tPRIMARY KEY (id), \n",
            "\tCONSTRAINT `Students_candidacy_ibfk_1` FOREIGN KEY(uci_net) REFERENCES `Students_basic_info` (uci_net)\n",
            ")ENGINE=InnoDB DEFAULT CHARSET=utf8mb4 COLLATE utf8mb4_0900_ai_ci\n",
            "\n",
            "/*\n",
            "3 rows from Students_candidacy table:\n",
            "id\tuci_net\tarea_of_expertise\tprogramming\tpast_experience\tpast_experience_2\tcourses\tcourses_2\n",
            "3\tSmith1\tI have always considered myself to be an inquisitive and passionate individual who wants to work in \tI have 3+ years of experience in Java and Python programming, as evidenced by working as a software \tNone\tNone\tCourseTitleGrWhenCS 295PKEYSTONE PROJ CSA202303CS 273PMACH LRN & DATA MINA+202303CS 261PDATA STRUCTU\tCS 295P|KEYSTONE PROJ CS|A|202303^CS 273P|MACH LRN & DATA MIN|A+|202303^CS 261P|DATA STRUCTURES|A|20\n",
            "4\tSmith2\tI am really eager to take TA responsibilities in ML/AI courses to strengthen my knowledge in them (I\tIf I have to rate my experience with programming languages and OSs from 1 to 5, the following list d\tCourseTitleInstructorPositionWhenICS 6DBoolean logic & Discrete structuresIrene GasskoReader2022-spr\tICS 6d|Boolean logic & Discrete structures|Irene Gassko|Reader|2022-spring|ICS 31|Intro to Python Pr\tCourseTitleGrWhenICS 399UNIVERSITY TEACHINGS202303CS 274APROB LEARNINGA202303CS 230DIST COMPUTER SYS\tICS 399|UNIVERSITY TEACHING|S|202303^CS 274A|PROB LEARNING|A|202303^CS 230|DIST COMPUTER SYS|A|20230\n",
            "*/\u001b[0m\n",
            "Thought:\u001b[32;1m\u001b[1;3mTo find the course that the student Smith1 would be most suitable to be a Teaching Assistant for, I need to look at the Students_candidacy table and find the courses that Smith1 has experience in.\n",
            "\n",
            "Action: sql_db_query\n",
            "Action Input: \"SELECT courses FROM Students_candidacy WHERE uci_net = 'Smith1'\"\u001b[0m\n",
            "Observation: \u001b[36;1m\u001b[1;3m[('CourseTitleGrWhenCS\\xa0295PKEYSTONE PROJ CSA202303CS\\xa0273PMACH LRN & DATA MINA+202303CS\\xa0261PDATA STRUCTURESA202303CS\\xa0271PARTIFICIAL INTELLIGA202292CS\\xa0260PALGORITHMSA202292CS\\xa0253PADV PROG PROB SOLVA+202292',)]\u001b[0m\n",
            "Thought:\u001b[32;1m\u001b[1;3mThe student Smith1 is most suitable to be a Teaching Assistant for the course \"Keystone Project\" (CS 295P) with the instructor \"A+\" in the quarter \"202303\". \n",
            "\n",
            "Final Answer: CS 295P Keystone Project with instructor A+ in the quarter 202303.\u001b[0m\n",
            "\n",
            "\u001b[1m> Finished chain.\u001b[0m\n"
          ]
        },
        {
          "output_type": "execute_result",
          "data": {
            "text/plain": [
              "'CS 295P Keystone Project with instructor A+ in the quarter 202303.'"
            ],
            "application/vnd.google.colaboratory.intrinsic+json": {
              "type": "string"
            }
          },
          "metadata": {},
          "execution_count": 17
        }
      ]
    },
    {
      "cell_type": "markdown",
      "source": [
        "Tutorial, Langchain Beginner\n",
        "\n",
        "---\n",
        "\n",
        "\n",
        "1. promptTemplate"
      ],
      "metadata": {
        "id": "D9ESR37IAdck"
      }
    },
    {
      "cell_type": "code",
      "source": [
        "from langchain.prompts import PromptTemplate\n",
        "prompt_template_name = PromptTemplate(\n",
        "    input_variables = ['student_name'],\n",
        "    template = \"{student_name} is an applicant for Teaching Assistant\"\n",
        ")\n",
        "prompt_template_name.format(student_name = \"Smith1\")"
      ],
      "metadata": {
        "colab": {
          "base_uri": "https://localhost:8080/",
          "height": 35
        },
        "id": "2swsP4KvAQOw",
        "outputId": "abe71e60-434c-4114-8216-0750abf1d88a"
      },
      "execution_count": 14,
      "outputs": [
        {
          "output_type": "execute_result",
          "data": {
            "text/plain": [
              "'Smith1 is an applicant for Teaching Assistant'"
            ],
            "application/vnd.google.colaboratory.intrinsic+json": {
              "type": "string"
            }
          },
          "metadata": {},
          "execution_count": 14
        }
      ]
    },
    {
      "cell_type": "markdown",
      "source": [
        "2. LLMChain"
      ],
      "metadata": {
        "id": "obxRBoQfEzvc"
      }
    },
    {
      "cell_type": "code",
      "source": [
        "from langchain.chains import LLMChain\n",
        "\n",
        "chain = LLMChain(llm = llm, prompt = prompt_template_name)\n",
        "chain.run(\"Smith1\")"
      ],
      "metadata": {
        "colab": {
          "base_uri": "https://localhost:8080/",
          "height": 143
        },
        "id": "4J8dHLDBFBDB",
        "outputId": "47c90e51-e182-4955-a89b-471a372ad0c8"
      },
      "execution_count": 15,
      "outputs": [
        {
          "output_type": "execute_result",
          "data": {
            "text/plain": [
              "\"position at a university. He has a Bachelor's degree in Education and has completed his student teaching experience. Smith1 is passionate about teaching and has a strong desire to help students succeed academically. He has excellent communication skills and is able to effectively explain complex concepts to students in a way that they can understand. Smith1 is also highly organized and can manage multiple tasks efficiently. He is familiar with various teaching strategies and is able to adapt his teaching style to meet the needs of different students. Smith1 is dedicated to creating a positive and inclusive learning environment where all students feel valued and supported. He believes in the importance of building strong relationships with students and their families to foster a collaborative learning environment. Smith1 is committed to professional development and staying up-to-date with the latest research and trends in education. He is excited about the opportunity to contribute to the university's academic community and make a positive impact on students' lives.\""
            ],
            "application/vnd.google.colaboratory.intrinsic+json": {
              "type": "string"
            }
          },
          "metadata": {},
          "execution_count": 15
        }
      ]
    },
    {
      "cell_type": "markdown",
      "source": [
        "3. Sequential Chain"
      ],
      "metadata": {
        "id": "bxTxVRBvGWuU"
      }
    },
    {
      "cell_type": "code",
      "source": [],
      "metadata": {
        "id": "tI8FHyRAGZPh"
      },
      "execution_count": null,
      "outputs": []
    }
  ]
}