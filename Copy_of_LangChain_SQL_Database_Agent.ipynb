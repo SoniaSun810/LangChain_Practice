{
  "nbformat": 4,
  "nbformat_minor": 0,
  "metadata": {
    "colab": {
      "provenance": [],
      "authorship_tag": "ABX9TyNghKnTHAWmTkftHImNj9ro",
      "include_colab_link": true
    },
    "kernelspec": {
      "name": "python3",
      "display_name": "Python 3"
    },
    "language_info": {
      "name": "python"
    }
  },
  "cells": [
    {
      "cell_type": "markdown",
      "metadata": {
        "id": "view-in-github",
        "colab_type": "text"
      },
      "source": [
        "<a href=\"https://colab.research.google.com/github/SoniaSun810/LangChain_Practice/blob/main/Copy_of_LangChain_SQL_Database_Agent.ipynb\" target=\"_parent\"><img src=\"https://colab.research.google.com/assets/colab-badge.svg\" alt=\"Open In Colab\"/></a>"
      ]
    },
    {
      "cell_type": "code",
      "execution_count": 9,
      "metadata": {
        "id": "GPZsw7nNhcEY"
      },
      "outputs": [],
      "source": [
        "! pip install langchain openai pymysql --upgrade -q"
      ]
    },
    {
      "cell_type": "code",
      "source": [
        "from secret_key import OpenAI_API_key\n",
        "import os\n",
        "os.environ[\"OPENAI_API_KEY\"] = OpenAI_API_key"
      ],
      "metadata": {
        "id": "rL_OzAiUCSVd"
      },
      "execution_count": 10,
      "outputs": []
    },
    {
      "cell_type": "code",
      "source": [
        "from langchain.agents import create_sql_agent\n",
        "from langchain.agents.agent_toolkits import SQLDatabaseToolkit\n",
        "from langchain.sql_database import SQLDatabase\n",
        "from langchain.llms.openai import OpenAI\n",
        "from langchain.agents import AgentExecutor\n",
        "from langchain.agents.agent_types import AgentType\n",
        "from langchain.chat_models import ChatOpenAI"
      ],
      "metadata": {
        "id": "jRIiTMa9Cmcb"
      },
      "execution_count": null,
      "outputs": []
    },
    {
      "cell_type": "code",
      "source": [
        "db_user = \"admin\"\n",
        "db_password = \"MSWE-ta-project!\"\n",
        "db_host = \"aws-ta-matching.cpxfig1ppqqw.eu-north-1.rds.amazonaws.com\"\n",
        "db_name = \"TA_Matching_System\"\n",
        "db = SQLDatabase.from_uri(f\"mysql+pymysql://{db_user}:{db_password}@{db_host}/{db_name}\")"
      ],
      "metadata": {
        "id": "lCTKHUf8DIeF"
      },
      "execution_count": null,
      "outputs": []
    },
    {
      "cell_type": "code",
      "source": [
        "from langchain.chat_models import ChatOpenAI\n",
        "llm = ChatOpenAI(model_name = \"gpt-3.5-turbo\", temperature = 0.5)"
      ],
      "metadata": {
        "id": "IrIl5MGSDwI9"
      },
      "execution_count": null,
      "outputs": []
    },
    {
      "cell_type": "code",
      "source": [
        "toolkit = SQLDatabaseToolkit(db = db, llm = llm)"
      ],
      "metadata": {
        "id": "viUPJBVCBIp_"
      },
      "execution_count": null,
      "outputs": []
    },
    {
      "cell_type": "code",
      "source": [
        "agent_executor = create_sql_agent(\n",
        "    llm = llm,\n",
        "    toolkit = toolkit,\n",
        "    verbose = True\n",
        ")"
      ],
      "metadata": {
        "id": "0B0A62dSBtV6"
      },
      "execution_count": null,
      "outputs": []
    },
    {
      "cell_type": "markdown",
      "source": [
        "**Test of LangChain SQL Agent - Basic Functions**"
      ],
      "metadata": {
        "id": "IPPm0WddKyAi"
      }
    },
    {
      "cell_type": "code",
      "source": [
        "agent_executor.run(\"Describe the Table Courses\")"
      ],
      "metadata": {
        "colab": {
          "base_uri": "https://localhost:8080/",
          "height": 948
        },
        "id": "RXgo4FRSB-JU",
        "outputId": "edec7ae3-5957-499f-be1b-33fce638f5ed"
      },
      "execution_count": 16,
      "outputs": [
        {
          "output_type": "stream",
          "name": "stdout",
          "text": [
            "\n",
            "\n",
            "\u001b[1m> Entering new  chain...\u001b[0m\n",
            "\u001b[32;1m\u001b[1;3mAction: sql_db_list_tables\n",
            "Action Input: \"\"\u001b[0m\n",
            "Observation: \u001b[38;5;200m\u001b[1;3mCourses, Students_basic_info, Students_candidacy\u001b[0m\n",
            "Thought:\u001b[32;1m\u001b[1;3mI can query the \"Courses\" table to describe its structure.\n",
            "Action: sql_db_schema\n",
            "Action Input: \"Courses\"\u001b[0m\n",
            "Observation: \u001b[33;1m\u001b[1;3m\n",
            "CREATE TABLE `Courses` (\n",
            "\tid INTEGER NOT NULL AUTO_INCREMENT, \n",
            "\tcourse_number VARCHAR(255), \n",
            "\tcourse_name VARCHAR(255), \n",
            "\tcourse_description TEXT, \n",
            "\tprerequisites TEXT, \n",
            "\toverlaps VARCHAR(255), \n",
            "\trestrictions VARCHAR(255), \n",
            "\trepeatability VARCHAR(255), \n",
            "\tgrading_options VARCHAR(255), \n",
            "\tsame_as VARCHAR(255), \n",
            "\troman_numerals VARCHAR(255), \n",
            "\tPRIMARY KEY (id)\n",
            ")ENGINE=InnoDB DEFAULT CHARSET=utf8mb4 COLLATE utf8mb4_0900_ai_ci\n",
            "\n",
            "/*\n",
            "3 rows from Courses table:\n",
            "id\tcourse_number\tcourse_name\tcourse_description\tprerequisites\toverlaps\trestrictions\trepeatability\tgrading_options\tsame_as\troman_numerals\n",
            "1\tI&C SCI 9\tIntroduction to Computation for Scientists and Engineers\tIntroduces principles, techniques, and computational tools for quantitative approach to basic proble\tMATH 2A or AP Calculus AB or AP Calculus BC\tPHYSICS 2\tLower-division students only\tN/A\tN/A\tPHY SCI 9\t(II and (Va or Vb))\n",
            "2\tI&C SCI 32\tProgramming with Software Libraries\tConstruction of programs for problems and computing environments more varied than in I&C SCI 31.\tI&C SCI 31\tN/A\tSchool of Info & Computer Sci students have first consideration for enrollment. Computer Science Eng\tN/A\tN/A\tN/A\t(II and (VA or VB))\n",
            "3\tI&C SCI 45J\tProgramming in Java as a Second Language\tAn introduction to the lexical, syntactic, semantic, and pragmatic characteristics of the Java langu\tI&C SCI 33 or CSE 43\tI&C SCI 22, I&C SCI 23, CSE 23\tSchool of Info & Computer Sci students have first consideration for enrollment. Computer Science Eng\tN/A\tN/A\tN/A\tN/A\n",
            "*/\u001b[0m\n",
            "Thought:\u001b[32;1m\u001b[1;3mThe Courses table has the following structure:\n",
            "- id (INTEGER)\n",
            "- course_number (VARCHAR(255))\n",
            "- course_name (VARCHAR(255))\n",
            "- course_description (TEXT)\n",
            "- prerequisites (TEXT)\n",
            "- overlaps (VARCHAR(255))\n",
            "- restrictions (VARCHAR(255))\n",
            "- repeatability (VARCHAR(255))\n",
            "- grading_options (VARCHAR(255))\n",
            "- same_as (VARCHAR(255))\n",
            "- roman_numerals (VARCHAR(255))\n",
            "\n",
            "There are 3 sample rows in the Courses table.\n",
            "\n",
            "Final Answer: The Courses table has the structure mentioned above and contains 3 sample rows.\u001b[0m\n",
            "\n",
            "\u001b[1m> Finished chain.\u001b[0m\n"
          ]
        },
        {
          "output_type": "execute_result",
          "data": {
            "text/plain": [
              "'The Courses table has the structure mentioned above and contains 3 sample rows.'"
            ],
            "application/vnd.google.colaboratory.intrinsic+json": {
              "type": "string"
            }
          },
          "metadata": {},
          "execution_count": 16
        }
      ]
    },
    {
      "cell_type": "code",
      "source": [
        "agent_executor.run(\"Which course would the student Smith1 be most suitable to be a Teaching Assistant for?\")"
      ],
      "metadata": {
        "colab": {
          "base_uri": "https://localhost:8080/",
          "height": 1000
        },
        "id": "AyQFFq-JKkrI",
        "outputId": "601982be-7272-443d-9501-65953d70e61f"
      },
      "execution_count": 17,
      "outputs": [
        {
          "output_type": "stream",
          "name": "stdout",
          "text": [
            "\n",
            "\n",
            "\u001b[1m> Entering new  chain...\u001b[0m\n",
            "\u001b[32;1m\u001b[1;3mAction: sql_db_list_tables\n",
            "Action Input: \"\"\u001b[0m\n",
            "Observation: \u001b[38;5;200m\u001b[1;3mCourses, Students_basic_info, Students_candidacy\u001b[0m\n",
            "Thought:\u001b[32;1m\u001b[1;3mI can query the Courses, Students_basic_info, and Students_candidacy tables to find the answer to the question.\n",
            "Action: sql_db_schema\n",
            "Action Input: \"Courses, Students_basic_info, Students_candidacy\"\u001b[0m\n",
            "Observation: \u001b[33;1m\u001b[1;3m\n",
            "CREATE TABLE `Courses` (\n",
            "\tid INTEGER NOT NULL AUTO_INCREMENT, \n",
            "\tcourse_number VARCHAR(255), \n",
            "\tcourse_name VARCHAR(255), \n",
            "\tcourse_description TEXT, \n",
            "\tprerequisites TEXT, \n",
            "\toverlaps VARCHAR(255), \n",
            "\trestrictions VARCHAR(255), \n",
            "\trepeatability VARCHAR(255), \n",
            "\tgrading_options VARCHAR(255), \n",
            "\tsame_as VARCHAR(255), \n",
            "\troman_numerals VARCHAR(255), \n",
            "\tPRIMARY KEY (id)\n",
            ")ENGINE=InnoDB DEFAULT CHARSET=utf8mb4 COLLATE utf8mb4_0900_ai_ci\n",
            "\n",
            "/*\n",
            "3 rows from Courses table:\n",
            "id\tcourse_number\tcourse_name\tcourse_description\tprerequisites\toverlaps\trestrictions\trepeatability\tgrading_options\tsame_as\troman_numerals\n",
            "1\tI&C SCI 9\tIntroduction to Computation for Scientists and Engineers\tIntroduces principles, techniques, and computational tools for quantitative approach to basic proble\tMATH 2A or AP Calculus AB or AP Calculus BC\tPHYSICS 2\tLower-division students only\tN/A\tN/A\tPHY SCI 9\t(II and (Va or Vb))\n",
            "2\tI&C SCI 32\tProgramming with Software Libraries\tConstruction of programs for problems and computing environments more varied than in I&C SCI 31.\tI&C SCI 31\tN/A\tSchool of Info & Computer Sci students have first consideration for enrollment. Computer Science Eng\tN/A\tN/A\tN/A\t(II and (VA or VB))\n",
            "3\tI&C SCI 45J\tProgramming in Java as a Second Language\tAn introduction to the lexical, syntactic, semantic, and pragmatic characteristics of the Java langu\tI&C SCI 33 or CSE 43\tI&C SCI 22, I&C SCI 23, CSE 23\tSchool of Info & Computer Sci students have first consideration for enrollment. Computer Science Eng\tN/A\tN/A\tN/A\tN/A\n",
            "*/\n",
            "\n",
            "\n",
            "CREATE TABLE `Students_basic_info` (\n",
            "\tid INTEGER NOT NULL AUTO_INCREMENT, \n",
            "\tlast_name VARCHAR(255), \n",
            "\tfirst_name VARCHAR(255), \n",
            "\tuci_net VARCHAR(255), \n",
            "\temail VARCHAR(255), \n",
            "\tphone VARCHAR(15), \n",
            "\tPRIMARY KEY (id)\n",
            ")ENGINE=InnoDB DEFAULT CHARSET=utf8mb4 COLLATE utf8mb4_0900_ai_ci\n",
            "\n",
            "/*\n",
            "3 rows from Students_basic_info table:\n",
            "id\tlast_name\tfirst_name\tuci_net\temail\tphone\n",
            "1\tSmith1\tJoe1\tSmith1\tSmith1@uci.edu\t9495555550\n",
            "2\tSmith2\tJoe2\tSmith2\tSmith2@uci.edu\t9495555551\n",
            "3\tSmith3\tJoe3\tSmith3\tSmith3@uci.edu\t9495555552\n",
            "*/\n",
            "\n",
            "\n",
            "CREATE TABLE `Students_candidacy` (\n",
            "\tid INTEGER NOT NULL AUTO_INCREMENT, \n",
            "\tuci_net VARCHAR(255), \n",
            "\tarea_of_expertise TEXT, \n",
            "\tprogramming TEXT, \n",
            "\tpast_experience TEXT, \n",
            "\tpast_experience_2 TEXT, \n",
            "\tcourses TEXT, \n",
            "\tcourses_2 TEXT, \n",
            "\tPRIMARY KEY (id), \n",
            "\tCONSTRAINT `Students_candidacy_ibfk_1` FOREIGN KEY(uci_net) REFERENCES `Students_basic_info` (uci_net)\n",
            ")ENGINE=InnoDB DEFAULT CHARSET=utf8mb4 COLLATE utf8mb4_0900_ai_ci\n",
            "\n",
            "/*\n",
            "3 rows from Students_candidacy table:\n",
            "id\tuci_net\tarea_of_expertise\tprogramming\tpast_experience\tpast_experience_2\tcourses\tcourses_2\n",
            "3\tSmith1\tI have always considered myself to be an inquisitive and passionate individual who wants to work in \tI have 3+ years of experience in Java and Python programming, as evidenced by working as a software \tNone\tNone\tCourseTitleGrWhenCS 295PKEYSTONE PROJ CSA202303CS 273PMACH LRN & DATA MINA+202303CS 261PDATA STRUCTU\tCS 295P|KEYSTONE PROJ CS|A|202303^CS 273P|MACH LRN & DATA MIN|A+|202303^CS 261P|DATA STRUCTURES|A|20\n",
            "4\tSmith2\tI am really eager to take TA responsibilities in ML/AI courses to strengthen my knowledge in them (I\tIf I have to rate my experience with programming languages and OSs from 1 to 5, the following list d\tCourseTitleInstructorPositionWhenICS 6DBoolean logic & Discrete structuresIrene GasskoReader2022-spr\tICS 6d|Boolean logic & Discrete structures|Irene Gassko|Reader|2022-spring|ICS 31|Intro to Python Pr\tCourseTitleGrWhenICS 399UNIVERSITY TEACHINGS202303CS 274APROB LEARNINGA202303CS 230DIST COMPUTER SYS\tICS 399|UNIVERSITY TEACHING|S|202303^CS 274A|PROB LEARNING|A|202303^CS 230|DIST COMPUTER SYS|A|20230\n",
            "*/\u001b[0m\n",
            "Thought:\u001b[32;1m\u001b[1;3mTo find the course that the student Smith1 would be most suitable to be a Teaching Assistant for, I need to look at the Students_candidacy table and find the courses that Smith1 has experience in.\n",
            "\n",
            "Action: sql_db_query\n",
            "Action Input: \"SELECT courses FROM Students_candidacy WHERE uci_net = 'Smith1'\"\u001b[0m\n",
            "Observation: \u001b[36;1m\u001b[1;3m[('CourseTitleGrWhenCS\\xa0295PKEYSTONE PROJ CSA202303CS\\xa0273PMACH LRN & DATA MINA+202303CS\\xa0261PDATA STRUCTURESA202303CS\\xa0271PARTIFICIAL INTELLIGA202292CS\\xa0260PALGORITHMSA202292CS\\xa0253PADV PROG PROB SOLVA+202292',)]\u001b[0m\n",
            "Thought:\u001b[32;1m\u001b[1;3mThe student Smith1 is most suitable to be a Teaching Assistant for the course \"Keystone Project\" (CS 295P) with the instructor \"A+\" in the quarter \"202303\". \n",
            "\n",
            "Final Answer: CS 295P Keystone Project with instructor A+ in the quarter 202303.\u001b[0m\n",
            "\n",
            "\u001b[1m> Finished chain.\u001b[0m\n"
          ]
        },
        {
          "output_type": "execute_result",
          "data": {
            "text/plain": [
              "'CS 295P Keystone Project with instructor A+ in the quarter 202303.'"
            ],
            "application/vnd.google.colaboratory.intrinsic+json": {
              "type": "string"
            }
          },
          "metadata": {},
          "execution_count": 17
        }
      ]
    },
    {
      "cell_type": "code",
      "source": [
        "agent_executor.run(\"Which course in the Courses Table would the student Smith1 be most suitable to be a Teaching Assistant for?\")"
      ],
      "metadata": {
        "colab": {
          "base_uri": "https://localhost:8080/",
          "height": 1000
        },
        "id": "jVJAw4N4KWVt",
        "outputId": "0e3bdd8f-d77c-43f8-b4e5-b56a44ec04f6"
      },
      "execution_count": 18,
      "outputs": [
        {
          "output_type": "stream",
          "name": "stdout",
          "text": [
            "\n",
            "\n",
            "\u001b[1m> Entering new  chain...\u001b[0m\n",
            "\u001b[32;1m\u001b[1;3mAction: sql_db_list_tables\n",
            "Action Input: \"\"\u001b[0m\n",
            "Observation: \u001b[38;5;200m\u001b[1;3mCourses, Students_basic_info, Students_candidacy\u001b[0m\n",
            "Thought:\u001b[32;1m\u001b[1;3mI should query the schema for the Courses table to see what columns it has that might be relevant to the question.\n",
            "Action: sql_db_schema\n",
            "Action Input: \"Courses\"\u001b[0m\n",
            "Observation: \u001b[33;1m\u001b[1;3m\n",
            "CREATE TABLE `Courses` (\n",
            "\tid INTEGER NOT NULL AUTO_INCREMENT, \n",
            "\tcourse_number VARCHAR(255), \n",
            "\tcourse_name VARCHAR(255), \n",
            "\tcourse_description TEXT, \n",
            "\tprerequisites TEXT, \n",
            "\toverlaps VARCHAR(255), \n",
            "\trestrictions VARCHAR(255), \n",
            "\trepeatability VARCHAR(255), \n",
            "\tgrading_options VARCHAR(255), \n",
            "\tsame_as VARCHAR(255), \n",
            "\troman_numerals VARCHAR(255), \n",
            "\tPRIMARY KEY (id)\n",
            ")ENGINE=InnoDB DEFAULT CHARSET=utf8mb4 COLLATE utf8mb4_0900_ai_ci\n",
            "\n",
            "/*\n",
            "3 rows from Courses table:\n",
            "id\tcourse_number\tcourse_name\tcourse_description\tprerequisites\toverlaps\trestrictions\trepeatability\tgrading_options\tsame_as\troman_numerals\n",
            "1\tI&C SCI 9\tIntroduction to Computation for Scientists and Engineers\tIntroduces principles, techniques, and computational tools for quantitative approach to basic proble\tMATH 2A or AP Calculus AB or AP Calculus BC\tPHYSICS 2\tLower-division students only\tN/A\tN/A\tPHY SCI 9\t(II and (Va or Vb))\n",
            "2\tI&C SCI 32\tProgramming with Software Libraries\tConstruction of programs for problems and computing environments more varied than in I&C SCI 31.\tI&C SCI 31\tN/A\tSchool of Info & Computer Sci students have first consideration for enrollment. Computer Science Eng\tN/A\tN/A\tN/A\t(II and (VA or VB))\n",
            "3\tI&C SCI 45J\tProgramming in Java as a Second Language\tAn introduction to the lexical, syntactic, semantic, and pragmatic characteristics of the Java langu\tI&C SCI 33 or CSE 43\tI&C SCI 22, I&C SCI 23, CSE 23\tSchool of Info & Computer Sci students have first consideration for enrollment. Computer Science Eng\tN/A\tN/A\tN/A\tN/A\n",
            "*/\u001b[0m\n",
            "Thought:\u001b[32;1m\u001b[1;3mI should query the Courses table to find the course that the student Smith1 would be most suitable to be a Teaching Assistant for. I can look for the course number, course name, and course description.\n",
            "Action: sql_db_query\n",
            "Action Input: \"SELECT course_number, course_name, course_description FROM Courses WHERE course_number IN (SELECT course_number FROM Students_candidacy WHERE student_name = 'Smith1') LIMIT 10\"\u001b[0m\n",
            "Observation: \u001b[36;1m\u001b[1;3mError: (pymysql.err.OperationalError) (1054, \"Unknown column 'student_name' in 'where clause'\")\n",
            "[SQL: SELECT course_number, course_name, course_description FROM Courses WHERE course_number IN (SELECT course_number FROM Students_candidacy WHERE student_name = 'Smith1') LIMIT 10]\n",
            "(Background on this error at: https://sqlalche.me/e/20/e3q8)\u001b[0m\n",
            "Thought:\u001b[32;1m\u001b[1;3mThe query returned an error because the column \"student_name\" does not exist in the table \"Students_candidacy\". I need to check the schema of the \"Students_candidacy\" table to find the correct column name.\n",
            "Action: sql_db_schema\n",
            "Action Input: \"Students_candidacy\"\u001b[0m\n",
            "Observation: \u001b[33;1m\u001b[1;3m\n",
            "CREATE TABLE `Students_candidacy` (\n",
            "\tid INTEGER NOT NULL AUTO_INCREMENT, \n",
            "\tuci_net VARCHAR(255), \n",
            "\tarea_of_expertise TEXT, \n",
            "\tprogramming TEXT, \n",
            "\tpast_experience TEXT, \n",
            "\tpast_experience_2 TEXT, \n",
            "\tcourses TEXT, \n",
            "\tcourses_2 TEXT, \n",
            "\tPRIMARY KEY (id), \n",
            "\tCONSTRAINT `Students_candidacy_ibfk_1` FOREIGN KEY(uci_net) REFERENCES `Students_basic_info` (uci_net)\n",
            ")ENGINE=InnoDB DEFAULT CHARSET=utf8mb4 COLLATE utf8mb4_0900_ai_ci\n",
            "\n",
            "/*\n",
            "3 rows from Students_candidacy table:\n",
            "id\tuci_net\tarea_of_expertise\tprogramming\tpast_experience\tpast_experience_2\tcourses\tcourses_2\n",
            "3\tSmith1\tI have always considered myself to be an inquisitive and passionate individual who wants to work in \tI have 3+ years of experience in Java and Python programming, as evidenced by working as a software \tNone\tNone\tCourseTitleGrWhenCS 295PKEYSTONE PROJ CSA202303CS 273PMACH LRN & DATA MINA+202303CS 261PDATA STRUCTU\tCS 295P|KEYSTONE PROJ CS|A|202303^CS 273P|MACH LRN & DATA MIN|A+|202303^CS 261P|DATA STRUCTURES|A|20\n",
            "4\tSmith2\tI am really eager to take TA responsibilities in ML/AI courses to strengthen my knowledge in them (I\tIf I have to rate my experience with programming languages and OSs from 1 to 5, the following list d\tCourseTitleInstructorPositionWhenICS 6DBoolean logic & Discrete structuresIrene GasskoReader2022-spr\tICS 6d|Boolean logic & Discrete structures|Irene Gassko|Reader|2022-spring|ICS 31|Intro to Python Pr\tCourseTitleGrWhenICS 399UNIVERSITY TEACHINGS202303CS 274APROB LEARNINGA202303CS 230DIST COMPUTER SYS\tICS 399|UNIVERSITY TEACHING|S|202303^CS 274A|PROB LEARNING|A|202303^CS 230|DIST COMPUTER SYS|A|20230\n",
            "*/\u001b[0m\n",
            "Thought:\u001b[32;1m\u001b[1;3mThe column I need to use in the query is \"uci_net\" instead of \"student_name\". I should now rewrite the query with the correct column name.\n",
            "Action: sql_db_query\n",
            "Action Input: \"SELECT course_number, course_name, course_description FROM Courses WHERE course_number IN (SELECT courses FROM Students_candidacy WHERE uci_net = 'Smith1') LIMIT 10\"\u001b[0m\n",
            "Observation: \u001b[36;1m\u001b[1;3m[]\u001b[0m\n",
            "Thought:\u001b[32;1m\u001b[1;3mThe query returned an empty result. This means that there are no courses in the Courses table that the student Smith1 is eligible to be a Teaching Assistant for. \n",
            "Final Answer: There are no courses in the Courses Table that the student Smith1 would be suitable to be a Teaching Assistant for.\u001b[0m\n",
            "\n",
            "\u001b[1m> Finished chain.\u001b[0m\n"
          ]
        },
        {
          "output_type": "execute_result",
          "data": {
            "text/plain": [
              "'There are no courses in the Courses Table that the student Smith1 would be suitable to be a Teaching Assistant for.'"
            ],
            "application/vnd.google.colaboratory.intrinsic+json": {
              "type": "string"
            }
          },
          "metadata": {},
          "execution_count": 18
        }
      ]
    },
    {
      "cell_type": "markdown",
      "source": [
        "**Tutorial, Langchain Beginner - Other Tools might be useful**\n",
        "\n",
        "---\n",
        "\n",
        "\n",
        "1. promptTemplate"
      ],
      "metadata": {
        "id": "D9ESR37IAdck"
      }
    },
    {
      "cell_type": "code",
      "source": [
        "from langchain.prompts import PromptTemplate\n",
        "prompt_template_name = PromptTemplate(\n",
        "    input_variables = ['course_number'],\n",
        "    template = \"In Students Table, which student is a better teaching assistant candidate for {course_number}?\"\n",
        ")\n",
        "prompt_template_name.format(course_number = \"I&C SCI 45J\")"
      ],
      "metadata": {
        "colab": {
          "base_uri": "https://localhost:8080/",
          "height": 35
        },
        "id": "2swsP4KvAQOw",
        "outputId": "228f3d59-24ef-4f87-a8ab-3ce2fee016de"
      },
      "execution_count": 20,
      "outputs": [
        {
          "output_type": "execute_result",
          "data": {
            "text/plain": [
              "'In Students Table, which student is a better teaching assistant candidate for I&C SCI 45J?'"
            ],
            "application/vnd.google.colaboratory.intrinsic+json": {
              "type": "string"
            }
          },
          "metadata": {},
          "execution_count": 20
        }
      ]
    },
    {
      "cell_type": "markdown",
      "source": [
        "2. LLMChain"
      ],
      "metadata": {
        "id": "obxRBoQfEzvc"
      }
    },
    {
      "cell_type": "code",
      "source": [
        "from langchain.chains import LLMChain\n",
        "\n",
        "student_name_chain = LLMChain(llm = llm, prompt = prompt_template_name)\n",
        "\n",
        "student_name_chain.run(\"I&C SCI 45J\")"
      ],
      "metadata": {
        "colab": {
          "base_uri": "https://localhost:8080/",
          "height": 71
        },
        "id": "4J8dHLDBFBDB",
        "outputId": "aa109725-c74b-4530-84ea-38c1a847dcee"
      },
      "execution_count": 24,
      "outputs": [
        {
          "output_type": "execute_result",
          "data": {
            "text/plain": [
              "'To determine the best teaching assistant candidate for I&C SCI 45J from the Students Table, we need more information about the criteria for a good teaching assistant candidate. The Students Table likely contains information such as student names, majors, GPA, previous teaching experience, and relevant coursework. Without this information, it is not possible to identify a specific student as the best candidate.'"
            ],
            "application/vnd.google.colaboratory.intrinsic+json": {
              "type": "string"
            }
          },
          "metadata": {},
          "execution_count": 24
        }
      ]
    },
    {
      "cell_type": "code",
      "source": [
        "from langchain.schema import prompt\n",
        "agent_executor = create_sql_agent(\n",
        "    llm = llm,\n",
        "    toolkit = toolkit,\n",
        "    verbose = True,\n",
        "    prompt = prompt_template_name\n",
        ")\n",
        "\n",
        "agent_executor.run(\"I&C SCI 45J\")"
      ],
      "metadata": {
        "colab": {
          "base_uri": "https://localhost:8080/",
          "height": 1000
        },
        "id": "o8Ms2mPrNRNw",
        "outputId": "0458c733-8894-48ea-b500-496bbaf75e21"
      },
      "execution_count": 22,
      "outputs": [
        {
          "output_type": "stream",
          "name": "stdout",
          "text": [
            "\n",
            "\n",
            "\u001b[1m> Entering new  chain...\u001b[0m\n",
            "\u001b[32;1m\u001b[1;3mAction: sql_db_list_tables\n",
            "Action Input: \"\"\u001b[0m\n",
            "Observation: \u001b[38;5;200m\u001b[1;3mCourses, Students_basic_info, Students_candidacy\u001b[0m\n",
            "Thought:\u001b[32;1m\u001b[1;3mI see three tables in the database: Courses, Students_basic_info, and Students_candidacy. I should query the schema of these tables to see if any of them contain information related to I&C SCI 45J.\n",
            "Action: sql_db_schema\n",
            "Action Input: \"Courses, Students_basic_info, Students_candidacy\"\u001b[0m\n",
            "Observation: \u001b[33;1m\u001b[1;3m\n",
            "CREATE TABLE `Courses` (\n",
            "\tid INTEGER NOT NULL AUTO_INCREMENT, \n",
            "\tcourse_number VARCHAR(255), \n",
            "\tcourse_name VARCHAR(255), \n",
            "\tcourse_description TEXT, \n",
            "\tprerequisites TEXT, \n",
            "\toverlaps VARCHAR(255), \n",
            "\trestrictions VARCHAR(255), \n",
            "\trepeatability VARCHAR(255), \n",
            "\tgrading_options VARCHAR(255), \n",
            "\tsame_as VARCHAR(255), \n",
            "\troman_numerals VARCHAR(255), \n",
            "\tPRIMARY KEY (id)\n",
            ")ENGINE=InnoDB DEFAULT CHARSET=utf8mb4 COLLATE utf8mb4_0900_ai_ci\n",
            "\n",
            "/*\n",
            "3 rows from Courses table:\n",
            "id\tcourse_number\tcourse_name\tcourse_description\tprerequisites\toverlaps\trestrictions\trepeatability\tgrading_options\tsame_as\troman_numerals\n",
            "1\tI&C SCI 9\tIntroduction to Computation for Scientists and Engineers\tIntroduces principles, techniques, and computational tools for quantitative approach to basic proble\tMATH 2A or AP Calculus AB or AP Calculus BC\tPHYSICS 2\tLower-division students only\tN/A\tN/A\tPHY SCI 9\t(II and (Va or Vb))\n",
            "2\tI&C SCI 32\tProgramming with Software Libraries\tConstruction of programs for problems and computing environments more varied than in I&C SCI 31.\tI&C SCI 31\tN/A\tSchool of Info & Computer Sci students have first consideration for enrollment. Computer Science Eng\tN/A\tN/A\tN/A\t(II and (VA or VB))\n",
            "3\tI&C SCI 45J\tProgramming in Java as a Second Language\tAn introduction to the lexical, syntactic, semantic, and pragmatic characteristics of the Java langu\tI&C SCI 33 or CSE 43\tI&C SCI 22, I&C SCI 23, CSE 23\tSchool of Info & Computer Sci students have first consideration for enrollment. Computer Science Eng\tN/A\tN/A\tN/A\tN/A\n",
            "*/\n",
            "\n",
            "\n",
            "CREATE TABLE `Students_basic_info` (\n",
            "\tid INTEGER NOT NULL AUTO_INCREMENT, \n",
            "\tlast_name VARCHAR(255), \n",
            "\tfirst_name VARCHAR(255), \n",
            "\tuci_net VARCHAR(255), \n",
            "\temail VARCHAR(255), \n",
            "\tphone VARCHAR(15), \n",
            "\tPRIMARY KEY (id)\n",
            ")ENGINE=InnoDB DEFAULT CHARSET=utf8mb4 COLLATE utf8mb4_0900_ai_ci\n",
            "\n",
            "/*\n",
            "3 rows from Students_basic_info table:\n",
            "id\tlast_name\tfirst_name\tuci_net\temail\tphone\n",
            "1\tSmith1\tJoe1\tSmith1\tSmith1@uci.edu\t9495555550\n",
            "2\tSmith2\tJoe2\tSmith2\tSmith2@uci.edu\t9495555551\n",
            "3\tSmith3\tJoe3\tSmith3\tSmith3@uci.edu\t9495555552\n",
            "*/\n",
            "\n",
            "\n",
            "CREATE TABLE `Students_candidacy` (\n",
            "\tid INTEGER NOT NULL AUTO_INCREMENT, \n",
            "\tuci_net VARCHAR(255), \n",
            "\tarea_of_expertise TEXT, \n",
            "\tprogramming TEXT, \n",
            "\tpast_experience TEXT, \n",
            "\tpast_experience_2 TEXT, \n",
            "\tcourses TEXT, \n",
            "\tcourses_2 TEXT, \n",
            "\tPRIMARY KEY (id), \n",
            "\tCONSTRAINT `Students_candidacy_ibfk_1` FOREIGN KEY(uci_net) REFERENCES `Students_basic_info` (uci_net)\n",
            ")ENGINE=InnoDB DEFAULT CHARSET=utf8mb4 COLLATE utf8mb4_0900_ai_ci\n",
            "\n",
            "/*\n",
            "3 rows from Students_candidacy table:\n",
            "id\tuci_net\tarea_of_expertise\tprogramming\tpast_experience\tpast_experience_2\tcourses\tcourses_2\n",
            "3\tSmith1\tI have always considered myself to be an inquisitive and passionate individual who wants to work in \tI have 3+ years of experience in Java and Python programming, as evidenced by working as a software \tNone\tNone\tCourseTitleGrWhenCS 295PKEYSTONE PROJ CSA202303CS 273PMACH LRN & DATA MINA+202303CS 261PDATA STRUCTU\tCS 295P|KEYSTONE PROJ CS|A|202303^CS 273P|MACH LRN & DATA MIN|A+|202303^CS 261P|DATA STRUCTURES|A|20\n",
            "4\tSmith2\tI am really eager to take TA responsibilities in ML/AI courses to strengthen my knowledge in them (I\tIf I have to rate my experience with programming languages and OSs from 1 to 5, the following list d\tCourseTitleInstructorPositionWhenICS 6DBoolean logic & Discrete structuresIrene GasskoReader2022-spr\tICS 6d|Boolean logic & Discrete structures|Irene Gassko|Reader|2022-spring|ICS 31|Intro to Python Pr\tCourseTitleGrWhenICS 399UNIVERSITY TEACHINGS202303CS 274APROB LEARNINGA202303CS 230DIST COMPUTER SYS\tICS 399|UNIVERSITY TEACHING|S|202303^CS 274A|PROB LEARNING|A|202303^CS 230|DIST COMPUTER SYS|A|20230\n",
            "*/\u001b[0m\n",
            "Thought:\u001b[32;1m\u001b[1;3mI can see that the table \"Courses\" contains information about different courses, including course numbers and names. I should query this table to find information about I&C SCI 45J.\n",
            "Action: sql_db_query\n",
            "Action Input: \"SELECT course_number, course_name, course_description FROM Courses WHERE course_number = 'I&C SCI 45J'\"\u001b[0m\n",
            "Observation: \u001b[36;1m\u001b[1;3m[('I&C SCI 45J', 'Programming in Java as a Second Language', 'An introduction to the lexical, syntactic, semantic, and pragmatic characteristics of the Java language for experienced programmers.')]\u001b[0m\n",
            "Thought:\u001b[32;1m\u001b[1;3mI know the final answer.\n",
            "Final Answer: The course \"I&C SCI 45J\" is called \"Programming in Java as a Second Language\". It is an introduction to the lexical, syntactic, semantic, and pragmatic characteristics of the Java language for experienced programmers.\u001b[0m\n",
            "\n",
            "\u001b[1m> Finished chain.\u001b[0m\n"
          ]
        },
        {
          "output_type": "execute_result",
          "data": {
            "text/plain": [
              "'The course \"I&C SCI 45J\" is called \"Programming in Java as a Second Language\". It is an introduction to the lexical, syntactic, semantic, and pragmatic characteristics of the Java language for experienced programmers.'"
            ],
            "application/vnd.google.colaboratory.intrinsic+json": {
              "type": "string"
            }
          },
          "metadata": {},
          "execution_count": 22
        }
      ]
    },
    {
      "cell_type": "markdown",
      "source": [],
      "metadata": {
        "id": "k7-wxQPaNO1L"
      }
    },
    {
      "cell_type": "markdown",
      "source": [
        "3. Sequential Chain"
      ],
      "metadata": {
        "id": "bxTxVRBvGWuU"
      }
    },
    {
      "cell_type": "code",
      "source": [
        "from langchain.chains import SimpleSequentialChain\n",
        "\n",
        "prompt_template_student_background = PromptTemplate(\n",
        "    input_variables = ['student_name'],\n",
        "    template = \"According to Students Table, summarize the backgound of {student_name}?\"\n",
        ")\n",
        "\n",
        "student_background_chain = LLMChain(llm = llm, prompt = prompt_template_student_background)\n",
        "\n",
        "chain = SimpleSequentialChain(chains = [student_name_chain, student_background_chain])\n",
        "response = chain.run(\"I&C SCI 45J\")\n",
        "print(response)\n"
      ],
      "metadata": {
        "colab": {
          "base_uri": "https://localhost:8080/"
        },
        "id": "tI8FHyRAGZPh",
        "outputId": "930b6efb-fac1-4a66-f29b-3ad0ca1fcf82"
      },
      "execution_count": 27,
      "outputs": [
        {
          "output_type": "stream",
          "name": "stdout",
          "text": [
            "The background of the Students Table is not provided in the given information. Without knowing the specific attributes and skills of each student in the table, it is not possible to determine a better teaching assistant candidate for I&C SCI 45J.\n"
          ]
        }
      ]
    },
    {
      "cell_type": "markdown",
      "source": [
        "4. Sequential Chain"
      ],
      "metadata": {
        "id": "wbf4Vp7cTvwX"
      }
    },
    {
      "cell_type": "code",
      "source": [
        "prompt_template_name = PromptTemplate(\n",
        "    input_variables = ['course_number'],\n",
        "    template = \"In Students Table, which student is a better teaching assistant candidate for {course_number}?\"\n",
        ")\n",
        "\n",
        "student_name_chain = LLMChain(llm = llm, prompt = prompt_template_name, output_key=\"student_name\")\n",
        "\n",
        "prompt_template_student_background = PromptTemplate(\n",
        "    input_variables = ['student_name'],\n",
        "    template = \"According to Students Table, summarize the backgound of {student_name}?\"\n",
        ")\n",
        "\n",
        "student_background_chain = LLMChain(llm = llm, prompt = prompt_template_student_background, output_key = \"student_background\")\n",
        "\n"
      ],
      "metadata": {
        "id": "EXQfxcnvUQvQ"
      },
      "execution_count": 28,
      "outputs": []
    },
    {
      "cell_type": "code",
      "source": [
        "from langchain.chains import SequentialChain\n",
        "\n",
        "SequentialChain(\n",
        "    chains = [student_name_chain, student_background_chain],\n",
        "    input_variables= [\"course_number\"],\n",
        "    output_variables= ['student_name', 'student_background']\n",
        ")\n",
        "\n",
        "chain({'course_number' : \"I&C SCI 45J\"})\n",
        "\n",
        "\n"
      ],
      "metadata": {
        "id": "eSL5NkF1Ty21"
      },
      "execution_count": null,
      "outputs": []
    }
  ]
}