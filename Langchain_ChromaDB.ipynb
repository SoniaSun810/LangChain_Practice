{
 "cells": [
  {
   "cell_type": "code",
   "execution_count": 3,
   "metadata": {},
   "outputs": [],
   "source": [
    "# or to use other formats, use the following after installing the required packages:\n",
    "from langchain.document_loaders import UnstructuredFileLoader"
   ]
  },
  {
   "cell_type": "code",
   "execution_count": 1,
   "metadata": {},
   "outputs": [],
   "source": [
    "# Process csv file and filtered cols we need\n",
    "import csv\n",
    "\n",
    "def filter_csv(input_file, output_file, columns):\n",
    "    with open(input_file, 'r') as file:\n",
    "        reader = csv.DictReader(file)\n",
    "        headers = reader.fieldnames\n",
    "\n",
    "        # Validate the specified columns\n",
    "        valid_columns = [col for col in columns if col in headers]\n",
    "        if not valid_columns:\n",
    "            print(\"No valid columns specified.\")\n",
    "            return\n",
    "\n",
    "        with open(output_file, 'w', newline='') as output:\n",
    "            writer = csv.DictWriter(output, fieldnames=valid_columns)\n",
    "            writer.writeheader()\n",
    "\n",
    "            for row in reader:\n",
    "                filtered_row = {col: row[col] for col in valid_columns}\n",
    "                writer.writerow(filtered_row)\n",
    "\n",
    "    print(\"CSV file created successfully.\")"
   ]
  },
  {
   "cell_type": "code",
   "execution_count": null,
   "metadata": {},
   "outputs": [],
   "source": [
    "# Example usage\n",
    "input_file = 'students_sum23_all_field_uuid.csv'\n",
    "output_file = 'dummy_students_candidacy_data2.csv'\n",
    "columns_to_keep = ['UUID','Area of Expertise', 'Programming', 'Past Experience','Course Prefs']  # Specify the columns you want to keep\n",
    "\n",
    "filter_csv(input_file, output_file, columns_to_keep)"
   ]
  },
  {
   "cell_type": "markdown",
   "metadata": {},
   "source": [
    "## Use LangChain + Chroma + GPT Model to Match Best TA Candidates for Each Course\n",
    "## Main idea\n"
   ]
  },
  {
   "cell_type": "markdown",
   "metadata": {},
   "source": [
    "### Process All Students Info -> Vector Store -> Summarize All the Students' Info and Store It in SQL DB-> Give 20 Students Info as Context of Most Similar Background according to Course Description -> Get the 20 Students' Info from SQL DB Within the Token Limit -> Query GPT Model + Context -> GPT give the top 10 candidates based on the prompt instructions\n",
    "\n",
    "#### To Avoid Latency and Time Our Error: We will run the whole data first and store all the recommendation in our SQL Database\n",
    "\n",
    "### Step 1 : Import LangChain CSVLoader and load the Students Information"
   ]
  },
  {
   "cell_type": "code",
   "execution_count": 4,
   "metadata": {},
   "outputs": [],
   "source": [
    "# 1. Function: Importing langChain document loaders and loading the data\n",
    "from langchain.document_loaders.csv_loader import CSVLoader\n",
    "def load_data_csv_file(file_path):\n",
    "    loader = CSVLoader(file_path)\n",
    "    data = loader.load()\n",
    "    return data"
   ]
  },
  {
   "cell_type": "code",
   "execution_count": 5,
   "metadata": {},
   "outputs": [],
   "source": [
    "# 2. Function: Split the text into chunks\n",
    "from langchain.text_splitter import CharacterTextSplitter\n",
    "def split_documents(documents, chunk_size=1000, chunk_overlap =0):\n",
    "    text_splitter = CharacterTextSplitter(chunk_size=chunk_size,chunk_overlap=chunk_overlap)\n",
    "    texts = text_splitter.split_documents(documents)\n",
    "    return texts"
   ]
  },
  {
   "cell_type": "code",
   "execution_count": 7,
   "metadata": {},
   "outputs": [
    {
     "name": "stdout",
     "output_type": "stream",
     "text": [
      "136\n",
      "136\n",
      "UUID: e69d8240-cef5-427e-97ee-604c135293d2\n",
      "Area of Expertise: I have expertise in Software Design, Software Architecture, Discrete Mathematics, Machine Learning, Data Structure, Algorithms, Compilers, Computer Architecture, Operating Systems, Robotics, Digital Design, Microprocessors, Computer Networks and Database Management. I am well-versed in programming languages like Python, C/C#/C++, SystemVerilog, Java, MySQL, Dot Net framework, Angular and MATLAB.  My qualifications in Computer Science are that I have worked as Software Engineer at Larsen and Toubro Infotech (LTI)for 1.5 years to gain industrial experience in the above-mentioned domains. I completed the above courses during my undergraduate years with good grades.   Yes, I have conducted offline (in-person) Robotics workshops during my undergraduate studies .\n",
      "Programming: I successfully completed DotNet Full Stack Developer training at LTI. I have worked on and developed various SQL scripts, Stored Procedures and SSIS packages for retrieval and processing of data in the database using Mycrosoft SQL Server. I also, developed Web APIs for publisher and listener services using C#. I have worked on projects using Raspberry Pi which made me proficient in Python and Linux OS. I have also worked on Arduino and programmed various microcontrollers in C. I have also successfully completed a specialization course in Python on Coursera.\n",
      "Past Experience: CourseTitleInstructorPositionWhenEECS 160AIntroduction To Control SystemsKeyue SmedleyReader2022-fallINF 115SW Testing and Quality AssuranceJames A. JonesReader2023-spring\n",
      "Course Prefs:\n"
     ]
    }
   ],
   "source": [
    "# 3. Test load_data_csv_file and split_documents\n",
    "students_data = load_data_csv_file('selected_columns_only.csv')\n",
    "students_text = split_documents(students_data)\n",
    "print(len(students_data))\n",
    "print(len(students_text))\n",
    "print(students_text[88].page_content)"
   ]
  },
  {
   "cell_type": "code",
   "execution_count": 8,
   "metadata": {},
   "outputs": [
    {
     "name": "stdout",
     "output_type": "stream",
     "text": [
      "UUID: 79c2e103-b928-47f0-8113-409ef5fb5811\n",
      "Area of Expertise: My area of expertise is computer architecture and system design. I have worked with programming languages for several years now. During my undergraduate studies at the American University of Beirut, I TA'ed 2 online courses: Introduction to programming in Python and Computer Organization. In both of these courses, I was helping students with their assignments, answering their questions, and grading their submissions.\n",
      "Programming: I have taken courses on programming using VHDL, C, C++, Python, MATLAB, and SQL. I have also used most of these languages in projects (academic and non-academic) beyond the scope of the courses. I have used C++ to run machine learning programs on a Jetson and used C to run audio detection programs on microcontrollers such as the Arduino Nano. I also have extended hands-on experience with Python, as I have used it for many projects and previously TA'ed a course for it. I am also currently using VHDL for my graduate research. I have also extended experience with Linux and Windows operating systems, as I have used them both during my undergraduate and graduate studies for all of my projects.\n",
      "Past Experience: \n",
      "Course Prefs: CourseTakenGradeICS 32NICS 31NICS 33NICS 46N\n"
     ]
    }
   ],
   "source": [
    "print(students_text[100].page_content)"
   ]
  },
  {
   "cell_type": "markdown",
   "metadata": {},
   "source": [
    "### Step 2. Set Up the Vector Store (Embedding Index) of the Students Information"
   ]
  },
  {
   "cell_type": "code",
   "execution_count": 9,
   "metadata": {},
   "outputs": [],
   "source": [
    "# 4. #importing Chroma packages and OpenAIEmbeddings\n",
    "from langchain.vectorstores import Chroma\n",
    "from langchain.embeddings.openai import OpenAIEmbeddings\n",
    "from langchain.embeddings import OpenAIEmbeddings\n",
    "from langchain.chat_models import ChatOpenAI\n",
    "from langchain.chains.question_answering import load_qa_chain"
   ]
  },
  {
   "cell_type": "code",
   "execution_count": 10,
   "metadata": {},
   "outputs": [],
   "source": [
    "# 5. Function: Recursive document search\n",
    "def recursive_doc_search(doc, embeddings, persist_directory):\n",
    "    if doc == None:\n",
    "        return None\n",
    "    else:\n",
    "        db = Chroma.from_documents(doc, embeddings,persist_directory=persist_directory)\n",
    "        return db"
   ]
  },
  {
   "cell_type": "code",
   "execution_count": 11,
   "metadata": {},
   "outputs": [
    {
     "name": "stdout",
     "output_type": "stream",
     "text": [
      "1536\n"
     ]
    }
   ],
   "source": [
    "# 6. Use OpenAI's Embeddings\n",
    "import os\n",
    "embeddings = OpenAIEmbeddings(openai_api_key=os.getenv(\"OPENAI_API_KEY\"))\n",
    "query_result = embeddings.embed_query(\"hello world\")\n",
    "print(len(query_result))"
   ]
  },
  {
   "cell_type": "markdown",
   "metadata": {},
   "source": [
    "#### Set Up New Chroma Vector DB and Loading Existing Vector DB"
   ]
  },
  {
   "cell_type": "code",
   "execution_count": 13,
   "metadata": {},
   "outputs": [
    {
     "name": "stdout",
     "output_type": "stream",
     "text": [
      "File deleted.\n"
     ]
    }
   ],
   "source": [
    "# If you want to delete an existing Vector DB\n",
    "if os.path.exists(\"chroma.sqlite3\"):\n",
    "    os.remove(\"chroma.sqlite3\")\n",
    "    print(\"File deleted.\")\n",
    "else:\n",
    "    print(\"File does not exist.\")"
   ]
  },
  {
   "cell_type": "code",
   "execution_count": 14,
   "metadata": {},
   "outputs": [
    {
     "name": "stdout",
     "output_type": "stream",
     "text": [
      "Documents Loaded: 136\n"
     ]
    }
   ],
   "source": [
    "# 7. Creating a Chroma local client\n",
    "import chromadb\n",
    "persist_directory = \"/Users/sunfengnan/Documents/TA_Matching/LangChain_Practice\"\n",
    "client = chromadb.PersistentClient(path=persist_directory)\n",
    "\n",
    "vector_db = Chroma.from_documents(\n",
    "    client=client,\n",
    "    documents=students_text, \n",
    "    collection_name=\"ta_matching_students_info\",\n",
    "    embedding=embeddings,\n",
    "    persist_directory=persist_directory,\n",
    ")\n",
    "print(f\"Documents Loaded: {vector_db._collection.count()}\")"
   ]
  },
  {
   "cell_type": "code",
   "execution_count": 12,
   "metadata": {},
   "outputs": [],
   "source": [
    "# If you want to delete data in existing Vector DB\n",
    "# vector_db = None"
   ]
  },
  {
   "cell_type": "code",
   "execution_count": 15,
   "metadata": {},
   "outputs": [
    {
     "name": "stdout",
     "output_type": "stream",
     "text": [
      "Documents Loaded: 136\n"
     ]
    }
   ],
   "source": [
    "vector_db.get()\n",
    "print(f\"Documents Loaded: {vector_db._collection.count()}\")"
   ]
  },
  {
   "cell_type": "markdown",
   "metadata": {},
   "source": [
    "### Notice: If we already have an Vector DB, we can load it directly and use it again."
   ]
  },
  {
   "cell_type": "code",
   "execution_count": 16,
   "metadata": {},
   "outputs": [
    {
     "name": "stdout",
     "output_type": "stream",
     "text": [
      "Documents Loaded: 136\n",
      "<class 'langchain.vectorstores.chroma.Chroma'>\n"
     ]
    }
   ],
   "source": [
    "# Now we can load the persisted DB from disk, and use it as normal\n",
    "vector_db_students = Chroma(\n",
    "    client=client,\n",
    "    persist_directory=persist_directory, \n",
    "    collection_name=\"ta_matching_students_info\",\n",
    "    embedding_function=embeddings)\n",
    "vector_db_students.get()\n",
    "print(f\"Documents Loaded: {vector_db_students._collection.count()}\")\n",
    "print(type(vector_db_students))"
   ]
  },
  {
   "cell_type": "markdown",
   "metadata": {},
   "source": [
    "### Step 3. Use the LangChain QA Chain and Do Query based on Given Context (Similar Students Data)"
   ]
  },
  {
   "cell_type": "code",
   "execution_count": 17,
   "metadata": {},
   "outputs": [],
   "source": [
    "# 9. Establishing llm and the QA Chain\n",
    "model_name = \"gpt-3.5-turbo-0613\"\n",
    "llm=ChatOpenAI(temperature=0, model=model_name)\n",
    "chain = load_qa_chain(llm, chain_type=\"stuff\")"
   ]
  },
  {
   "cell_type": "code",
   "execution_count": 18,
   "metadata": {},
   "outputs": [],
   "source": [
    "# 10. Function: Let gpt model summarize the Top skills/Academic background for a course\n",
    "def top_skills_course(course_description):\n",
    "    query = \"Summarize the skills, teaching background, and academic background required to be a successful Teaching assistant for this course, token limit 100:\" + course_description\n",
    "    ans = llm.predict(query)\n",
    "    print(ans)\n",
    "    return ans"
   ]
  },
  {
   "cell_type": "code",
   "execution_count": 19,
   "metadata": {},
   "outputs": [],
   "source": [
    "# 11. Function to get similar students close to the query (docsearch -> vector store) \n",
    "def get_similar_docs(db, query, k = 20, score = False):\n",
    "    if score:\n",
    "        similar_docs = db.similarity_search_with_score(query, k)\n",
    "    else:\n",
    "        similar_docs = db.similarity_search(query, k)\n",
    "    return similar_docs"
   ]
  },
  {
   "cell_type": "code",
   "execution_count": 20,
   "metadata": {},
   "outputs": [
    {
     "name": "stdout",
     "output_type": "stream",
     "text": [
      "To be a successful Teaching Assistant for this course, one must possess a strong academic background in physics and engineering. A solid understanding of principles, techniques, and computational tools used in quantitative problem solving is essential. Additionally, a strong foundation in mathematics, specifically calculus, is required, with a prerequisite of MATH 2A or completion of AP Calculus AB or BC. Familiarity with Physics 2, which may overlap with this course, is also beneficial. Teaching experience or a background in education would be advantageous in effectively assisting students in understanding and applying the course material.\n",
      "[Document(page_content='UUID: 91f60ad1-a7cb-4666-8bec-56dd08a6d91b\\nArea of Expertise: 1) I was a Teaching Assistant for the Department of Physics at UC Irvine for two quarters, i.e. Fall 2022 & Winter 2023. I worked under Professors Lee, Guerra, and Wu for classes Physics 3A, 3B, and 7C. My responsibilities included conducting discussions for 100+ students each quarter, conducting and grading quizzes as well as grading midterms and final exams.  2) This is my third quarter of graduate studies in ICS and I have maintained a consistent 4.0 GPA even after pursuing complicated courses like CS231P, CS253P, CS261P, CS271P, and CS273P. 3) I was a Teaching Assistant for my undergraduate course \\'CSL802- Distributed Computing Lab\\' where I was responsible for creating a list of experiments that students would perform for the duration of the course. I also assisted students through various phases of their course projects. 4) During my role as a Data Engineer at Tata Consultancy Services, I was presented with a Colleague Appreciation Award for co-creating a month-long training program on \"Using SQL & Python to create efficient Azure data workflows in an Apache Spark-enabled distributed environment\" for newer associates across the organization. 5) During my undergraduate degree, I was among the 200 students across Asia-Pacific chosen by Intel Corporation as their Student Ambassadors for Artificial Intelligence (AI) for 2020. I was picked after three rigorous rounds of interviews about Applied AI, conducted by several AI researchers at Intel. My responsibilities included conducting online seminars and hands-on workshops on AI and its subdomains, alongside collaborating on AI projects with peers from the Intel DevMesh community. For instance, my undergraduate institution commended me for conducting a series of online lectures on \"Using Intel\\'s OpenVINO toolkit to optimize Deep Learning models\" for 100+ fellow students. I also conducted a session on \"Training & deploying ML models using Azure ML Studio\" as a Microsoft Student Partner. 5) Throughout my undergraduate and professional tenure, I have developed an interest and taught seminars and workshops in Artificial Intelligence, Python Programming, SQL, and Distributed Computing.\\nProgramming: 1) I am also proficient in SQL due to my work experience as a Data Engineer where I was responsible to optimize CI/CD pipelines for ETL processes using SQL, Python and Apache Spark. I am proficient in C++ due to my predilection for competitive coding, participation in ACM ICPC and other regional coding contests as well as my personal interest in solving problems related to Data Structures and Algorithms. I am familiar with Java & C through my undergraduate courses and projects in Object-oriented Programming, Compiler Design, etc. 2) I have used Windows OS ever since I first laid my hands on a computer, so I am quite comfortable with using PowerShell, Microsoft Office Suite, Progressive Web Apps, etc. As a programmer, I have been using the Ubuntu distribution of the Linux OS for the past 6 years. I am comfortable with using the GCC Compiler, installing and operating network surveillance or third party services like OpenMPI as well as training Machine Learning models using Kernel Optimization through the Ubuntu terminal. 3) I have implemented projects where data was managed through a variety of databases which include traditional SQL-oriented databases like Oracle DB or MS SQL as well as the modern NoSQL databases like MongoDB, Amazon DynamoDB, Couchbase DB, etc. or distributed databases like Apache HBase, Azure CosmosDB, etc.\\nPast Experience: CourseTitleInstructorPositionWhenPHYSICS\\xa03ABASIC PHYSICS IHoward LeeTA2023-winterPHYSICS\\xa03BBASIC PHYSICS IIRuqian WuTA2023-winterPHYSICS\\xa07CCLASSICAL PHYSICSHoward LeeTA2022-fallPHYSICS\\xa07CCLASSICAL PHYSICSArnold GuerraTA2022-fall\\nCourse Prefs: CourseTakenGradeICS\\xa031YA+ICS\\xa046YA+INF\\xa043YA+STAT\\xa07YA+', metadata={'row': 102, 'source': 'selected_columns_only.csv'}), Document(page_content='UUID: c3a1b319-8cd9-471b-ae64-06072e137f7d\\nArea of Expertise: Programming, logical thinking and aptitude I consider them as my strong suite and I strongly believe if you are good at these you can become a great programmer. I was a reader in the EECS department for the fall 2022 quarter and right now I am working in the ICS department as a reader for the course IN4MATX 141 under professor Alberto, I do have some teaching experience, I used to teach mathematics and computer science to high school students back in India during my holidays. I really like to interact with students and solve their doubts. I would love to work as a TA this quarter and I prefer the TA role, if that is not possible I am also happy to work as a reader.\\nProgramming: I have good academic experience with Python, C and Java programming languages in my high school and in my bachelors, I have worked and developed so many projects using these programming languages. I am familiar with Windows, MacOS and Linux as well. I am also good at embedded systems, I have some experience with Unreal engine and blender\\nPast Experience: CourseTitleInstructorPositionWhenEECS\\xa070BNetwork Analysis IIThomas KetseoglouReader2022-fallCS\\xa0121INFRMTION RETRIEVAL KRONE MARTINS, A.Reader2023-winterCS\\xa0121INFRMTION RETRIEVAL KRONE MARTINS, A.Reader2023-spring\\nCourse Prefs:', metadata={'row': 35, 'source': 'selected_columns_only.csv'}), Document(page_content=\"UUID: 51ac07cc-1c29-4b79-b0e7-a11a8dad93cf\\nArea of Expertise: I have TA'd for Stats 67, Stats 7, and Stats 120A/B, and am comfortable with the material and my ability to teach the material.  As a 4th year PhD student who has TA'd many times for Stats 7/8, I would really like to TA something other than Stats 7/8.  Regarding other teaching experience, I have 11 years of experience teaching introductory- and intermediate-level undergraduate English courses, and have taught several online courses, including AcEng 120C at UCI (online summer session).\\nProgramming: I am very comfortable with R, as well as general applications and troubleshooting in a Windows environment.\\nPast Experience: CourseTitleInstructorPositionWhenSTAT\\xa08Introductory StatisticsDavid ArmstrongTA2020-summerSTAT\\xa0110Stat Methods for Data Analysis ISevan GulessarianTA2022-fallSTAT\\xa07Introductory StatisticsBrigitte BaldiTA2018-fallSTAT\\xa0120A,BIntro to Probability & StatisticsZhaoxia Yu, Tianchen QianTA2021-fall\\nCourse Prefs: CourseTakenGradeSTAT\\xa0120A/B/CYASTAT\\xa067NSTAT\\xa0110/111NSTAT\\xa07/8N\", metadata={'row': 37, 'source': 'selected_columns_only.csv'}), Document(page_content=\"UUID: 72251169-337d-45bf-b1fe-46de54d2ff8c\\nArea of Expertise: Areas of Computer science which I have expertise are Data Structure, Algorithms and System Design and Critical Writing on Information Technology. I have qualified the Graduate Aptitude Test Engineering in Computer Science,one of the highly competitive exams conducted in India for admission into higher studies. I have expertise in Mathematics courseworks pertaining to CS and writing course works based on my previous TA experience.In the spring, 20 quarter I TA'ed in an online coursework ICS139W.\\nProgramming: I have an experience of six plus year in C and C++ programming and have basic knowledge of JAVA and Python programming. I have had an experience of 10+ years of experience in Windows Operating Systems. I have been a TA for ICS139W course consecutively for the last academic year with considerable amount of understanding of the course content.\\nPast Experience: CourseTitleInstructorPositionWhenCS\\xa0297PCapstone DesignSergio Gago MasagueTA2019-fallICS\\xa0139WCritical WritingMustafa IbrahimTA2020-fallICS\\xa0139WCritical Writing Mustafa IbrahimTA2020-springICS\\xa0139WCritical WritingDarren DennenbergTA2021-fall\\nCourse Prefs: CourseTakenGradeICS\\xa0139WYICS\\xa032NICS\\xa06BNICS\\xa06DN\", metadata={'row': 16, 'source': 'selected_columns_only.csv'}), Document(page_content=\"UUID: 5fae3284-1aa3-40a9-a432-a5d9d04b3086\\nArea of Expertise: My areas of expertise are in AI, theory ,and math. I completed my undergraduate degree in the Math department, in math - computer science; therefore, I have taken many courses and previously tutored many courses in discrete math and  theoretical computer science. In my graduate degree I focused on AI and thats now my research area. I've been a TA in person and online, and would prefer teaching online.\\nProgramming: I took undergraduate courses in Java, C++, and Unix. I am familiar with the Windows OS.\\nPast Experience: CourseTitleInstructorPositionWhenCS\\xa0163/265Graph AlgorithmsD. EppsteinTA2022-winterCS\\xa0164/266Computational GeometryD. EppsteinTA2022-springICS\\xa0006DDiscrete Mathematics for Computer SS. JareckiTA2021-springCS\\xa0171Artificial Intelligence D. FrostTA2021-winter\\nCourse Prefs: CourseTakenGradeICS\\xa06DYAICS\\xa06BYASTAT\\xa07YASTAT\\xa067YA\", metadata={'row': 67, 'source': 'selected_columns_only.csv'}), Document(page_content=\"UUID: a9259361-b934-4d1d-af74-3104b1ecb3b2\\nArea of Expertise: I am really eager to take TA responsibilities in ML/AI courses to strengthen my knowledge in them (I took AI/ML courses and passed them with A's). Moreover, I have TA experience in the following courses: 1- Embedded systems and Internet of Things 2- Linear Algebra My responsibilities were mainly correcting students' exam papers and preparing Homework for them as a member of the teaching team.\\nProgramming: If I have to rate my experience with programming languages and OSs from 1 to 5, the following list demonstrates my skills: Python: 4 C++: 3 Java: 3 Windows: 4 Linux: 3\\nPast Experience: CourseTitleInstructorPositionWhenICS\\xa06DBoolean logic & Discrete structuresIrene GasskoReader2022-springICS\\xa031Intro to Python ProgrammingShannon AlfaroTA2022-fallICS\\xa06BBoolean Logic and Discrete StructurGopi Meenakshisundaram TA2023-winter\\nCourse Prefs: CourseTakenGradeICS\\xa0170NICS\\xa031NICS\\xa045NICS\\xa032AN\", metadata={'row': 99, 'source': 'selected_columns_only.csv'}), Document(page_content=\"UUID: 87d48ad4-a56a-43d4-ac80-b95ab094e4aa\\nArea of Expertise: I have been a teaching assistant (TA) for the ICS 139W Critical Writing on Information Technology course for - Fall 2021, Winter 2022, Spring 2022, Fall 2022, Winter 2023, and Spring 2023.  I have received positive feedback from the course instructors, Prof. Shannon Alfaro, and Prof. Neil Young, and more than 300 students.  During my Ph.D. program, I published my research at two top-tier international conferences. I published three research papers during my master's, one of which won the second-best presentation award. My undergrad thesis was published at an IEEE conference and won the second-best presentation award for innovation and scalability.  Further, I won the GPS-STEM elevator pitch competition, a semifinalist in the UC Grad Slam pitch competition in 2022 and 2023. I have received the Mentoring Excellence Certificate, Public Speaking Certificate, and Improv for Teaching Certificate from the Graduate Division at UCI. My strong written and oral communication skills make me a candidate well-suited for this role. Special CS qualifications – machine learning for food and mental recommendation, science communication through information technology\\nProgramming: Advanced proficiency in Windows OS, Mac OS Intermediate proficiency in Python, PyTorch, Keras Basic proficiency in C/C++, Linux, SQLite\\nPast Experience: CourseTitleInstructorPositionWhenICS\\xa0139WCritical Writing for Info TechShannon AlfaroTA2021-fallICS\\xa0139WCritical Writing for Info TechShannon AlfaroTA2022-winterICS\\xa0139WCritical Writing for Info TechShannon AlfaroTA2022-springICS\\xa0139WCritical Writing for Info TechShannon AlfaroTA2023-spring\\nCourse Prefs: CourseTakenGradeICS\\xa0139WYICS\\xa06BYICS\\xa06NYICS\\xa06DY\", metadata={'row': 51, 'source': 'selected_columns_only.csv'}), Document(page_content=\"UUID: 79a08bc0-d972-4d21-b0b2-564616514c46\\nArea of Expertise: I have previously TA'd and have experience proctoring classes remotely.  I have TA'd CS 121, ICS 6D, and ICS 32 previously.  My area of expertise is Machine Learning and Scientific Computing.\\nProgramming: I am proficient with Python and I have experience using C/C++.  I have working with Linux, Windows, and Mac operating systems.  I have experience using Canvas' API suite, and can upload grades and comments automatically.\\nPast Experience: CourseTitleInstructorPositionWhenCS\\xa0121Information RetrievalMustafa IbrahimTA2021-winterICS\\xa06DDiscrete Mathematics for CSPaniz EbrahimiTA2021-fallICS\\xa06DDiscrete Mathematics for CSStanislaw JareckiTA2020-springICS\\xa0032Programming with Software LibrariesMustafa IbrahimTA2022-spring\\nCourse Prefs: CourseTakenGradeICS\\xa06DYB+ICS\\xa0032YACS\\xa0125YA\", metadata={'row': 53, 'source': 'selected_columns_only.csv'}), Document(page_content='UUID: fd7a44a1-bd7e-4ce5-a798-2d2d926c62fd\\nArea of Expertise: I consider Software Engineering and web development to be my area of expertise. I have experience tutoring online as I worked as a tutor and math coach during my time as an undergraduate student at Southern University and A&M College. When the pandemic started, we began offering our services to students online. As a Match coach I served as a Teaching Assistant in different math classes where I had to be present in the classroom and helped professors when needed. In addition, I had Tutoring hours set to help students further both in person and online. As a Tutor I have Helped students in specific courses such as: any math classes up to calculus 2, French, biology, C++ programing, physics 1&2, and Java programming. In addition, I was in charge of monitoring students as they come study in the learning center.\\nProgramming: I am proficient in both C++ and Java as I have studied these languages extensively throughout my undergraduate years. I have taken an operating systems course and have general knowledge about operating systems. I am also proficient in HTML and CSS as I have built numerous websites and application throughout my undergraduate career.\\nPast Experience: CourseTitleInstructorPositionWhenINF\\xa043Intro to Software EngineeringJess GillespieTA2021-fallSWE\\xa0245PGUI Programming Alberto Krone-Martins TA2022-fallSWE\\xa050PWeb programming Alberto Krone-Martins TA2022-fall\\nCourse Prefs: CourseTakenGradeICS\\xa0139WNCS\\xa0143ANICS\\xa032N', metadata={'row': 56, 'source': 'selected_columns_only.csv'}), Document(page_content=\"UUID: 1e7c76d9-f68e-4d9e-a637-f05df4f8f7db\\nArea of Expertise: I consider the areas of my expertise to be computer security, basic coding, and Machine Learning. I do not have any experience in teaching online courses, however, in my undergraduate life I used to do peer tutoring. During the Winter quarter of '23, I had the opportunity to serve as a teaching assistant for the computer science course CS141. This Spring'23 quarter, I am continuing my role as a TA for the ICS 46\\nProgramming: Before starting Ph.D., I was a full-time Software Engineer at Samsung R&D, Bangladesh. Thus I have 4 years of industry experience in C, C++, Java, and python across the Linux and Windows platforms.\\nPast Experience: CourseTitleInstructorPositionWhenCS\\xa0CoreConceptsOfProgrammingLanguage1Raymond KlefstadTA2023-winter\\nCourse Prefs: CourseTakenGradeICS\\xa046NICS\\xa045CNCS\\xa0161NICS\\xa0171N\", metadata={'row': 19, 'source': 'selected_columns_only.csv'}), Document(page_content='UUID: 48ec36be-a6d0-4e7c-9b86-cd2a610e70b3\\nArea of Expertise: I have about a year of experience with teaching online, through being an assistant to TAs during my undergraduate studies, as well as running a club where teaching basic algorithms was a major component.  Generally speaking my expertise would lie in multithreaded programming, since that is the most professional experience I have had up to this point, as well as basic algorithms and data structures since that was the class that I had assisted in prior.\\nProgramming: C/C++ - 3 years Cuda - 1 year Python - 3 years Java - 2 years Linux - 4 years Windows - 10 years\\nPast Experience: CourseTitleInstructorPositionWhenCS\\xa0161DES&ANALYS OF ALGORMichael DillencourtTA2021-fallICS\\xa045CProgramming in C++ Raymond KlefstadTA2021-winterCS\\xa0260PFundamentals of Algorithms with AppMichael SchindlerTA2022-springICS\\xa046Data Structure Implementation and ADaniel FrishbergTA2022-summer\\nCourse Prefs:', metadata={'row': 23, 'source': 'selected_columns_only.csv'}), Document(page_content=\"UUID: 51e15fa1-794d-4e15-8e2e-f97f9ae7900d\\nArea of Expertise: My area of expertise would in Computer Graphics, though I am also familiar with machine learning / AI, mathematics, and cognitive science from my undergraduate specializations and previous research experience.    I don't have any experience teaching online courses. Outside of UCI, I have TA'ed for one university class at UCSD (Brain-Computing Interfaces) and a couple years worth of middle school and high school Common Core mathematics.\\nProgramming: I'm very comfortable in working with C++, Unix, and Python from various projects, courses, and some research work. I'm somewhat familiar in Java and C.  I have not used VHDL or Scheme before.  I've grown up using Windows Operating systems for a long time, so I'm quite used to working with them.\\nPast Experience: CourseTitleInstructorPositionWhenICS\\xa032APython Programming with LibrariesThornton, AlexTA2018-fallICS\\xa032Programming with Software LibrariesThornton, AlexTA2019-winterICS\\xa06NComputational Linear AlgebraGago Masague, SergioTA2019-fallICS\\xa033Intermediate ProgrammingWatkinson, NeftaliTA2019-summer\\nCourse Prefs: CourseTakenGradeICS\\xa06NYICS\\xa060NICS\\xa032YICS\\xa033Y\", metadata={'row': 25, 'source': 'selected_columns_only.csv'}), Document(page_content=\"UUID: a5a9f0e8-84de-4116-858d-7b7807d6e468\\nArea of Expertise: My area of expertise lies in people skills and teaching, where I derive great satisfaction from helping and contributing value to others. I possess exceptional communication skills that enable me to convey complex technical concepts in a clear and easily understandable manner. In the field of Computer Science, I am highly qualified, having ranked 7th in my undergraduate department and maintained a 4.0 GPA in my Masters program thus far. I have a strong academic background with A+/A grades in courses such as Digital Logic Design,Data Structures, Computer Organization and Architecture, Machine Learning, DBMS,Theory of Computation and Compiler Design, and OOPs Programming. I have hands-on experience with various programming languages such as Python, Java, and C++.  Furthermore, I have a strong balance of theoretical and practical knowledge and have previously taught and assisted my peers and younger siblings in various Computer Science subjects. I have also mentored junior team members and guided them in their professional development. At my previous job as a Software Engineer at PayPal, India, I delivered numerous knowledge sharing sessions and presentations to colleagues, highlighting my excellent teaching skills.  Although I haven't had the opportunity to teach online courses, I am always eager to learn and expand my skill set, staying updated with the latest advancements in the field by participating in hackathons, coding competitions, and taking online courses. Additionally, I am currently a reader for course EECS 50(Signals and Systems), which showcases my continued involvement in the field of Computer Science and my commitment to learning and teaching.\\nProgramming: I have a strong background in Java, having worked with it since high school and using it extensively as a Software Engineer at PayPal where I primarily worked with Java and SpringBoot. I also have experience with other programming languages such as Python, C, C++, and SQL (Oracle and MySQL) acquired during my four years of undergraduate studies. In terms of operating systems, I have hands-on experience with Linux, as most of my undergraduate coursework required the use of Linux systems in the lab. I am also well-versed in using Windows, as all my personal computers have been windows-based. I have also gained 3 years of experience working on macOS during my time at PayPal. I also have experience with version control systems like Git and tools like JIRA, Confluence. I am always looking to expand my skill set and stay up-to-date with the latest advancements in the field.\\nPast Experience: CourseTitleInstructorPositionWhenEECS\\xa050Signals and SystemsProf Syed JafarReader2023-spring\\nCourse Prefs: CourseTakenGradeCS\\xa0143AYAINF\\xa043YAICS\\xa051YA+ICS\\xa046YA\", metadata={'row': 126, 'source': 'selected_columns_only.csv'}), Document(page_content='UUID: ab96f01d-9957-4540-a990-a2b03295b14d\\nArea of Expertise: I have always considered myself to be an inquisitive and passionate individual who wants to work in an intellectually demanding workplace and is interested in finding solutions to real-life problems. Therefore, I have a genuine interest in learning advanced concepts related to core programming concepts and data science. In addition, I possess aptitude for mobile application and software development.   1. During the final year of my undergrad at Sardar Patel Institute of Technology, Mumbai, India, I handled the responsibilities of a Teaching Assistant in the Machine Learning Lab for 3rd-year students, wherein I created quizzes/activities and conducted online doubt-solving sessions. 2. I also served as a Teaching Assistant for data warehousing and mining, where I delivered online presentations and led practical tutorials for juniors.\\nProgramming: I have 3+ years of experience in Java and Python programming, as evidenced by working as a software developer at ICICI Lombard and freelancer for tech start-ups in Mumbai for three years. My proficiency in these programming languages has been further reinforced through my five years of experience working on various operating systems such as Windows, macOS, and Ubuntu Linux.\\nPast Experience: \\nCourse Prefs: CourseTakenGradeCS\\xa0161NCS\\xa0162NCS\\xa0165NICS\\xa046N', metadata={'row': 98, 'source': 'selected_columns_only.csv'}), Document(page_content=\"UUID: 5ae1e953-678e-4474-b8d0-331ed44b7435\\nArea of Expertise: Algorithm Analysis and Data Structures Discrete Mathematics, Linear Algebra, Computer Graphics, boolean algebra. Theory of computation.  I have a strong mathematics background in computational as well as theoretical mathematics. This includes real analysis, topology, probability and statistical math, numerical analysis, and graph algorithms. I have background in group theory as well as in combinatorics.  * I have experience doing online office hours where I have helped students with their programming questions in ICS33\\nProgramming: Most of my programming experience is in C++,C and python. I've done all my academic projects in C++, C and python where I used linux and windows when doing any self/academic projects. I have a github link to my academic projects.  https://github.com/nvela005?tab=repositories  I have experience with programming in C, I wrote a shell program in C++ where I implemented various functionalities like input output redirection, as well piping. I am well prepared to TA ICS53, I have also attended all the lectures for ics53 and I have worked on their projects as well.\\nPast Experience: CourseTitleInstructorPositionWhenICS\\xa046Data Structure in C++Professor ShindlerTA2023-winterICS\\xa033Intermediate ProgrammingProfessor PattisTA2022-winterICS\\xa033Intermediate ProgrammingProfessor PattisTA2022-springCS\\xa0162Theory of ComputationProfessor ShindlerTA2023-spring\\nCourse Prefs: CourseTakenGradeICS\\xa053YACS\\xa0143AYACS\\xa0165YACS\\xa0161YA\", metadata={'row': 26, 'source': 'selected_columns_only.csv'}), Document(page_content='UUID: 7dc51321-b1a0-4615-aa26-1c4e91ec5f10\\nArea of Expertise: Statistics and mathematics is my area of expertise. I have been extremely interested in the field of Mathematics for many years and as an undergraduate student. I have taken 67 credit hours of Mathematics and Statistics courses, and 19 credit hours of computer science courses. Aside from the courses required for graduation, I enrolled in classes that interested me such as Mathematical Statistics, Number Theory, and Artificial Intelligence in which I excelled as a student. I had a major GPA of 3.8.   As an undergraduate student, I tutored numerous mathematics courses both online and in-person to 4 undergraduate students for two years. These courses included Multivariate Calculus, Linear Algebra, Machine Learning, and the mathematics section of the GRE. I enjoy explaining abstract concepts at each student’s level of understanding. My students have reported that they find my explanations clear and valuable for their learning which helped them receive high grades. Although teaching students online was challenging because of the technical difficulties, I was able to overcome them using my tablet device that simulated a real classroom environment.   While I was serving in the Korean Army, I helped numerous squadrons study and learn English free of charge. I held separate group study sessions for students of varying language skills and helped them improve their grammar and conversational skills. Many of these students were disadvantaged and their improved English proficiency exam scores helped them transfer to a more prestigious school.    In addition to the highly technical skills learned from computer science courses, I have a vast experience in data analysis. I have worked on multiple machine-learning projects that involved natural language and image processing. These projects were mostly executed in Python. I will elaborate on my specific computer science qualification in the following section.\\nProgramming: I modeled and trained GNNs to identify ADHD patients from EEG recordings and compared them with existing CNN models. Raw EEG recordings were preprocessed using MATLAB (EEGLAB) and my GNN models obtained 98.65% accuracy. I am currently working on explainable AI and further analysis.  I performed a sentiment analysis on Twitter and Parler users’ reactions to the 2020 U.S. Capitol incident. Twitter API was utilized to collect the data, and I created a preprocessing pipeline using bash and Python script on a Linux server. Over 10GB of textual data was analyzed.  After taking an online course on artificial intelligence, I built a deep neural network classifier using softmax regression from scratch. I trained this model on a well-known MNIST digit dataset and obtained 96% accuracy. This work was done and published on Kaggle.   Using bash script, I was able to automate data download and preprocessing. The downloaded data was uploaded to the PostgreSQL server, where I connected and used google data studios to create updated data reports automatically.  I am currently using macOS, but I am very familiar with Windows and Linux operating systems.\\nPast Experience: CourseTitleInstructorPositionWhenSTAT\\xa08Introduction to BiostatisticsBrigitte BaldiTA2023-spring\\nCourse Prefs: CourseTakenGradeSTAT\\xa067YASTAT\\xa0120AYASTAT\\xa07YASTAT\\xa08N', metadata={'row': 13, 'source': 'selected_columns_only.csv'}), Document(page_content='UUID: 168ea361-a81e-4f75-92a3-4437dbdefa36\\nArea of Expertise: My areas of expertise are in Machine Learning, Embedded Systems and Telecommunications Experience:  Bachelors in Computer Engineering Masters in Electrical Engineering on Distributed Deep Learning 5 years industry experience in  R&D for Embedded Telecommunication / Intelligent Systems 3 Semesters of Undergrad TAship (C programming / Assembly programming) Strong focus on Probability and Statistics Coursework during 1st Year of PhD NO experience in online teaching\\nProgramming: Languages: Proficient (3+ years of active development) in C/C++/Python/Bash Versed (1 years of active development) in Java No knowledge of VHDL, Scheme or SQL  OSs Professional and Personal use of Linux for 6+ years Rudimentary knowledge of Windows No knowledge of macOS\\nPast Experience: CourseTitleInstructorPositionWhenICS\\xa045CC++Mustafa IbrahimTA2022-fallICS\\xa045CC++Raymond KlefstadTA2023-winterICS\\xa035CC++Raymond KlefstadTA2023-spring\\nCourse Prefs: CourseTakenGradeSTAT\\xa067NICS\\xa031NICS\\xa06NYASTAT\\xa07N', metadata={'row': 75, 'source': 'selected_columns_only.csv'}), Document(page_content='UUID: 1b84a029-047a-461e-8da7-364900d0ce3c\\nArea of Expertise: High Performance Computing  and Algorithm development for specific Architectures.  Taught the Lab for an online course as a TA, but Students were still required to attend the Lab.\\nProgramming: Familiar with Java & VHDL, Proficient with C, C++, Unix. Proficient Windows user.\\nPast Experience: CourseTitleInstructorPositionWhenICS\\xa051Intro to Computer OrganizationA. NicolauTA2019-fallICS\\xa053Principles in System DesignJ. Wong-MaTA2021-springEECS\\xa022Advanced C ProgrammingR. DoemerTA2017-fallCS\\xa0265Graph AlgorithmsD. EppsteinReader2022-winter\\nCourse Prefs: CourseTakenGradeICS\\xa051NICS\\xa045JNICS\\xa031NICS\\xa06BN', metadata={'row': 36, 'source': 'selected_columns_only.csv'}), Document(page_content=\"UUID: 90ef2d69-d653-46dc-b395-ed81e746c431\\nArea of Expertise: In computer science, I have done several projects in the area of applied machine learning. I've also taken a number of Computer Science courses (such as machine learning,  and artificial intelligence) at UCI. I have great engineering skills, such as debugging and optimizing algorithms. Additionally, I have great communication skills and also a solid foundation in mathematics. I have experience in mentoring online courses during my undergraduate years. I teach students Calculus I and Differential Equations online.\\nProgramming: I have done projects with Java and Python so these are the most familiar languages to me. I have also taken data structure courses in C++ language. I am also familiar with the R language.  I am familiar with both Windows and MacOS operating systems.\\nPast Experience: CourseTitleInstructorPositionWhenCS\\xa0268POptimization Modeling Eric MjolsnessTA2022-fallCSE\\xa090Systems Engineering and Tech CommunIrene GasskoTA2023-winterCS\\xa0171Intro to Artificial IntelligenceKalev KaskTA2023-spring\\nCourse Prefs: CourseTakenGradeCS\\xa0Y271CS\\xa0Y273CS\\xa0Y268\", metadata={'row': 8, 'source': 'selected_columns_only.csv'}), Document(page_content='UUID: a1115ef0-f4dd-46e7-8614-0f2b1930dba4\\nArea of Expertise: I am experienced in discrete mathematics, ML, data structures, and bioinformatics. I am doing research on computational science (astrophysics + cs, biological networks + cs).   I have TAed for the Programming Languages course (ICS 141) this fall and winter semester. I have TAed in Data Structures course (ICS 46) this spring.\\nProgramming: I have 4+ years of experience working with Linux programming, Java, SQL languages, C, and Python. I am also familiar with C++, scheme, and VHDL. I have done projects in Matlab and Java Script.\\nPast Experience: CourseTitleInstructorPositionWhenCS\\xa0141Programming Languages Raymond KlefstadTA2022-fallCS\\xa0171Artificial Intelligence Mohammadhossein Rohban TA2021-fallCS\\xa046Data StructuresRaymond KlefstadTA2023-springCS\\xa0141Programming LanguagesRaymond KlefstadTA2022-winter\\nCourse Prefs: CourseTakenGradeCS\\xa0271Y4ICS\\xa0141Y3.8CS\\xa0121Y3.8INF\\xa0141Y3.8', metadata={'row': 134, 'source': 'selected_columns_only.csv'})]\n"
     ]
    }
   ],
   "source": [
    "# For example, if we want to find the top 20 students who has the most similar academic background to the course description\n",
    "# As our query context\n",
    "course_description = \"Introduces principles, techniques, and computational tools for quantitative approach to basic problem solving in physics and engineering. Pre-requisites: MATH 2A or AP Calculus AB or AP Calculus BC. Overlaps: Physics 2 \"\n",
    "similar_students = get_similar_docs(vector_db_students, top_skills_course(course_description))\n",
    "print(similar_students)"
   ]
  },
  {
   "cell_type": "code",
   "execution_count": 21,
   "metadata": {},
   "outputs": [],
   "source": [
    "# 10. Functions to get the answer to the question\n",
    "def get_recommendation(similar_students_info, query, chain):\n",
    "    try:\n",
    "        # operation that may raise an exception\n",
    "        ans = chain.run(input_documents=similar_students_info, question=query)\n",
    "    except Exception as e:\n",
    "        print(f\"An error occurred: {e}\")\n",
    "        # summary_similar_students_info = summarize_candidates(similar_students_info)  \n",
    "        # ans = chain.run(input_documents=summary_similar_students_info, question=query)\n",
    "    return ans"
   ]
  },
  {
   "cell_type": "code",
   "execution_count": null,
   "metadata": {},
   "outputs": [],
   "source": [
    "# Notice: if we run the query with 20 students' info as context, the gpt model will return an Token Limit error\n",
    "# course_num = \"I&C SCI 9\"\n",
    "# query_get_recommendation = \"In these students I give you, which 10 students are suitable Teaching assistant candidates for this course\" + course_num + course_description\n",
    "# res = get_recommendation(similar_students, query_get_recommendation, chain)\n",
    "# print(res)"
   ]
  },
  {
   "cell_type": "markdown",
   "metadata": {},
   "source": [
    "## TODO Walkaround OpenAI's Token Limit With Chain Type\n",
    "\n",
    "If Token Limit Error:\n",
    "InvalidRequestError: This model's maximum context length is 4097 tokens. However, your messages resulted in 8216 tokens. Please reduce the length of the messages."
   ]
  },
  {
   "cell_type": "code",
   "execution_count": 22,
   "metadata": {},
   "outputs": [
    {
     "name": "stdout",
     "output_type": "stream",
     "text": [
      "To be a successful Teaching Assistant for the course \"Programming in C/C++ as a Second Language: Introduction to the lexical, syntactic, semantic, and pragmatic characteristics of the C/C++ languages for experienced programmers,\" several skills, teaching background, and academic background are required.\n",
      "\n",
      "Skills:\n",
      "1. Proficiency in C/C++ programming languages: A strong command over C/C++ programming languages is essential to effectively assist students in understanding the lexical, syntactic, semantic, and pragmatic characteristics of these languages.\n",
      "2. Object-oriented programming (OOP): In-depth knowledge of OOP concepts and their implementation in C/C++ is crucial, as the course emphasizes object-oriented programming.\n",
      "3. Familiarity with standard libraries: Being well-versed in the usage of standard libraries in C/C++ is necessary to guide students in utilizing these libraries effectively.\n",
      "4. Manual garbage collection: Understanding the concept and implementation of manual garbage collection is important, as the course covers programming with manual garbage collection.\n",
      "\n",
      "Teaching Background:\n",
      "1. Experience as a programming instructor: Prior experience in teaching programming concepts, preferably in C/C++, is beneficial to effectively communicate and explain complex topics to students.\n",
      "2. Ability to create engaging learning materials: Developing instructional materials, such as presentations, assignments, and exercises, that engage students and facilitate their understanding of the course content is essential.\n",
      "3. Strong communication skills: Excellent verbal and written communication skills are necessary to effectively convey information, answer questions, and provide feedback to students.\n",
      "\n",
      "Academic Background:\n",
      "1. Bachelor's or Master's degree in Computer Science or a related field: A strong academic background in Computer Science or a related discipline provides a solid foundation for teaching programming languages like C/C++.\n",
      "2. Proficiency in C/C++ coursework: Having completed relevant coursework in C/C++ programming during the academic journey demonstrates a deep understanding of the languages and their concepts.\n",
      "\n",
      "Overall, a successful Teaching Assistant for this course should possess strong programming skills in C/C++, expertise in object-oriented programming, familiarity with standard libraries, and knowledge of manual garbage collection. Additionally, a teaching background with experience in programming instruction and excellent communication skills, along with an academic background in Computer Science or a related field, would greatly contribute to their effectiveness in assisting students.\n",
      "[Document(page_content='UUID: 87138c34-949d-4ebb-824d-692f8e72a386\\nArea of Expertise: 1.I think my area of expertise is software engineering (software testing, empirical software study, static analysis)  2.I have no special qualifications in Computer Science  3.I have experience teaching three online courses.  a)In my sophomore year (Spring 2020), I helped a junior high school student ready for the high school entrance examination, including mathematics, physics, chemistry and English. b)In my senior year (Spring 2022), as a Teaching Assistant of the course “Introduction to Computer Programming (Java)”, I taught the students how to code and debug. c)In my senior year (Spring 2022), as a Teaching Assistant of the course “Software Engineering”, I taught the students how to code and debug, and graded their presentations.\\nProgramming: 1.I have nearly 4-year coding experience of Java. I use Java to complete many course projects, including the backend of Sodoku & Magic Square Solver, the backend of Database SQL Online Judge, fixing bugs in the open-source projects written in Java, and my undergraduate graduation thesis – a record and replay framework for web application testing (based on Selenium Java). For C/C++, I just have a little experience. I used C to finish two projects: Communication of WI-FI module between two STM32 & task 1 and 2 of Pintos. For SQL languages, I adopted PostgreSQL as the database module of Database SQL Online Judge. 2.I have more than 10 years’ experience of Windows OS (using the command line, searching and editing the registry). For nearly 4-year experience of Linux/MacOS, I get familiar with fundamental commands (ps, ifconfig, ssh, pipes, etc.). And I have successfully run many open-source projects. 3.I usually use Python for trivial use like data processing and data crawler. And during my internship (3 months), I used Go to build the testing framework.\\nPast Experience: CourseTitleInstructorPositionWhenICS\\xa045JProgramming in Java as a Second LanEmily NavarroReader2022-fallICS\\xa045JProgramming in Java as a Second LanEmily NavarroReader2023-winterINF\\xa0113REQT ANALYSIS & ENGEmily NavarroReader2023-spring\\nCourse Prefs: CourseTakenGradeICS\\xa045JNICS\\xa031NICS\\xa032NICS\\xa033N', metadata={'row': 120, 'source': 'selected_columns_only.csv'}), Document(page_content='UUID: a57392f2-1cd9-44ec-a15e-e48e4e67cd5a\\nArea of Expertise: machin learning digital signal processing speech recognition natural language processing image processing\\nProgramming: I have fairly solid background in Java and C++. Good knowledge in C (although have not used it for a while) and Unix (for daily uses mostly) and very limited background in VHDL and none in Scheme  I do not have a professional background in Windows Operating Systems.\\nPast Experience: CourseTitleInstructorPositionWhenICS\\xa045CPROGRAMMING IN C/C++ AS A SECONDAlex ThorntoneReader2020-fallICS\\xa053Principles in System DesignIan HarrisReader2021-springCS\\xa0141Programming LanguagesRaymond KlefstadTA2023-springCS\\xa0141Programming LanguagesRaymond KlefstadReader2022-spring\\nCourse Prefs: CourseTakenGradeCS\\xa0141YCS\\xa0171NCS\\xa0175NCS\\xa053N', metadata={'row': 4, 'source': 'selected_columns_only.csv'}), Document(page_content=\"UUID: 72251169-337d-45bf-b1fe-46de54d2ff8c\\nArea of Expertise: Areas of Computer science which I have expertise are Data Structure, Algorithms and System Design and Critical Writing on Information Technology. I have qualified the Graduate Aptitude Test Engineering in Computer Science,one of the highly competitive exams conducted in India for admission into higher studies. I have expertise in Mathematics courseworks pertaining to CS and writing course works based on my previous TA experience.In the spring, 20 quarter I TA'ed in an online coursework ICS139W.\\nProgramming: I have an experience of six plus year in C and C++ programming and have basic knowledge of JAVA and Python programming. I have had an experience of 10+ years of experience in Windows Operating Systems. I have been a TA for ICS139W course consecutively for the last academic year with considerable amount of understanding of the course content.\\nPast Experience: CourseTitleInstructorPositionWhenCS\\xa0297PCapstone DesignSergio Gago MasagueTA2019-fallICS\\xa0139WCritical WritingMustafa IbrahimTA2020-fallICS\\xa0139WCritical Writing Mustafa IbrahimTA2020-springICS\\xa0139WCritical WritingDarren DennenbergTA2021-fall\\nCourse Prefs: CourseTakenGradeICS\\xa0139WYICS\\xa032NICS\\xa06BNICS\\xa06DN\", metadata={'row': 16, 'source': 'selected_columns_only.csv'}), Document(page_content='UUID: 48ec36be-a6d0-4e7c-9b86-cd2a610e70b3\\nArea of Expertise: I have about a year of experience with teaching online, through being an assistant to TAs during my undergraduate studies, as well as running a club where teaching basic algorithms was a major component.  Generally speaking my expertise would lie in multithreaded programming, since that is the most professional experience I have had up to this point, as well as basic algorithms and data structures since that was the class that I had assisted in prior.\\nProgramming: C/C++ - 3 years Cuda - 1 year Python - 3 years Java - 2 years Linux - 4 years Windows - 10 years\\nPast Experience: CourseTitleInstructorPositionWhenCS\\xa0161DES&ANALYS OF ALGORMichael DillencourtTA2021-fallICS\\xa045CProgramming in C++ Raymond KlefstadTA2021-winterCS\\xa0260PFundamentals of Algorithms with AppMichael SchindlerTA2022-springICS\\xa046Data Structure Implementation and ADaniel FrishbergTA2022-summer\\nCourse Prefs:', metadata={'row': 23, 'source': 'selected_columns_only.csv'}), Document(page_content='UUID: 85231e67-f819-4431-9231-fe8769be7d44\\nArea of Expertise: Parallel Computing Compilers Concurrent Programming Database Development Software Programming System Programming Computer Architecture and Operating Systems No experience in online courses, but have a vast experience in teaching assistantship in Physics and Technology School by Correspondence\\nProgramming: Profound knowledge of C, C++ (have developed different projects, including bachelor thesis) Plenty of experience in Unix Small experience in Java (one project - chess game, with the use of AWT) Advanced user of Windows\\nPast Experience: CourseTitleInstructorPositionWhenCS\\xa0250ASystems ArchitectureAlexander VeidenbaumTA2023-winterICS\\xa045CProgramming in C/C++Mustafa IbrahimTA2020-winterCS\\xa0143APrinciples of Operating SystemsLubomir BicTA2022-fallCS\\xa0131Parallel and Distributed ComputingAlexander VeidenbaumTA2023-spring\\nCourse Prefs: CourseTakenGradeICS\\xa031YAICS\\xa033YAICS\\xa06NYAICS\\xa051YA', metadata={'row': 73, 'source': 'selected_columns_only.csv'}), Document(page_content=\"UUID: a5a9f0e8-84de-4116-858d-7b7807d6e468\\nArea of Expertise: My area of expertise lies in people skills and teaching, where I derive great satisfaction from helping and contributing value to others. I possess exceptional communication skills that enable me to convey complex technical concepts in a clear and easily understandable manner. In the field of Computer Science, I am highly qualified, having ranked 7th in my undergraduate department and maintained a 4.0 GPA in my Masters program thus far. I have a strong academic background with A+/A grades in courses such as Digital Logic Design,Data Structures, Computer Organization and Architecture, Machine Learning, DBMS,Theory of Computation and Compiler Design, and OOPs Programming. I have hands-on experience with various programming languages such as Python, Java, and C++.  Furthermore, I have a strong balance of theoretical and practical knowledge and have previously taught and assisted my peers and younger siblings in various Computer Science subjects. I have also mentored junior team members and guided them in their professional development. At my previous job as a Software Engineer at PayPal, India, I delivered numerous knowledge sharing sessions and presentations to colleagues, highlighting my excellent teaching skills.  Although I haven't had the opportunity to teach online courses, I am always eager to learn and expand my skill set, staying updated with the latest advancements in the field by participating in hackathons, coding competitions, and taking online courses. Additionally, I am currently a reader for course EECS 50(Signals and Systems), which showcases my continued involvement in the field of Computer Science and my commitment to learning and teaching.\\nProgramming: I have a strong background in Java, having worked with it since high school and using it extensively as a Software Engineer at PayPal where I primarily worked with Java and SpringBoot. I also have experience with other programming languages such as Python, C, C++, and SQL (Oracle and MySQL) acquired during my four years of undergraduate studies. In terms of operating systems, I have hands-on experience with Linux, as most of my undergraduate coursework required the use of Linux systems in the lab. I am also well-versed in using Windows, as all my personal computers have been windows-based. I have also gained 3 years of experience working on macOS during my time at PayPal. I also have experience with version control systems like Git and tools like JIRA, Confluence. I am always looking to expand my skill set and stay up-to-date with the latest advancements in the field.\\nPast Experience: CourseTitleInstructorPositionWhenEECS\\xa050Signals and SystemsProf Syed JafarReader2023-spring\\nCourse Prefs: CourseTakenGradeCS\\xa0143AYAINF\\xa043YAICS\\xa051YA+ICS\\xa046YA\", metadata={'row': 126, 'source': 'selected_columns_only.csv'}), Document(page_content=\"UUID: 5ae1e953-678e-4474-b8d0-331ed44b7435\\nArea of Expertise: Algorithm Analysis and Data Structures Discrete Mathematics, Linear Algebra, Computer Graphics, boolean algebra. Theory of computation.  I have a strong mathematics background in computational as well as theoretical mathematics. This includes real analysis, topology, probability and statistical math, numerical analysis, and graph algorithms. I have background in group theory as well as in combinatorics.  * I have experience doing online office hours where I have helped students with their programming questions in ICS33\\nProgramming: Most of my programming experience is in C++,C and python. I've done all my academic projects in C++, C and python where I used linux and windows when doing any self/academic projects. I have a github link to my academic projects.  https://github.com/nvela005?tab=repositories  I have experience with programming in C, I wrote a shell program in C++ where I implemented various functionalities like input output redirection, as well piping. I am well prepared to TA ICS53, I have also attended all the lectures for ics53 and I have worked on their projects as well.\\nPast Experience: CourseTitleInstructorPositionWhenICS\\xa046Data Structure in C++Professor ShindlerTA2023-winterICS\\xa033Intermediate ProgrammingProfessor PattisTA2022-winterICS\\xa033Intermediate ProgrammingProfessor PattisTA2022-springCS\\xa0162Theory of ComputationProfessor ShindlerTA2023-spring\\nCourse Prefs: CourseTakenGradeICS\\xa053YACS\\xa0143AYACS\\xa0165YACS\\xa0161YA\", metadata={'row': 26, 'source': 'selected_columns_only.csv'}), Document(page_content='UUID: 68d25662-8c15-42d5-b061-ce10acdb1db8\\nArea of Expertise: I have working experience in static code analysis, mining software repositories, programming in Java, and Web application development. Besides, in coursework projects, I had worked in other languages like JavaScript and Python.  I am comfortable with working in all major operating systems. I do have experience in teaching online  courses  in my native language along with preparing, accessing and grading coursework.\\nProgramming: I would not directly claim that I have expertise in a specific field of technology. Still, I have the courage, dedication, and patience to accept the challenge, learn, and apply any technology when it would be required.  Java: Advanced  JavaScript: Intermediate C: Intermediate SQL: Intermediate NoSQL: MongoDB, Firebase Linux & Windows & macOS: Intermediate\\nPast Experience: CourseTitleInstructorPositionWhenINF\\xa0113 REQT ANALYSIS & ENGEmily NavarroTA2022-springGDIM\\xa031INTRO TO PROG GAMESAllison SalmonTA2022-summerICS\\xa045JProgramming in Java as a Second LanEmily NavarroTA2021-winterSWE\\xa0262PPROGRAMMING STYLESCristina LopesTA2023-winter\\nCourse Prefs: CourseTakenGradeICS\\xa032NICS\\xa0139WNICS\\xa045JN', metadata={'row': 94, 'source': 'selected_columns_only.csv'}), Document(page_content=\"UUID: 06be6af0-d8e6-4d2a-8e4b-e3e9803388e0\\nArea of Expertise: 1.What do you consider your area of expertise? Learning new knowledge quickly, patience, fair, sticking to rules and guidelines.  2.In Computer Science, what are your special qualifications? I have participanted in several programs for building websites.  3.Do you have experience teaching online courses? No. But I have been a TA and Reader of a General Education onsite class when I was junior in USTC.\\nProgramming: 1.How much experience do you have with Java, VHDL, Scheme, C, C++, VHDL, and/or SQL languages? I have implemented several advanced algorithms with C,C++ and SQL. I have not learned VHDL.  2.How much experience do you have with the Linux, Windows, and/or macOS operating systems? I have learned some knowledge about Linux, and used some released version of Linux, such as Ubuntu and Centos. I don't know much about windows or Centos  3. Do you have other language, operating system, or database experience or knowledge worth noting? I have implemented some application using python. I also have some experience on frontend programming.\\nPast Experience: CourseTitleInstructorPositionWhenCS\\xa0161INTRO TO ALGMILENA MIHAILReader2022-fallICS\\xa06BBOOL LOG & DISC STRMEENAKSHISUNDA, GOPIReader2023-winter\\nCourse Prefs: CourseTakenGradeINF\\xa0172YACS\\xa0143AYAICS\\xa032YB+ICS\\xa045JYB+\", metadata={'row': 135, 'source': 'selected_columns_only.csv'}), Document(page_content='UUID: 3d6197b3-a5cc-4504-8c3d-46c90c83f595\\nArea of Expertise: My area of expertise is in the human approach to the sciences. My work focuses on the impacts and social issues surrounding and contributing to games.  In CS, I have no special qualifications.  I have taught several times online. As a Ph.D. student, I taught one hybrid course (150 students cap), one synchronous online course (150 students cap), and one asynchronous online course (250 students cap).  I was an undergrad UTeach instructor at UCI, where I taught a 1 unit P/NP class to 20 students asynchronously. I taught synchronously as a TA for the US 83/84 Summer Bridge/Freshman Edge program at UCI.\\nProgramming: Familiar with basic Java and C++ Familiar with Windows and macOS Attended Girls Who Code\\nPast Experience: CourseTitleInstructorPositionWhenINF\\xa0161Social Analysis of ComputingRoderic CrooksTA2021-fallGDIM\\xa053Roleplaying Games and ImprovisationAaron TrammellTA2022-winterGDIM\\xa041\\xa0ICS\\xa0060Games and SocietyConstance SteinkuehlerTA2022-springGDIM\\xa025Game Design FundamentalsRose OTA2022-summer\\nCourse Prefs: CourseTakenGradeICS\\xa0139WNICS\\xa031N', metadata={'row': 103, 'source': 'selected_columns_only.csv'}), Document(page_content=\"UUID: 1e7c76d9-f68e-4d9e-a637-f05df4f8f7db\\nArea of Expertise: I consider the areas of my expertise to be computer security, basic coding, and Machine Learning. I do not have any experience in teaching online courses, however, in my undergraduate life I used to do peer tutoring. During the Winter quarter of '23, I had the opportunity to serve as a teaching assistant for the computer science course CS141. This Spring'23 quarter, I am continuing my role as a TA for the ICS 46\\nProgramming: Before starting Ph.D., I was a full-time Software Engineer at Samsung R&D, Bangladesh. Thus I have 4 years of industry experience in C, C++, Java, and python across the Linux and Windows platforms.\\nPast Experience: CourseTitleInstructorPositionWhenCS\\xa0CoreConceptsOfProgrammingLanguage1Raymond KlefstadTA2023-winter\\nCourse Prefs: CourseTakenGradeICS\\xa046NICS\\xa045CNCS\\xa0161NICS\\xa0171N\", metadata={'row': 19, 'source': 'selected_columns_only.csv'}), Document(page_content='UUID: 0a5fee8e-8447-4988-ae7e-35e2c7fbabb9\\nArea of Expertise: -> I am adept with Computer Science, Computer Engineering network science and Operating System subjects. -> Few of the subjects I’m comfortable teaching are - C/C++, Java, Python, Database, Algorithms and Data structures, Computer Architecture. -> Special Qualifications : I have interned in an Embedded software role, where I worked with C and Python languages. Also have experience working with MongoDB Database management system. -> I do not have any experience in teaching online. However, I have volunteered to teach 5-7 grades at a government school back in India during Summer breaks.\\nProgramming: -> I have had coursework in my undergraduate in JAVA, VHDL, C, C++, Mysql. I have scored an A and above in all the subjects. I have used C and Java in a couple projects during my course too. -> I have worked in bith Windows and Linux for my project work and course work and am completely comfortable with both OS.\\nPast Experience: CourseTitleInstructorPositionWhenCS\\xa0122DBeyond SQL Data ManagementMike CareyTA2023-spring\\nCourse Prefs: CourseTakenGradeCS\\xa0171YINF\\xa03NINF\\xa0172NCS\\xa0199N', metadata={'row': 62, 'source': 'selected_columns_only.csv'}), Document(page_content=\"UUID: 79c2e103-b928-47f0-8113-409ef5fb5811\\nArea of Expertise: My area of expertise is computer architecture and system design. I have worked with programming languages for several years now. During my undergraduate studies at the American University of Beirut, I TA'ed 2 online courses: Introduction to programming in Python and Computer Organization. In both of these courses, I was helping students with their assignments, answering their questions, and grading their submissions.\\nProgramming: I have taken courses on programming using VHDL, C, C++, Python, MATLAB, and SQL. I have also used most of these languages in projects (academic and non-academic) beyond the scope of the courses. I have used C++ to run machine learning programs on a Jetson and used C to run audio detection programs on microcontrollers such as the Arduino Nano. I also have extended hands-on experience with Python, as I have used it for many projects and previously TA'ed a course for it. I am also currently using VHDL for my graduate research. I have also extended experience with Linux and Windows operating systems, as I have used them both during my undergraduate and graduate studies for all of my projects.\\nPast Experience: \\nCourse Prefs: CourseTakenGradeICS\\xa032NICS\\xa031NICS\\xa033NICS\\xa046N\", metadata={'row': 100, 'source': 'selected_columns_only.csv'}), Document(page_content=\"UUID: a9259361-b934-4d1d-af74-3104b1ecb3b2\\nArea of Expertise: I am really eager to take TA responsibilities in ML/AI courses to strengthen my knowledge in them (I took AI/ML courses and passed them with A's). Moreover, I have TA experience in the following courses: 1- Embedded systems and Internet of Things 2- Linear Algebra My responsibilities were mainly correcting students' exam papers and preparing Homework for them as a member of the teaching team.\\nProgramming: If I have to rate my experience with programming languages and OSs from 1 to 5, the following list demonstrates my skills: Python: 4 C++: 3 Java: 3 Windows: 4 Linux: 3\\nPast Experience: CourseTitleInstructorPositionWhenICS\\xa06DBoolean logic & Discrete structuresIrene GasskoReader2022-springICS\\xa031Intro to Python ProgrammingShannon AlfaroTA2022-fallICS\\xa06BBoolean Logic and Discrete StructurGopi Meenakshisundaram TA2023-winter\\nCourse Prefs: CourseTakenGradeICS\\xa0170NICS\\xa031NICS\\xa045NICS\\xa032AN\", metadata={'row': 99, 'source': 'selected_columns_only.csv'}), Document(page_content='UUID: ab96f01d-9957-4540-a990-a2b03295b14d\\nArea of Expertise: I have always considered myself to be an inquisitive and passionate individual who wants to work in an intellectually demanding workplace and is interested in finding solutions to real-life problems. Therefore, I have a genuine interest in learning advanced concepts related to core programming concepts and data science. In addition, I possess aptitude for mobile application and software development.   1. During the final year of my undergrad at Sardar Patel Institute of Technology, Mumbai, India, I handled the responsibilities of a Teaching Assistant in the Machine Learning Lab for 3rd-year students, wherein I created quizzes/activities and conducted online doubt-solving sessions. 2. I also served as a Teaching Assistant for data warehousing and mining, where I delivered online presentations and led practical tutorials for juniors.\\nProgramming: I have 3+ years of experience in Java and Python programming, as evidenced by working as a software developer at ICICI Lombard and freelancer for tech start-ups in Mumbai for three years. My proficiency in these programming languages has been further reinforced through my five years of experience working on various operating systems such as Windows, macOS, and Ubuntu Linux.\\nPast Experience: \\nCourse Prefs: CourseTakenGradeCS\\xa0161NCS\\xa0162NCS\\xa0165NICS\\xa046N', metadata={'row': 98, 'source': 'selected_columns_only.csv'}), Document(page_content='UUID: c3a1b319-8cd9-471b-ae64-06072e137f7d\\nArea of Expertise: Programming, logical thinking and aptitude I consider them as my strong suite and I strongly believe if you are good at these you can become a great programmer. I was a reader in the EECS department for the fall 2022 quarter and right now I am working in the ICS department as a reader for the course IN4MATX 141 under professor Alberto, I do have some teaching experience, I used to teach mathematics and computer science to high school students back in India during my holidays. I really like to interact with students and solve their doubts. I would love to work as a TA this quarter and I prefer the TA role, if that is not possible I am also happy to work as a reader.\\nProgramming: I have good academic experience with Python, C and Java programming languages in my high school and in my bachelors, I have worked and developed so many projects using these programming languages. I am familiar with Windows, MacOS and Linux as well. I am also good at embedded systems, I have some experience with Unreal engine and blender\\nPast Experience: CourseTitleInstructorPositionWhenEECS\\xa070BNetwork Analysis IIThomas KetseoglouReader2022-fallCS\\xa0121INFRMTION RETRIEVAL KRONE MARTINS, A.Reader2023-winterCS\\xa0121INFRMTION RETRIEVAL KRONE MARTINS, A.Reader2023-spring\\nCourse Prefs:', metadata={'row': 35, 'source': 'selected_columns_only.csv'}), Document(page_content='UUID: fd7a44a1-bd7e-4ce5-a798-2d2d926c62fd\\nArea of Expertise: I consider Software Engineering and web development to be my area of expertise. I have experience tutoring online as I worked as a tutor and math coach during my time as an undergraduate student at Southern University and A&M College. When the pandemic started, we began offering our services to students online. As a Match coach I served as a Teaching Assistant in different math classes where I had to be present in the classroom and helped professors when needed. In addition, I had Tutoring hours set to help students further both in person and online. As a Tutor I have Helped students in specific courses such as: any math classes up to calculus 2, French, biology, C++ programing, physics 1&2, and Java programming. In addition, I was in charge of monitoring students as they come study in the learning center.\\nProgramming: I am proficient in both C++ and Java as I have studied these languages extensively throughout my undergraduate years. I have taken an operating systems course and have general knowledge about operating systems. I am also proficient in HTML and CSS as I have built numerous websites and application throughout my undergraduate career.\\nPast Experience: CourseTitleInstructorPositionWhenINF\\xa043Intro to Software EngineeringJess GillespieTA2021-fallSWE\\xa0245PGUI Programming Alberto Krone-Martins TA2022-fallSWE\\xa050PWeb programming Alberto Krone-Martins TA2022-fall\\nCourse Prefs: CourseTakenGradeICS\\xa0139WNCS\\xa0143ANICS\\xa032N', metadata={'row': 56, 'source': 'selected_columns_only.csv'}), Document(page_content='UUID: a60f7fc5-95ba-436b-840e-aa7a1b9ee6c6\\nArea of Expertise: Machine Learning Artificial Intelligence Computer Systems Programming  I did TA for an online course in summer 2019, 2020 and 2022. I also have experience being TA for different online courses during the pandemic, such as ICS 31.\\nProgramming: Java: intermediate high VHDL: intermediate high C/C++: expert Unix: expert Windows Operating System: expert\\nPast Experience: CourseTitleInstructorPositionWhenCS\\xa0143APrinciples of Operating SystemsLubomir BicTA2020-summerCS\\xa0151Digital System DesignElaheh BozorgzadehTA2020-summerICS\\xa031Intro to ProgrammingIan HarrisTA2021-summerCS\\xa0143BProject in Operating SystemLubomir BicTA2021-fall\\nCourse Prefs: CourseTakenGradeCS\\xa0143AYA+ICS\\xa06BYA+', metadata={'row': 59, 'source': 'selected_columns_only.csv'}), Document(page_content='UUID: aa866d21-f219-407a-a0d8-d2f554eaa824\\nArea of Expertise: A strong experience teaching online courses for both programming courses and theoretical ones. ICS 125: Next Generation Search Systems ICS 6b, Boolean algebra ICS 32: Programming Software Libraries ICS 45: Programming C++ ICS 31: Intro to Programming CompSci   171: AI\\nProgramming: Experience in Online TA. Boolean Algebra: Advanced Programming Software Libraries: Advanced Programming Libraries: Advanced Java: Advanced C: Advanced C++: Advanced Python: Advanced OS: Advanced Also worked with: Unity3D, Unreal Engine, Cuda,  Matlab, C#, OpenGL, WebGL, HTML, OpenCV, ...\\nPast Experience: CourseTitleInstructorPositionWhenICS\\xa032Programming Software Libraries Ramesh JainTA2020-springCS\\xa0I\\xa0125Next Generation Search SystemsSergioTA2023-winterICS\\xa06BBoolean Algebra & LogicWayne HayesReader2018-springICS\\xa045JPROGRAMMING IN JAVAMustafa IbrahimTA2018-summer\\nCourse Prefs: CourseTakenGradeICS\\xa032YAICS\\xa031YAICS\\xa06BYAICS\\xa045CYA', metadata={'row': 39, 'source': 'selected_columns_only.csv'}), Document(page_content=\"UUID: 141a6f36-e183-4bd7-b0aa-733762bbe425\\nArea of Expertise: I consider my area of expertise is in software development and machine learning. I am also well-equipped in the web application development space. Through professional experiences and personal projects, I am constantly learning about new and interesting tools and technologies related to this intersection, with a special passion and focus on healthcare technologies. My strengths include proficiency in languages such as Python and C/C++. I have worked with these languages enough to be well-versed with their nuances, and I have a strong grasp on data structures and algorithms as well. Through multiple data-related courses and projects, SQL is another skill I've built upon. I am competent in multiple frameworks such as PostgreSQL, MySQL and NoSQL. Of course, the application and use of data in machine learning is one of my focus areas. During my undergraduate degree, I was a subject matter expert (SME) in the Machine Learning club, where I led workshops and delivered seminars to classes of 40+ students, a couple of them being held remotely. With experience in multiple sister domains such as NLP, Computer Vision and Reinforcement Learning, I believe I offer a diverse skill set. As a teaching assistant in the C++ programming course during my Bachelor's, I regularly helped students with doubts and clarifications. I often created documents with useful resources to aid the learning of concepts too. Additionally, I communicate ideas well in a written format, which I think could be a useful skill as well. Sharing what I've learnt in a concise and helpful manner is an ability I've built over the years, not just through formal teaching experiences, but through the natural process of helping my peers. I am excited by the opportunity to aid the learning of other students.\\nProgramming: As mentioned above, I have a strong grasp on C/C++ and SQL, through formal coursework and practical applications. I have built on my skills in C/C++ since high school, and I have worked with SQL regularly for various projects since the very first year of my undergraduate program, so I believe I am well-versed in the fundamentals of these languages. My experience in multiple database management systems such as PostgreSQL, MySQL, SQLite and NoSQL (MongoDB) would hold me in good stead as well. I do have some experience with Java programming too, though I have not used it regularly. However, if necessary, I could definitely pick it up again.  Operating systems that I am experienced in include Windows and Linux (Ubuntu). I have carried out quite a bit of my development work on Linux environments successfully, so working with the command line is quite natural. Of course, Windows has been my everyday operating system of choice and I understand both of these operating systems well.  Additionally, I am proficient in web development languages such as HTML, CSS and Javascript. Python is another language I believe I would be well-equipped to aid teaching in.\\nPast Experience: \\nCourse Prefs: CourseTakenGradeINF\\xa0172NINF\\xa043NICS\\xa031NICS\\xa0139WN\", metadata={'row': 87, 'source': 'selected_columns_only.csv'})]\n",
      "<class 'list'>\n",
      "<class 'langchain.schema.document.Document'>\n",
      "<class 'str'>\n",
      "2193\n"
     ]
    }
   ],
   "source": [
    "course_description = \"Introduction to Computation for Scientists and Engineers: Introduces principles, techniques, and computational tools for quantitative approach to basic problem solving in physics and engineering. Pre-requisites: MATH 2A or AP Calculus AB or AP Calculus BC. Overlaps: Physics 2 \"\n",
    "course_description2 = \"Human Factors for the Web: Principles of human-computer interaction in evaluating, designing, and developing information presented on the World Wide Web. Topics include user characteristics, usability analysis, navigation and organization, color, typography, multimedia, information visualization, prototyping, user studies, evaluation strategies, and web accessibility.\"\n",
    "course_description3 = \"Programming in C/C++ as a Second Language: Introduction to the lexical, syntactic, semantic, and pragmatic characteristics of the C/C++ languages for experienced programmers. Emphasis on object-oriented programming, using standard libraries, and programming with manual garbage collection.\"\n",
    "\n",
    "course_num = \"I&C SCI 9\"\n",
    "course_num2 = \"I&C SCI 10\"\n",
    "course_num3 = \"I&C SCI 45C\"\n",
    "similar_students = get_similar_docs(vector_db_students, top_skills_course(course_description3))\n",
    "print(similar_students)\n",
    "print(type(similar_students))\n",
    "print(type(similar_students[0]))\n",
    "print(type(similar_students[0].page_content))\n",
    "print(len(similar_students[0].page_content))"
   ]
  },
  {
   "cell_type": "markdown",
   "metadata": {},
   "source": [
    "<class 'list'>\n",
    "<class 'langchain.schema.Document'>\n",
    "<class 'str'>"
   ]
  },
  {
   "cell_type": "code",
   "execution_count": 23,
   "metadata": {},
   "outputs": [
    {
     "name": "stdout",
     "output_type": "stream",
     "text": [
      "length of docs_chunks 20\n",
      "<class 'langchain.schema.document.Document'>\n",
      "page_content UUID: 87138c34-949d-4ebb-824d-692f8e72a386\n",
      "Area of Expertise: 1.I think my area of expertise is software engineering (software testing, empirical software study, static analysis)  2.I have no special qualifications in Computer Science  3.I have experience teaching three online courses.  a)In my sophomore year (Spring 2020), I helped a junior high school student ready for the high school entrance examination, including mathematics, physics, chemistry and English. b)In my senior year (Spring 2022), as a Teaching Assistant of the course “Introduction to Computer Programming (Java)”, I taught the students how to code and debug. c)In my senior year (Spring 2022), as a Teaching Assistant of the course “Software Engineering”, I taught the students how to code and debug, and graded their presentations.\n",
      "Programming: 1.I have nearly 4-year coding experience of Java. I use Java to complete many course projects, including the backend of Sodoku & Magic Square Solver, the backend of Database SQL Online Judge, fixing bugs in the open-source projects written in Java, and my undergraduate graduation thesis – a record and replay framework for web application testing (based on Selenium Java). For C/C++, I just have a little experience. I used C to finish two projects: Communication of WI-FI module between two STM32 & task 1 and 2 of Pintos. For SQL languages, I adopted PostgreSQL as the database module of Database SQL Online Judge. 2.I have more than 10 years’ experience of Windows OS (using the command line, searching and editing the registry). For nearly 4-year experience of Linux/MacOS, I get familiar with fundamental commands (ps, ifconfig, ssh, pipes, etc.). And I have successfully run many open-source projects. 3.I usually use Python for trivial use like data processing and data crawler. And during my internship (3 months), I used Go to build the testing framework.\n",
      "Past Experience: CourseTitleInstructorPositionWhenICS 45JProgramming in Java as a Second LanEmily NavarroReader2022-fallICS 45JProgramming in Java as a Second LanEmily NavarroReader2023-winterINF 113REQT ANALYSIS & ENGEmily NavarroReader2023-spring\n",
      "Course Prefs: CourseTakenGradeICS 45JNICS 31NICS 32NICS 33N\n",
      "text length for student_1 2193\n",
      "metadata {'row': 120, 'source': 'selected_columns_only.csv'}\n"
     ]
    }
   ],
   "source": [
    "char_text_splitter = CharacterTextSplitter(chunk_size=1000, chunk_overlap=0)\n",
    "docs_chunks = char_text_splitter.split_documents(similar_students)\n",
    "print(\"length of docs_chunks\", len(docs_chunks))\n",
    "print(type(docs_chunks[0]))\n",
    "print(\"page_content\", docs_chunks[0].page_content)\n",
    "print(\"text length for student_1\", len(docs_chunks[0].page_content))\n",
    "print(\"metadata\", docs_chunks[0].metadata)"
   ]
  },
  {
   "cell_type": "code",
   "execution_count": 24,
   "metadata": {},
   "outputs": [],
   "source": [
    "# Helper function for Class StudentsInfoSummarize\n",
    "from langchain.schema import Document\n",
    "def generate_new_doc(page_content, metadata):\n",
    "    new_doc = Document(\n",
    "        page_content=page_content,\n",
    "        metadata=metadata\n",
    "    )\n",
    "    return new_doc"
   ]
  },
  {
   "cell_type": "code",
   "execution_count": 25,
   "metadata": {},
   "outputs": [],
   "source": [
    "# Summarize students info within the token limit\n",
    "import openai\n",
    "class StudentsInfoSummarize:\n",
    "    def __init__(self, students_info):\n",
    "        self.students_info = students_info\n",
    "        self.students_info_summary = []\n",
    "\n",
    "    def get_students_summary(self):\n",
    "        for i in range(len(self.students_info)):\n",
    "            text = self.summarize_one_student(self.students_info[i].page_content)\n",
    "            new_doc_chunk = generate_new_doc(text, {})\n",
    "            self.students_info_summary.append(new_doc_chunk)\n",
    "        return self.students_info_summary\n",
    "\n",
    "\n",
    "    # pass one student info string to summarize_one_student\n",
    "    def summarize_one_student(self, student_info):\n",
    "        openai.api_key = os.getenv(\"OPENAI_API_KEY\")\n",
    "\n",
    "        response = openai.ChatCompletion.create(\n",
    "        model=\"gpt-3.5-turbo\",\n",
    "        messages=[\n",
    "            {\n",
    "            \"role\": \"system\",\n",
    "            \"content\": \"Summarize the student's background. Include their UUID, expertise, programming skills, and past experience (include all teaching experience, if any)\"\n",
    "            },\n",
    "            {\n",
    "            \"role\": \"user\",\n",
    "            \"content\": student_info\n",
    "        },\n",
    "        ],\n",
    "        temperature=0,\n",
    "        max_tokens=150,\n",
    "        top_p=1.0,\n",
    "        frequency_penalty=0.0,\n",
    "        presence_penalty=0.0\n",
    "       )\n",
    "        return response.choices[0].message.content;"
   ]
  },
  {
   "cell_type": "code",
   "execution_count": null,
   "metadata": {},
   "outputs": [],
   "source": [
    "# from students_info_summarize import StudentsInfoSummarize\n",
    "students_info_summarize = StudentsInfoSummarize(docs_chunks)\n",
    "concise_context = students_info_summarize.get_students_summary()\n",
    "print(type(concise_context))\n",
    "print(len(concise_context))\n",
    "#similar_context, in a more concise way, within the token limit\n"
   ]
  },
  {
   "cell_type": "code",
   "execution_count": 28,
   "metadata": {},
   "outputs": [
    {
     "name": "stdout",
     "output_type": "stream",
     "text": [
      "student1 UUID: 87138c34-949d-4ebb-824d-692f8e72a386\n",
      "Area of Expertise: The student's area of expertise is software engineering, specifically in software testing, empirical software study, and static analysis. They do not have any special qualifications in Computer Science.\n",
      "\n",
      "Programming Skills: The student has nearly 4 years of coding experience in Java and has used it for various projects, including backend development, bug fixing in open-source projects, and their undergraduate thesis. They also have some experience with C/C++ and have used C for two projects. They have experience with SQL languages, specifically PostgreSQL. They have about 10 years of experience with Windows OS and nearly 4 years of experience with Linux \n",
      "\n",
      "\n",
      "723\n",
      "student2 UUID: a5a9f0e8-84de-4116-858d-7b7807d6e468\n",
      "Area of Expertise: The student has a strong background in Computer Science, with expertise in areas such as Digital Logic Design, Data Structures, Computer Organization and Architecture, Machine Learning, DBMS, Theory of Computation and Compiler Design, and OOPs Programming. They have a 4.0 GPA in their Masters program and ranked 7th in their undergraduate department. They have excellent communication skills and enjoy teaching and helping others.\n",
      "\n",
      "Programming Skills: The student is proficient in programming languages such as Java, Python, C++, and has experience with SQL (Oracle and MySQL). They have hands-on experience with\n"
     ]
    }
   ],
   "source": [
    "print(\"student1\",concise_context[0].page_content, \"\\n\\n\")\n",
    "print(len(concise_context[0].page_content))\n",
    "print(\"student2\", concise_context[5].page_content)"
   ]
  },
  {
   "cell_type": "code",
   "execution_count": 30,
   "metadata": {},
   "outputs": [
    {
     "name": "stdout",
     "output_type": "stream",
     "text": [
      "To determine the best Teaching Assistant candidates for the course I&C SCI 45C, we can consider the students' areas of expertise, programming skills, and teaching experience. Based on the provided information, the following 10 students would make strong candidates, sorted from best to worst:\n",
      "\n",
      "1. UUID: a57392f2-1cd9-44ec-a15e-e48e4e67cd5a\n",
      "   - Area of Expertise: Machine learning, digital signal processing, speech recognition, natural language processing, image processing\n",
      "   - Programming Skills: Java, C++, C, Unix, VHDL, Scheme\n",
      "   - Teaching Experience: TA for CS 141 (Programming Languages) in Spring 2023, Reader for CS 141 in Spring 2022\n",
      "\n",
      "2. UUID: 5ae1e953-678e-4474-b8d0-331ed44b7435\n",
      "   - Area of Expertise: Algorithm Analysis and Data Structures, Discrete Mathematics, Linear Algebra, Computer Graphics, boolean algebra, Theory of Computation.\n",
      "   - Programming Skills: C++, C, Python\n",
      "   - Teaching Experience: TA for ICS46 (Data Structure in C++) in Winter 2023, TA for ICS33 (Intermediate Programming) in Winter 2022 and Spring 2022, TA for CS162 (Theory of Computation) in Spring 2023\n",
      "\n",
      "3. UUID: 48ec36be-a6d0-4e7c-9b86-cd2a610e70b3\n",
      "   - Expertise: Multithreaded programming, basic algorithms, and data structures\n",
      "   - Programming Skills: C/C++ (3 years), CUDA (1 year), Python (3 years), Java (2 years), Linux (4 years), Windows (10 years)\n",
      "   - Past Experience: TA for CS 161 (Design and Analysis of Algorithms) in Fall 2021\n",
      "\n",
      "4. UUID: 85231e67-f819-4431-9231-fe8769be7d44\n",
      "   - Area of Expertise: Parallel Computing, Compilers, Concurrent Programming, Database Development, Software Programming, System Programming, Computer Architecture, and Operating Systems\n",
      "   - Programming Skills: Proficient in C and C++, experienced in Unix, some experience in Java\n",
      "   - Past Experience: TA for courses in Systems Architecture, Programming in C/C++, Principles of Operating Systems, and Parallel and Distributed Computing\n",
      "\n",
      "5. UUID: a5a9f0e8-84de-4116-858d-7b7807d6e468\n",
      "   - Area of Expertise: Digital Logic Design, Data Structures, Computer Organization and Architecture, Machine Learning, DBMS, Theory of Computation and Compiler Design, OOPs Programming\n",
      "   - Programming Skills: Java, Python, C++\n",
      "   - Teaching Experience: TA for CS141 (Programming Languages) in Winter 2023\n",
      "\n",
      "6. UUID: 72251169-337d-45bf-b1fe-46de54d2ff8c\n",
      "   - Area of Expertise: Data Structure, Algorithms, System Design, Critical Writing on Information Technology\n",
      "   - Programming Skills: C, C++, Java\n",
      "   - Teaching Experience: TA for CS 141 (Programming Languages) in Spring 2022\n",
      "\n",
      "7. UUID: 87138c34-949d-4ebb-824d-692f8e72a386\n",
      "   - Area of Expertise: Software Engineering, Software Testing, Empirical Software Study, Static Analysis\n",
      "   - Programming Skills: Java, C/C++, SQL (PostgreSQL)\n",
      "   - No specific teaching experience mentioned\n",
      "\n",
      "8. UUID: 79c2e103-b928-47f0-8113-409ef5fb5811\n",
      "   - Area of Expertise: Computer architecture and system design\n",
      "   - Programming Skills: VHDL, C, C++, Python, MATLAB, SQL\n",
      "   - Teaching Experience: TA for Introduction to programming in Python and Computer Organization courses\n",
      "\n",
      "9. UUID: 68d25662-8c15-42d5-b061-ce10acdb1db8\n",
      "   - Area of Expertise: Static code analysis, mining software repositories, programming in Java, web application development\n",
      "   - Programming Skills: Java (advanced), JavaScript (intermediate), C, SQL, NoSQL (MongoDB, Firebase)\n",
      "   - Past Experience: TA for requirements analysis and engineering\n",
      "\n",
      "10. UUID: 1e7c76d9-f68e-4d9e-a637-f05df4f8f7db\n",
      "    - Area of Expertise: Computer security, basic coding, Machine Learning\n",
      "    - Programming Skills: C, C++, Java, Python\n",
      "    - Teaching Experience: TA for CS141 (Programming Languages) in Winter 2023\n",
      "\n",
      "Please note that the ranking is subjective and based on the information provided. It is recommended to further evaluate the candidates based on specific criteria and requirements for the TA position.\n"
     ]
    }
   ],
   "source": [
    "# use the concise summary and query again, with students' background keywords\n",
    "query_get_recommendation = \"Provided a list of students. Which 10 students would make the best Teaching assistant candidates (sort from best candidates to worst candidates) for this course\" + course_num3 + course_description3 + \", include their background key words\"\n",
    "res = get_recommendation(concise_context, query_get_recommendation, chain)\n",
    "print(res)"
   ]
  },
  {
   "cell_type": "code",
   "execution_count": 32,
   "metadata": {},
   "outputs": [
    {
     "name": "stdout",
     "output_type": "stream",
     "text": [
      "Based on the provided information, the following 10 students would make the best Teaching Assistant candidates for the course I&C SCI 45C:\n",
      "\n",
      "1. UUID: a57392f2-1cd9-44ec-a15e-e48e4e67cd5a\n",
      "2. UUID: 85231e67-f819-4431-9231-fe8769be7d44\n",
      "3. UUID: 5ae1e953-678e-4474-b8d0-331ed44b7435\n",
      "4. UUID: 48ec36be-a6d0-4e7c-9b86-cd2a610e70b3\n",
      "5. UUID: 72251169-337d-45bf-b1fe-46de54d2ff8c\n",
      "6. UUID: a5a9f0e8-84de-4116-858d-7b7807d6e468\n",
      "7. UUID: 68d25662-8c15-42d5-b061-ce10acdb1db8\n",
      "8. UUID: 06be6af0-d8e6-4d2a-8e4b-e3e9803388e0\n",
      "9. UUID: 3d6197b3-a5cc-4504-8c3d-46c90c83f595\n",
      "10. UUID: 1e7c76d9-f68e-4d9e-a637-f05df4f8f7db\n"
     ]
    }
   ],
   "source": [
    "# use the concise summary and query again, only with the UUID\n",
    "query_get_recommendation = \"Provided a list of students. Which 10 students would make the best Teaching assistant candidates (sort from best candidates to worst candidates) for this course\" + course_num3 + course_description3 + \", only give the UUID\"\n",
    "res = get_recommendation(concise_context, query_get_recommendation, chain)\n",
    "print(res)"
   ]
  },
  {
   "cell_type": "markdown",
   "metadata": {},
   "source": []
  }
 ],
 "metadata": {
  "kernelspec": {
   "display_name": "Python 3",
   "language": "python",
   "name": "python3"
  },
  "language_info": {
   "codemirror_mode": {
    "name": "ipython",
    "version": 3
   },
   "file_extension": ".py",
   "mimetype": "text/x-python",
   "name": "python",
   "nbconvert_exporter": "python",
   "pygments_lexer": "ipython3",
   "version": "3.10.1"
  },
  "orig_nbformat": 4
 },
 "nbformat": 4,
 "nbformat_minor": 2
}
