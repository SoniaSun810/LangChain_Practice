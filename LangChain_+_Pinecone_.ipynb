{
  "nbformat": 4,
  "nbformat_minor": 0,
  "metadata": {
    "colab": {
      "provenance": [],
      "toc_visible": true,
      "include_colab_link": true
    },
    "kernelspec": {
      "name": "python3",
      "display_name": "Python 3"
    },
    "language_info": {
      "name": "python"
    }
  },
  "cells": [
    {
      "cell_type": "markdown",
      "metadata": {
        "id": "view-in-github",
        "colab_type": "text"
      },
      "source": [
        "<a href=\"https://colab.research.google.com/github/SoniaSun810/LangChain_Practice/blob/main/LangChain_%2B_Pinecone_.ipynb\" target=\"_parent\"><img src=\"https://colab.research.google.com/assets/colab-badge.svg\" alt=\"Open In Colab\"/></a>"
      ]
    },
    {
      "cell_type": "code",
      "execution_count": null,
      "metadata": {
        "colab": {
          "base_uri": "https://localhost:8080/"
        },
        "id": "GPZsw7nNhcEY",
        "outputId": "612f1ce9-c877-43ff-8b3e-96694ba42067"
      },
      "outputs": [
        {
          "output_type": "stream",
          "name": "stdout",
          "text": [
            "\u001b[?25l     \u001b[90m━━━━━━━━━━━━━━━━━━━━━━━━━━━━━━━━━━━━━━━━\u001b[0m \u001b[32m0.0/1.2 MB\u001b[0m \u001b[31m?\u001b[0m eta \u001b[36m-:--:--\u001b[0m\r\u001b[2K     \u001b[90m━━━━━━━━━━━━━━━━━━━━━━━━━━━━━━━━━━━━━━━━\u001b[0m \u001b[32m1.2/1.2 MB\u001b[0m \u001b[31m57.0 MB/s\u001b[0m eta \u001b[36m0:00:00\u001b[0m\n",
            "\u001b[?25h\u001b[?25l     \u001b[90m━━━━━━━━━━━━━━━━━━━━━━━━━━━━━━━━━━━━━━━━\u001b[0m \u001b[32m0.0/73.6 kB\u001b[0m \u001b[31m?\u001b[0m eta \u001b[36m-:--:--\u001b[0m\r\u001b[2K     \u001b[90m━━━━━━━━━━━━━━━━━━━━━━━━━━━━━━━━━━━━━━━━\u001b[0m \u001b[32m73.6/73.6 kB\u001b[0m \u001b[31m8.4 MB/s\u001b[0m eta \u001b[36m0:00:00\u001b[0m\n",
            "\u001b[2K     \u001b[90m━━━━━━━━━━━━━━━━━━━━━━━━━━━━━━━━━━━━━━━━\u001b[0m \u001b[32m44.8/44.8 kB\u001b[0m \u001b[31m5.3 MB/s\u001b[0m eta \u001b[36m0:00:00\u001b[0m\n",
            "\u001b[2K     \u001b[90m━━━━━━━━━━━━━━━━━━━━━━━━━━━━━━━━━━━━━━━━\u001b[0m \u001b[32m90.0/90.0 kB\u001b[0m \u001b[31m10.5 MB/s\u001b[0m eta \u001b[36m0:00:00\u001b[0m\n",
            "\u001b[2K     \u001b[90m━━━━━━━━━━━━━━━━━━━━━━━━━━━━━━━━━━━━━━━━\u001b[0m \u001b[32m49.1/49.1 kB\u001b[0m \u001b[31m6.0 MB/s\u001b[0m eta \u001b[36m0:00:00\u001b[0m\n",
            "\u001b[?25h"
          ]
        }
      ],
      "source": [
        "! pip install langchain openai pymysql --upgrade -q"
      ]
    },
    {
      "cell_type": "code",
      "source": [
        "import os\n",
        "os.environ[\"OPENAI_API_KEY\"] = ''"
      ],
      "metadata": {
        "id": "rL_OzAiUCSVd"
      },
      "execution_count": null,
      "outputs": []
    },
    {
      "cell_type": "markdown",
      "source": [
        "# LangChain SQl Database Agent"
      ],
      "metadata": {
        "id": "xN6uOCRE1KGh"
      }
    },
    {
      "cell_type": "code",
      "source": [
        "from langchain.agents import create_sql_agent\n",
        "from langchain.agents.agent_toolkits import SQLDatabaseToolkit\n",
        "from langchain.sql_database import SQLDatabase\n",
        "from langchain import OpenAI\n",
        "from langchain.llms.openai import OpenAI\n",
        "from langchain.agents import AgentExecutor\n",
        "from langchain.agents.agent_types import AgentType\n",
        "from langchain.chat_models import ChatOpenAI"
      ],
      "metadata": {
        "id": "jRIiTMa9Cmcb"
      },
      "execution_count": null,
      "outputs": []
    },
    {
      "cell_type": "code",
      "source": [
        "db_user = \"admin\"\n",
        "db_password = \"MSWE-ta-project!\"\n",
        "db_host = \"aws-ta-matching.cpxfig1ppqqw.eu-north-1.rds.amazonaws.com\"\n",
        "db_name = \"TA_Matching_System\"\n",
        "db = SQLDatabase.from_uri(f\"mysql+pymysql://{db_user}:{db_password}@{db_host}/{db_name}\")"
      ],
      "metadata": {
        "id": "lCTKHUf8DIeF"
      },
      "execution_count": null,
      "outputs": []
    },
    {
      "cell_type": "code",
      "source": [
        "from langchain.chat_models import ChatOpenAI\n",
        "llm = ChatOpenAI(model_name = \"gpt-3.5-turbo\")"
      ],
      "metadata": {
        "id": "IrIl5MGSDwI9"
      },
      "execution_count": null,
      "outputs": []
    },
    {
      "cell_type": "code",
      "source": [
        "toolkit = SQLDatabaseToolkit(db = db, llm = llm)"
      ],
      "metadata": {
        "id": "viUPJBVCBIp_"
      },
      "execution_count": null,
      "outputs": []
    },
    {
      "cell_type": "code",
      "source": [
        "agent_executor = create_sql_agent(\n",
        "    llm = llm,\n",
        "    toolkit = toolkit,\n",
        "    verbose = True\n",
        ")"
      ],
      "metadata": {
        "id": "0B0A62dSBtV6"
      },
      "execution_count": null,
      "outputs": []
    },
    {
      "cell_type": "markdown",
      "source": [
        "# Pinecone + LangChain"
      ],
      "metadata": {
        "id": "zs2OJCqqtDvu"
      }
    },
    {
      "cell_type": "code",
      "source": [
        "pip install pinecone-client openai tiktoken\n",
        "pip install pinecone-client"
      ],
      "metadata": {
        "id": "hOFWz0YftJKJ"
      },
      "execution_count": null,
      "outputs": []
    },
    {
      "cell_type": "code",
      "source": [
        "import os\n",
        "#load .env file\n",
        "from dotenv import load_dotenv\n",
        "load_dotenv()\n",
        "from langchain import OpenAI\n",
        "# Access the API key\n",
        "openai_api_key = os.getenv(\"OPENAI_API_KEY\")\n",
        "pinecone_api_key = os.getenv(\"PINECONE_API_KEY\")\n",
        "pinecone_environment= os.getenv(\"PINECONE_API_ENV\")\n",
        "print(openai_api_key)\n",
        "print(pinecone_api_key)\n",
        "print(pinecone_environment)"
      ],
      "metadata": {
        "id": "hCwb3v_KtZSH"
      },
      "execution_count": null,
      "outputs": []
    },
    {
      "cell_type": "code",
      "source": [
        "#importing langChain document loaders and text processors\n",
        "from langchain.document_loaders.csv_loader import CSVLoader\n",
        "from langchain.document_loaders import TextLoader\n",
        "from langchain.text_splitter import CharacterTextSplitter\n",
        "\n",
        "loader = CSVLoader(file_path='MSWE TA Matching System Summer 2023 - Student Info(Filtered Fields).csv')\n",
        "data = loader.load()\n",
        "text_splitter = CharacterTextSplitter(chunk_size=1000,chunk_overlap=0)\n",
        "texts = text_splitter.split_documents(data)\n",
        "print(data)\n",
        "print(texts)"
      ],
      "metadata": {
        "id": "7iz0UAIxtiXR"
      },
      "execution_count": null,
      "outputs": []
    },
    {
      "cell_type": "code",
      "source": [
        "#importing pinecone packages\n",
        "from langchain.vectorstores import Chroma, Pinecone\n",
        "from langchain.embeddings.openai import OpenAIEmbeddings\n",
        "import pinecone\n",
        "from langchain.embeddings import OpenAIEmbeddings\n",
        "from langchain.agents import create_sql_agent\n",
        "from langchain.agents.agent_toolkits import SQLDatabaseToolkit\n",
        "from langchain.sql_database import SQLDatabase\n",
        "from langchain.llms.openai import OpenAI\n",
        "from langchain.agents import AgentExecutor\n",
        "from langchain.agents.agent_types import AgentType\n",
        "from langchain.chat_models import ChatOpenAI\n",
        "from langchain.chains.question_answering import load_qa_chain"
      ],
      "metadata": {
        "id": "IguHNi_ytu2s"
      },
      "execution_count": null,
      "outputs": []
    },
    {
      "cell_type": "code",
      "source": [
        "embeddings = OpenAIEmbeddings(openai_api_key=openai_api_key)"
      ],
      "metadata": {
        "id": "F3Icnxvmtx8w"
      },
      "execution_count": null,
      "outputs": []
    },
    {
      "cell_type": "code",
      "source": [
        "#initialize pinecone with api key and environment\n",
        "pinecone.init(\n",
        "    api_key= pinecone_api_key,\n",
        "    environment=pinecone_environment\n",
        ")\n",
        "index_name = \"students\""
      ],
      "metadata": {
        "id": "1wt_F5N4t0g3"
      },
      "execution_count": null,
      "outputs": []
    },
    {
      "cell_type": "code",
      "source": [
        "#recursive document search function\n",
        "docsearch = Pinecone.from_texts([t.page_content for t in texts], embeddings, index_name=index_name)"
      ],
      "metadata": {
        "id": "60Guq-yjt4mO"
      },
      "execution_count": null,
      "outputs": []
    },
    {
      "cell_type": "code",
      "source": [
        "#establishing llm and the QA Chain\n",
        "llm=ChatOpenAI(temperature=0, model=\"gpt-3.5-turbo-0613\")\n",
        "chain = load_qa_chain(llm, chain_type=\"stuff\")"
      ],
      "metadata": {
        "id": "30uHOcE_t6ll"
      },
      "execution_count": null,
      "outputs": []
    },
    {
      "cell_type": "code",
      "source": [
        "#declaring the query variable\n",
        "#declaring the docs variable\n",
        "query = \"Which 5 students are suitable Teaching assistant candidates for this course: I&C SCI 9\tIntroduction to Computation for Scientists and Engineers\tIntroduces principles, techniques, and computational tools for quantitative approach to basic problem solving in physics and engineering. Pre-requisites: MATH 2A or AP Calculus AB or AP Calculus BC. Overlaps: Physics 2 \"\n",
        "docs = docsearch.similarity_search(query)"
      ],
      "metadata": {
        "id": "782EwbhJuUkQ"
      },
      "execution_count": null,
      "outputs": []
    },
    {
      "cell_type": "code",
      "source": [
        "#running the chain and passing parameters: the input and the question\n",
        "chain.run(input_documents=docs, question=query)"
      ],
      "metadata": {
        "id": "SYH2bXf_uai9"
      },
      "execution_count": null,
      "outputs": []
    }
  ]
}